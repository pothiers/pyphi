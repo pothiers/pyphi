{
 "cells": [
  {
   "cell_type": "markdown",
   "metadata": {},
   "source": [
    "# How do our data-structures scale?"
   ]
  },
  {
   "cell_type": "code",
   "execution_count": 1,
   "metadata": {},
   "outputs": [],
   "source": [
    "import numpy as np\n",
    "import pandas as pd\n",
    "from IPython.display import Image\n",
    "import networkx as nx\n",
    "import matplotlib.pyplot as plt\n",
    "from collections import Counter\n",
    "import functools, operator, random, itertools\n",
    "from statistics import mean\n",
    "\n",
    "import pyphi\n",
    "from pyphi.examples import basic_noisy_selfloop_network\n",
    "import pyphi.data_models as dm  # Prototype code"
   ]
  },
  {
   "cell_type": "code",
   "execution_count": 3,
   "metadata": {
    "scrolled": true
   },
   "outputs": [
    {
     "name": "stdout",
     "output_type": "stream",
     "text": [
      "\n",
      "8 # number of Nodes\n",
      "4 # maximum number of Connections from a node\n",
      "3 # number of States per node\n",
      "\n"
     ]
    }
   ],
   "source": [
    "nn = list('ABCDEFGHIJKLMNOPQRSTUVWXYZabcdefghijklmnopqrstuvwxyz') # for node names\n",
    "\n",
    "N = 8 # number of Nodes in system\n",
    "D = 4 # Degree; number of connections from a node to downstream nodes\n",
    "S = 3 # number of States per node\n",
    "\n",
    "labels = nn[:N]\n",
    "nodes = [(l,S) for l in labels] # node (Label, NumStates)\n",
    "\n",
    "print(f'''\n",
    "{N} # number of Nodes\n",
    "{D} # maximum number of Connections from a node\n",
    "{S} # number of States per node\n",
    "''')\n",
    "# {labels} # node labels"
   ]
  },
  {
   "cell_type": "code",
   "execution_count": 4,
   "metadata": {},
   "outputs": [
    {
     "name": "stdout",
     "output_type": "stream",
     "text": [
      "degree=1.75\n",
      "edges=[(2, 0), (2, 7), (3, 5), (5, 0), (5, 7), (6, 1), (7, 3)]\n",
      "n_list=[0, 1, 2, 3, 5, 6, 7]\n"
     ]
    }
   ],
   "source": [
    "G = nx.gnp_random_graph(N, .1, directed=True) # num_nodes, prob_edge\n",
    "print(f'degree={mean([d for n,d in G.degree])}')\n",
    "edges = list(G.edges())\n",
    "# edges = [(0,1),(0,2),(1,3),(2,3),(3,0)]\n",
    "print(f'edges={edges}')\n",
    "net = dm.Net(edges=edges)"
   ]
  },
  {
   "cell_type": "code",
   "execution_count": 7,
   "metadata": {},
   "outputs": [
    {
     "data": {
      "image/png": "[encoded data removed]",
      "text/plain": [
       "<Figure size 432x288 with 1 Axes>"
      ]
     },
     "metadata": {},
     "output_type": "display_data"
    }
   ],
   "source": [
    "#Image(filename=png, width=500)\n",
    "nx.draw(G,with_labels=True)"
   ]
  },
  {
   "cell_type": "code",
   "execution_count": 5,
   "metadata": {},
   "outputs": [
    {
     "data": {
      "text/plain": [
       "CM(7f57bc97fda): (8, 8) labels: ['A', 'B', 'C', 'D', 'E', 'F', 'G', 'H'], ['A', 'B', 'C', 'D', 'E', 'F', 'G', 'H']"
      ]
     },
     "execution_count": 5,
     "metadata": {},
     "output_type": "execute_result"
    }
   ],
   "source": [
    "am = np.zeros((N,N))\n",
    "cm = dm.CM(am=am, in_nodes=labels, out_nodes=labels)\n",
    "cm"
   ]
  },
  {
   "cell_type": "code",
   "execution_count": 6,
   "metadata": {
    "scrolled": true
   },
   "outputs": [
    {
     "ename": "NameError",
     "evalue": "name 'C' is not defined",
     "output_type": "error",
     "traceback": [
      "---------------------------------------------------------------------------",
      "NameError                                 Traceback (most recent call last)",
      "<ipython-input-6-39d8f0abafb2> in <module>\n      1 # Create random associations from each node to C others\n----> 2 for r in labels: cm.df.loc[r,random.sample(labels,C)] = 1\n      3 for r in labels: cm.df.loc[r,r] = 0 # remove self edges\n      4 png=f'C_{C}.png'\n      5 G = cm.graph(pngfile=png)\n",
      "NameError: name 'C' is not defined"
     ]
    }
   ],
   "source": [
    "# Create random associations from each node to C others\n",
    "for r in labels: cm.df.loc[r,random.sample(labels,C)] = 1\n",
    "for r in labels: cm.df.loc[r,r] = 0 # remove self edges\n",
    "png=f'C_{C}.png'\n",
    "G = cm.graph(pngfile=png)\n",
    "cm.df"
   ]
  },
  {
   "cell_type": "code",
   "execution_count": null,
   "metadata": {},
   "outputs": [],
   "source": [
    "p=np.random.random((S**N,S**N))\n",
    "tp = dm.TransProb(in_nodes=nodes,out_nodes=nodes,probabilities=p)\n",
    "tp.df  # state-to-state Transition Probabilities"
   ]
  },
  {
   "cell_type": "code",
   "execution_count": null,
   "metadata": {},
   "outputs": [],
   "source": [
    "net = dm.Network(tp=tp, cm=cm)\n",
    "print(net)"
   ]
  },
  {
   "cell_type": "code",
   "execution_count": null,
   "metadata": {},
   "outputs": [],
   "source": []
  }
 ],
 "metadata": {
  "kernelspec": {
   "display_name": "Python 3",
   "language": "python",
   "name": "python3"
  },
  "language_info": {
   "codemirror_mode": {
    "name": "ipython",
    "version": 3
   },
   "file_extension": ".py",
   "mimetype": "text/x-python",
   "name": "python",
   "nbconvert_exporter": "python",
   "pygments_lexer": "ipython3",
   "version": "3.6.9"
  }
 },
 "nbformat": 4,
 "nbformat_minor": 4
}
