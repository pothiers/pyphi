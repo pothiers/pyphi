{
 "cells": [
  {
   "cell_type": "code",
   "execution_count": 1,
   "metadata": {
    "scrolled": true
   },
   "outputs": [],
   "source": [
    "from random import choice\n",
    "from collections import Counter\n",
    "\n",
    "import matplotlib.pyplot as plt\n",
    "import networkx as nx\n",
    "\n",
    "import pyphi.data_models as dm\n",
    "import pyphi.zap_tc as ztc"
   ]
  },
  {
   "cell_type": "code",
   "execution_count": 2,
   "metadata": {},
   "outputs": [
    {
     "data": {
      "text/html": [
       "<div>\n",
       "<style scoped>\n",
       "    .dataframe tbody tr th:only-of-type {\n",
       "        vertical-align: middle;\n",
       "    }\n",
       "\n",
       "    .dataframe tbody tr th {\n",
       "        vertical-align: top;\n",
       "    }\n",
       "\n",
       "    .dataframe thead th {\n",
       "        text-align: right;\n",
       "    }\n",
       "</style>\n",
       "<table border=\"1\" class=\"dataframe\">\n",
       "  <thead>\n",
       "    <tr style=\"text-align: right;\">\n",
       "      <th></th>\n",
       "      <th>A</th>\n",
       "      <th>B</th>\n",
       "      <th>C</th>\n",
       "      <th>D</th>\n",
       "    </tr>\n",
       "  </thead>\n",
       "  <tbody>\n",
       "    <tr>\n",
       "      <th>A</th>\n",
       "      <td>0</td>\n",
       "      <td>1</td>\n",
       "      <td>1</td>\n",
       "      <td>0</td>\n",
       "    </tr>\n",
       "    <tr>\n",
       "      <th>B</th>\n",
       "      <td>0</td>\n",
       "      <td>0</td>\n",
       "      <td>0</td>\n",
       "      <td>1</td>\n",
       "    </tr>\n",
       "    <tr>\n",
       "      <th>C</th>\n",
       "      <td>0</td>\n",
       "      <td>0</td>\n",
       "      <td>0</td>\n",
       "      <td>1</td>\n",
       "    </tr>\n",
       "    <tr>\n",
       "      <th>D</th>\n",
       "      <td>1</td>\n",
       "      <td>0</td>\n",
       "      <td>0</td>\n",
       "      <td>0</td>\n",
       "    </tr>\n",
       "  </tbody>\n",
       "</table>\n",
       "</div>"
      ],
      "text/plain": [
       "   A  B  C  D\n",
       "A  0  1  1  0\n",
       "B  0  0  0  1\n",
       "C  0  0  0  1\n",
       "D  1  0  0  0"
      ]
     },
     "execution_count": 2,
     "metadata": {},
     "output_type": "execute_result"
    }
   ],
   "source": [
    "am = [[0, 1, 1, 0],\n",
    "      [0, 0, 0, 1],\n",
    "      [0, 0, 0, 1],\n",
    "      [1, 0, 0, 0]]\n",
    "cm = dm.CM(am=am, node_labels=list('ABCD'))\n",
    "cm.df"
   ]
  },
  {
   "cell_type": "code",
   "execution_count": 3,
   "metadata": {},
   "outputs": [
    {
     "data": {
      "image/png": "[encoded data removed]",
      "text/plain": [
       "<Figure size 432x288 with 1 Axes>"
      ]
     },
     "metadata": {},
     "output_type": "display_data"
    }
   ],
   "source": [
    "G = cm.graph()\n",
    "nx.draw(G, with_labels=True)"
   ]
  },
  {
   "cell_type": "code",
   "execution_count": 4,
   "metadata": {},
   "outputs": [],
   "source": [
    "tc = Counter()"
   ]
  },
  {
   "cell_type": "code",
   "execution_count": 5,
   "metadata": {},
   "outputs": [
    {
     "data": {
      "text/plain": [
       "Counter({('1101', '1111'): 1})"
      ]
     },
     "execution_count": 5,
     "metadata": {},
     "output_type": "execute_result"
    }
   ],
   "source": [
    "tc.update([('1101','1111')])\n",
    "tc"
   ]
  },
  {
   "cell_type": "code",
   "execution_count": 6,
   "metadata": {},
   "outputs": [],
   "source": [
    "ztc.zap_tc(cm, 'A',1,'0000',14)"
   ]
  },
  {
   "cell_type": "code",
   "execution_count": 7,
   "metadata": {
    "scrolled": true
   },
   "outputs": [
    {
     "data": {
      "text/plain": [
       "Counter({('1000', '1000'): 8,\n",
       "         ('1000', '1001'): 4,\n",
       "         ('1001', '1001'): 12,\n",
       "         ('1001', '1000'): 4,\n",
       "         ('1000', '0000'): 3,\n",
       "         ('0000', '0100'): 1,\n",
       "         ('0100', '0100'): 1,\n",
       "         ('0100', '1100'): 1,\n",
       "         ('1100', '1000'): 1,\n",
       "         ('0000', '0110'): 1,\n",
       "         ('0110', '0110'): 5,\n",
       "         ('0100', '0101'): 1,\n",
       "         ('0101', '1101'): 1,\n",
       "         ('1101', '1001'): 1,\n",
       "         ('1001', '1101'): 2,\n",
       "         ('1101', '1100'): 4,\n",
       "         ('1001', '1111'): 2,\n",
       "         ('1111', '1111'): 7,\n",
       "         ('0000', '0010'): 1,\n",
       "         ('0010', '0010'): 2,\n",
       "         ('0010', '1010'): 1,\n",
       "         ('1010', '1110'): 1,\n",
       "         ('1110', '1110'): 2,\n",
       "         ('0010', '0011'): 3,\n",
       "         ('0011', '1011'): 1,\n",
       "         ('1011', '1011'): 6,\n",
       "         ('1011', '1010'): 2,\n",
       "         ('1111', '0111'): 1,\n",
       "         ('0111', '0011'): 1,\n",
       "         ('0011', '0011'): 2,\n",
       "         ('0011', '0010'): 2,\n",
       "         ('1111', '1110'): 1,\n",
       "         ('1100', '1100'): 2,\n",
       "         ('1100', '1010'): 2,\n",
       "         ('1010', '1010'): 10,\n",
       "         ('1010', '0010'): 2,\n",
       "         ('0010', '0110'): 1,\n",
       "         ('0110', '1110'): 1,\n",
       "         ('1110', '1100'): 1,\n",
       "         ('1100', '1101'): 2,\n",
       "         ('0110', '0000'): 1,\n",
       "         ('0000', '0000'): 2,\n",
       "         ('1010', '1011'): 5,\n",
       "         ('1011', '1001'): 1,\n",
       "         ('1010', '1000'): 1,\n",
       "         ('1001', '0001'): 1,\n",
       "         ('0001', '0011'): 1,\n",
       "         ('1000', '1010'): 1,\n",
       "         ('1011', '0011'): 1,\n",
       "         ('0011', '0101'): 1,\n",
       "         ('0101', '0101'): 1,\n",
       "         ('0101', '0100'): 1})"
      ]
     },
     "execution_count": 7,
     "metadata": {},
     "output_type": "execute_result"
    }
   ],
   "source": [
    "ztc.transition_counter"
   ]
  },
  {
   "cell_type": "code",
   "execution_count": 8,
   "metadata": {},
   "outputs": [
    {
     "data": {
      "text/plain": [
       "OutEdgeView([('A', 'B'), ('A', 'C'), ('B', 'D'), ('C', 'D'), ('D', 'A')])"
      ]
     },
     "execution_count": 8,
     "metadata": {},
     "output_type": "execute_result"
    }
   ],
   "source": [
    "G.edges"
   ]
  },
  {
   "cell_type": "code",
   "execution_count": 9,
   "metadata": {},
   "outputs": [
    {
     "data": {
      "text/plain": [
       "['B', 'C']"
      ]
     },
     "execution_count": 9,
     "metadata": {},
     "output_type": "execute_result"
    }
   ],
   "source": [
    "list(G.neighbors('A'))"
   ]
  },
  {
   "cell_type": "code",
   "execution_count": 10,
   "metadata": {},
   "outputs": [
    {
     "data": {
      "text/plain": [
       "{'A': 0, 'B': 1, 'C': 2, 'D': 3}"
      ]
     },
     "execution_count": 10,
     "metadata": {},
     "output_type": "execute_result"
    }
   ],
   "source": [
    "dict((l,i) for (i,l) in enumerate(cm.node_labels))"
   ]
  },
  {
   "cell_type": "code",
   "execution_count": 11,
   "metadata": {},
   "outputs": [
    {
     "ename": "AttributeError",
     "evalue": "'CM' object has no attribute 'foo'",
     "output_type": "error",
     "traceback": [
      "---------------------------------------------------------------------------",
      "AttributeError                            Traceback (most recent call last)",
      "<ipython-input-11-665882827bda> in <module>\n----> 1 cm.foo\n",
      "AttributeError: 'CM' object has no attribute 'foo'"
     ]
    }
   ],
   "source": [
    "cm.foo"
   ]
  },
  {
   "cell_type": "code",
   "execution_count": null,
   "metadata": {},
   "outputs": [],
   "source": [
    "cm.foo = 3"
   ]
  },
  {
   "cell_type": "code",
   "execution_count": null,
   "metadata": {},
   "outputs": [],
   "source": [
    "cm.foo"
   ]
  },
  {
   "cell_type": "code",
   "execution_count": null,
   "metadata": {},
   "outputs": [],
   "source": [
    "ss = 'ABCD'"
   ]
  },
  {
   "cell_type": "code",
   "execution_count": null,
   "metadata": {},
   "outputs": [],
   "source": [
    "ss"
   ]
  },
  {
   "cell_type": "code",
   "execution_count": null,
   "metadata": {},
   "outputs": [],
   "source": [
    "ss[2]='x'"
   ]
  },
  {
   "cell_type": "code",
   "execution_count": null,
   "metadata": {},
   "outputs": [],
   "source": []
  }
 ],
 "metadata": {
  "kernelspec": {
   "display_name": "Python 3",
   "language": "python",
   "name": "python3"
  },
  "language_info": {
   "codemirror_mode": {
    "name": "ipython",
    "version": 3
   },
   "file_extension": ".py",
   "mimetype": "text/x-python",
   "name": "python",
   "nbconvert_exporter": "python",
   "pygments_lexer": "ipython3",
   "version": "3.6.9"
  }
 },
 "nbformat": 4,
 "nbformat_minor": 4
}
