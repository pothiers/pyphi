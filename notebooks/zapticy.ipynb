{
 "cells": [
  {
   "cell_type": "markdown",
   "metadata": {},
   "source": [
    "# Zaptc (\"zapticy\")\n",
    "Perturb the state of a node. Propagate potential node state changes downstream. Count the number of every (state0,state1) system-state transition as the network is walked.  Walk for a given number of time-steps. At each node the propagation spreads to all of its downstream nodes.\n",
    "\n",
    "### Table of Contents <a id=toc>\n",
    "* [Imports and setup](#init)\n",
    "* [Create graph](#creategraph)\n",
    "* [Run Zaptc](#zaptc)\n",
    "* [Explore results](#results)"
   ]
  },
  {
   "cell_type": "markdown",
   "metadata": {},
   "source": [
    "## Imports and setup <a id=init>"
   ]
  },
  {
   "cell_type": "code",
   "execution_count": 1,
   "metadata": {
    "scrolled": true
   },
   "outputs": [],
   "source": [
    "from random import choice\n",
    "from collections import Counter\n",
    "from statistics import mean\n",
    "\n",
    "import matplotlib.pyplot as plt\n",
    "import networkx as nx\n",
    "from networkx.drawing.nx_pydot import graphviz_layout, pydot_layout\n",
    "import numpy as np\n",
    "\n",
    "import pyphi.data_models as dm\n",
    "from pyphi.zap_tc import Zaptc"
   ]
  },
  {
   "cell_type": "code",
   "execution_count": 2,
   "metadata": {},
   "outputs": [
    {
     "name": "stdout",
     "output_type": "stream",
     "text": [
      "\n",
      "20\t# number of Nodes\n",
      "3\t# maximum number of Connections from a node\n",
      "2\t# number of States per node\n",
      "0.15\t# probability of edge creation for each node pairing\n",
      "\n",
      "59,049\t# average nodes changed as a result of propagation fan-out fron single node\n",
      "\n"
     ]
    }
   ],
   "source": [
    "N = 20 # number of Nodes in system\n",
    "D = 3  # Degree; average number of connections from a node to downstream nodes\n",
    "S = 2  # number of States per node\n",
    "T = 10 # number of time steps to follow transitions\n",
    "\n",
    "p = D/N\n",
    "\n",
    "print(f'''\n",
    "{N}\\t# number of Nodes\n",
    "{D}\\t# maximum number of Connections from a node\n",
    "{S}\\t# number of States per node\n",
    "{p}\\t# probability of edge creation for each node pairing\n",
    "\n",
    "{D**10:,}\\t# average nodes changed as a result of propagation fan-out fron single node\n",
    "''')\n",
    "# {labels} # node labels"
   ]
  },
  {
   "cell_type": "markdown",
   "metadata": {},
   "source": [
    "## Create graph <a id=creategraph>"
   ]
  },
  {
   "cell_type": "code",
   "execution_count": 3,
   "metadata": {
    "scrolled": true
   },
   "outputs": [
    {
     "ename": "KeyError",
     "evalue": "19",
     "output_type": "error",
     "traceback": [
      "---------------------------------------------------------------------------",
      "KeyError                                  Traceback (most recent call last)",
      "<ipython-input-3-ed884131c815> in <module>\n      2 G = nx.gnp_random_graph(N, p, directed=True) # num_nodes, prob_edge\n      3 edges = list(G.edges())\n----> 4 net = dm.Net(edges=edges)\n      5 \n      6 #Image(filename=png, width=500)\n",
      "~/sandbox/pyphi/pyphi/data_models.py in __init__(self, edges, N, graph, SpN, title, func)\n    701         G.add_nodes_from(self.node_lut.keys())\n    702         if edges is not None:\n--> 703             G.add_edges_from([(invlut[i],invlut[j]) for (i,j) in edges])\n    704         self.graph = G\n    705         self.graph.name = title\n",
      "~/sandbox/pyphi/pyphi/data_models.py in <listcomp>(.0)\n    701         G.add_nodes_from(self.node_lut.keys())\n    702         if edges is not None:\n--> 703             G.add_edges_from([(invlut[i],invlut[j]) for (i,j) in edges])\n    704         self.graph = G\n    705         self.graph.name = title\n",
      "KeyError: 19"
     ]
    }
   ],
   "source": [
    "#g = nx.gnp_random_graph(60, 0.10, directed=True) # num_nodes, prob_edge\n",
    "G = nx.gnp_random_graph(N, p, directed=True) # num_nodes, prob_edge\n",
    "edges = list(G.edges())\n",
    "net = dm.Net(edges=edges)\n",
    "\n",
    "#Image(filename=png, width=500)\n",
    "#nx.draw(net.graph, pos=pydot_layout(net.graph), with_labels=True, label='gnp_random_graph({N},{p})')\n",
    "net.draw()"
   ]
  },
  {
   "cell_type": "code",
   "execution_count": null,
   "metadata": {},
   "outputs": [],
   "source": [
    "p = 23  # myst be prime\n",
    "G = nx.chordal_cycle_graph(p) # an Expander graph\n",
    "edges = list(G.edges())\n",
    "net = dm.Net(edges=edges)\n",
    "\n",
    "net.draw()"
   ]
  },
  {
   "cell_type": "code",
   "execution_count": null,
   "metadata": {},
   "outputs": [],
   "source": [
    "print(nx.info(net.graph))\n",
    "\n",
    "label0 = sorted(net.graph.nodes())[0]\n",
    "print()\n",
    "print(f'label0=\"{label0}\"')\n",
    "print(f'Downstream nodes of {label0} = {list(net.graph.neighbors(label0))}')"
   ]
  },
  {
   "cell_type": "markdown",
   "metadata": {},
   "source": [
    "### Change some individual nodes "
   ]
  },
  {
   "cell_type": "markdown",
   "metadata": {},
   "source": [
    "#### Add a state to node A (disabled)"
   ]
  },
  {
   "cell_type": "raw",
   "metadata": {},
   "source": [
    "print(f\"before:{net.node_lut[label0].states}\")\n",
    "net.node_lut['A'].num_states += 1\n",
    "print(f\"after:{net.node_lut[label0].states}\")"
   ]
  },
  {
   "cell_type": "markdown",
   "metadata": {},
   "source": [
    "#### Set node B to single state (disabled)"
   ]
  },
  {
   "cell_type": "raw",
   "metadata": {},
   "source": [
    "net.node_lut['B'].num_states = 1\n",
    "print(f\"after:{net.node_lut['B'].states}\")"
   ]
  },
  {
   "cell_type": "markdown",
   "metadata": {},
   "source": [
    "## Run Zaptc <a id=zaptc>"
   ]
  },
  {
   "cell_type": "code",
   "execution_count": null,
   "metadata": {},
   "outputs": [],
   "source": [
    "ztc = Zaptc(net=net)\n",
    "ztc"
   ]
  },
  {
   "cell_type": "code",
   "execution_count": null,
   "metadata": {},
   "outputs": [],
   "source": [
    "len(ztc.net)"
   ]
  },
  {
   "cell_type": "code",
   "execution_count": null,
   "metadata": {},
   "outputs": [],
   "source": [
    "list(ztc.net.successors(label0))"
   ]
  },
  {
   "cell_type": "code",
   "execution_count": null,
   "metadata": {},
   "outputs": [],
   "source": [
    "list(ztc.net.get_node('A').states)"
   ]
  },
  {
   "cell_type": "code",
   "execution_count": null,
   "metadata": {
    "scrolled": true
   },
   "outputs": [],
   "source": [
    "start_state = '0'*len(ztc.net)\n",
    "print(f'start_state = \"{start_state}\", start_label=\"{label0}\"\\n')\n",
    "%time ztc.zap_tc(label0, start_state, T)"
   ]
  },
  {
   "cell_type": "markdown",
   "metadata": {},
   "source": [
    "## Results <a id=results>"
   ]
  },
  {
   "cell_type": "code",
   "execution_count": null,
   "metadata": {},
   "outputs": [],
   "source": [
    "print(nx.info(net.graph))"
   ]
  },
  {
   "cell_type": "code",
   "execution_count": null,
   "metadata": {},
   "outputs": [],
   "source": [
    "nstates = len(set([s1 for s1,s2 in ztc.transition_counter.keys()]).intersection([s2 for s1,s2 in ztc.transition_counter.keys()]))\n",
    "print(f'Number of unique transitions = {len(ztc.transition_counter)}')\n",
    "print(f'total transitions = {sum(ztc.transition_counter.values())}')\n",
    "print(f'num system-states = {nstates}')\n",
    "# state_list"
   ]
  },
  {
   "cell_type": "raw",
   "metadata": {},
   "source": [
    "Gs = nx.DiGraph(list(ztc.transition_counter.keys()))\n",
    "nx.draw(Gs,with_labels=True)\n",
    "len(Gs)"
   ]
  },
  {
   "cell_type": "code",
   "execution_count": null,
   "metadata": {},
   "outputs": [],
   "source": [
    "print(f'{len(ztc.transition_counter):,}\\tUnique transitions observed')"
   ]
  },
  {
   "cell_type": "code",
   "execution_count": null,
   "metadata": {},
   "outputs": [],
   "source": [
    "%time ztc.zapall(T)"
   ]
  },
  {
   "cell_type": "code",
   "execution_count": null,
   "metadata": {},
   "outputs": [],
   "source": [
    "instates = set(s1 for s1,s2 in ztc.transition_counter.keys())\n",
    "outstates = set(s2 for s1,s2 in ztc.transition_counter.keys())\n",
    "#nstates = len(instates.union(outstates))\n",
    "maxnstates = S**len(ztc.net)\n",
    "print(f'''\n",
    "{len(instates):,}  \\t Number of IN  states encountered\n",
    "{len(outstates):,} \\t Number of OUT  states encountered\n",
    "\n",
    "\n",
    "{len(instates-outstates):,}  \\t Number of IN-OUT states encountered\n",
    "{len(outstates-instates):,}  \\t Number of OUT-IN states encountered\n",
    "{len(outstates&instates):,}  \\t Number of COMMON (in/out) states encountered\n",
    "=======\n",
    "{len(outstates|instates):,}  \\t Number of COMBINED (in/out) states encountered\n",
    "\n",
    "{maxnstates:,}\\t Number of possible states\n",
    "\n",
    "{len(instates)*len(outstates):,} \\t Values needed for rectangular TPM \n",
    "{len(ztc.transition_counter):,}\\t\\t Unique transitions observed (compare to rectangular TPM size)\n",
    "{sum(ztc.transition_counter.values()):,}\\t TOTAL transitions observed\n",
    "\n",
    "{maxnstates**2:,}\\t Number of POSSIBLE transitions\n",
    "''')"
   ]
  },
  {
   "cell_type": "code",
   "execution_count": null,
   "metadata": {},
   "outputs": [],
   "source": [
    "ztc.transition_counter"
   ]
  },
  {
   "cell_type": "code",
   "execution_count": null,
   "metadata": {},
   "outputs": [],
   "source": [
    "ztc.tpm_sbn"
   ]
  },
  {
   "cell_type": "code",
   "execution_count": null,
   "metadata": {},
   "outputs": [],
   "source": [
    "ztc.net.nodes"
   ]
  },
  {
   "cell_type": "code",
   "execution_count": null,
   "metadata": {},
   "outputs": [],
   "source": [
    "list(G.edges.items())[0]"
   ]
  },
  {
   "cell_type": "code",
   "execution_count": null,
   "metadata": {},
   "outputs": [],
   "source": [
    "len(net.nodes)"
   ]
  },
  {
   "cell_type": "code",
   "execution_count": null,
   "metadata": {},
   "outputs": [],
   "source": [
    "ztc.tpm_sbn()"
   ]
  },
  {
   "cell_type": "code",
   "execution_count": null,
   "metadata": {},
   "outputs": [],
   "source": []
  }
 ],
 "metadata": {
  "kernelspec": {
   "display_name": "Python 3",
   "language": "python",
   "name": "python3"
  },
  "language_info": {
   "codemirror_mode": {
    "name": "ipython",
    "version": 3
   },
   "file_extension": ".py",
   "mimetype": "text/x-python",
   "name": "python",
   "nbconvert_exporter": "python",
   "pygments_lexer": "ipython3",
   "version": "3.6.9"
  }
 },
 "nbformat": 4,
 "nbformat_minor": 4
}
