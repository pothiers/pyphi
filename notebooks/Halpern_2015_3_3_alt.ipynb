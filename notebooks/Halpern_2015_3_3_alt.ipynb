{
 "cells": [
  {
   "cell_type": "markdown",
   "metadata": {},
   "source": [
    "[next up](#here)"
   ]
  },
  {
   "cell_type": "code",
   "execution_count": 1,
   "metadata": {},
   "outputs": [],
   "source": [
    "import numpy as np\n",
    "import pandas as pd\n",
    "\n",
    "import pyphi.data_models as dm  # Prototype code\n",
    "from pyphi.convert import sbs2sbn, sbn2sbs      \n",
    "\n",
    "import pyphi\n",
    "import numpy as np\n",
    "from pprint import pprint\n",
    "\n",
    "pyphi.config.PARTITION_TYPE = 'ALL'\n",
    "pyphi.config.PICK_SMALLEST_PURVIEW = True\n",
    "pyphi.config.VALIDATE_SUBSYSTEM_STATES = False\n",
    "\n",
    "# Suppose that a prisoner dies either if A loads B’s gun and B shoots, or if C loads and shoots his gun.\n",
    "# D = (A and B) or C\n",
    "# Most intersting state: 101 -> 1. Here they don't want to say that A was a cause of D.\n",
    "\n",
    "# Constants\n",
    "# ============================================================================\n",
    "#! NODES = 4\n",
    "#! States = 2**NODES\n",
    "\n",
    "#INI_STATE = (1, 0, 1, 1)\n",
    "#cm0 = np.array([\n",
    "#    [0, 0, 0, 1],\n",
    "#    [0, 0, 0, 1],\n",
    "#    [0, 0, 0, 1],\n",
    "#    [0, 0, 0, 0]\n",
    "#])"
   ]
  },
  {
   "cell_type": "code",
   "execution_count": 2,
   "metadata": {},
   "outputs": [
    {
     "data": {
      "image/png": "[encoded data removed]",
      "text/plain": [
       "<Figure size 432x288 with 1 Axes>"
      ]
     },
     "metadata": {},
     "output_type": "display_data"
    }
   ],
   "source": [
    "INI_STATE ='1010'\n",
    "edges = [(0,3),(1,3),(2,3)]\n",
    "net = dm.Net(edges=edges, SpN=2)\n",
    "net.draw()\n",
    "#print(f'Self-loops do not plot.  Actual edges = {[(i,j) for i,j in net.graph.edges()]}')"
   ]
  },
  {
   "cell_type": "code",
   "execution_count": 3,
   "metadata": {},
   "outputs": [
    {
     "data": {
      "text/plain": [
       "['A', 'B', 'C', 'D']"
      ]
     },
     "execution_count": 3,
     "metadata": {},
     "output_type": "execute_result"
    }
   ],
   "source": [
    "list(net.graph)"
   ]
  },
  {
   "cell_type": "code",
   "execution_count": 4,
   "metadata": {},
   "outputs": [
    {
     "name": "stdout",
     "output_type": "stream",
     "text": [
      "ps=1010 cs=1011\n"
     ]
    }
   ],
   "source": [
    "# Functions\n",
    "# ============================================================================\n",
    "def node_logic(*in_states):  # MODIFIED for v2 -sp-\n",
    "    out_state = (in_states[0] and in_states[1]) or in_states[2]\n",
    "    return out_state\n",
    "\n",
    "net.get_node('D').func = node_logic\n",
    "net.get_node('A').num_states = 3 # just to prove we can!\n",
    "ps = INI_STATE #  Past State\n",
    "cs = net.states.next_state(ps) # Current State\n",
    "print(f'ps={ps} cs={cs}')"
   ]
  },
  {
   "cell_type": "markdown",
   "metadata": {},
   "source": [
    "## TPM  \n",
    "The mapping from the states of 3 input nodes (A,B,C) to the state of one output node (D) is done by a func of N args (\"node_logic\") attached to node D."
   ]
  },
  {
   "cell_type": "code",
   "execution_count": 5,
   "metadata": {},
   "outputs": [
    {
     "data": {
      "text/html": [
       "<div>\n",
       "<style scoped>\n",
       "    .dataframe tbody tr th:only-of-type {\n",
       "        vertical-align: middle;\n",
       "    }\n",
       "\n",
       "    .dataframe tbody tr th {\n",
       "        vertical-align: top;\n",
       "    }\n",
       "\n",
       "    .dataframe thead th {\n",
       "        text-align: right;\n",
       "    }\n",
       "</style>\n",
       "<table border=\"1\" class=\"dataframe\">\n",
       "  <thead>\n",
       "    <tr style=\"text-align: right;\">\n",
       "      <th></th>\n",
       "      <th>0</th>\n",
       "      <th>1</th>\n",
       "    </tr>\n",
       "  </thead>\n",
       "  <tbody>\n",
       "    <tr>\n",
       "      <th>000</th>\n",
       "      <td>0.688935</td>\n",
       "      <td>0.401770</td>\n",
       "    </tr>\n",
       "    <tr>\n",
       "      <th>001</th>\n",
       "      <td>1.000000</td>\n",
       "      <td>2.000000</td>\n",
       "    </tr>\n",
       "    <tr>\n",
       "      <th>010</th>\n",
       "      <td>0.099755</td>\n",
       "      <td>0.582256</td>\n",
       "    </tr>\n",
       "    <tr>\n",
       "      <th>011</th>\n",
       "      <td>0.864756</td>\n",
       "      <td>0.186508</td>\n",
       "    </tr>\n",
       "    <tr>\n",
       "      <th>100</th>\n",
       "      <td>0.507220</td>\n",
       "      <td>0.862998</td>\n",
       "    </tr>\n",
       "    <tr>\n",
       "      <th>101</th>\n",
       "      <td>0.620458</td>\n",
       "      <td>0.905258</td>\n",
       "    </tr>\n",
       "    <tr>\n",
       "      <th>110</th>\n",
       "      <td>0.882702</td>\n",
       "      <td>0.462260</td>\n",
       "    </tr>\n",
       "    <tr>\n",
       "      <th>111</th>\n",
       "      <td>0.515481</td>\n",
       "      <td>0.891596</td>\n",
       "    </tr>\n",
       "  </tbody>\n",
       "</table>\n",
       "</div>"
      ],
      "text/plain": [
       "            0         1\n",
       "000  0.688935  0.401770\n",
       "001  1.000000  2.000000\n",
       "010  0.099755  0.582256\n",
       "011  0.864756  0.186508\n",
       "100  0.507220  0.862998\n",
       "101  0.620458  0.905258\n",
       "110  0.882702  0.462260\n",
       "111  0.515481  0.891596"
      ]
     },
     "execution_count": 5,
     "metadata": {},
     "output_type": "execute_result"
    }
   ],
   "source": [
    "probs = np.array([[0.68893508, 0.40176953],\n",
    "                      [0.44095309, 0.84035902],\n",
    "                      [0.09975545, 0.58225631],\n",
    "                      [0.86475645, 0.18650795],\n",
    "                      [0.50721989, 0.86299773],\n",
    "                      [0.62045787, 0.90525779],\n",
    "                      [0.88270204, 0.46225991],\n",
    "                      [0.51548114, 0.89159624]])\n",
    "tpm = dm.TransProb(in_nodes=list('ABC'), out_nodes=list('D'), probabilities=probs)\n",
    "#tpm.df.loc[:,:] = 9\n",
    "tpm.df.loc['001',:] = [1,2]\n",
    "tpm.df"
   ]
  },
  {
   "cell_type": "code",
   "execution_count": 6,
   "metadata": {},
   "outputs": [
    {
     "data": {
      "text/plain": [
       "{'A': 0, 'B': 1, 'C': 2, 'D': 3}"
      ]
     },
     "execution_count": 6,
     "metadata": {},
     "output_type": "execute_result"
    }
   ],
   "source": [
    "net.node_lut"
   ]
  },
  {
   "cell_type": "markdown",
   "metadata": {},
   "source": [
    "#### For All possible states, run mechanisms to get next state\n",
    "Nodes default to noop mechanism. Node D set to node_logic. Three states for A."
   ]
  },
  {
   "cell_type": "code",
   "execution_count": 7,
   "metadata": {},
   "outputs": [
    {
     "data": {
      "text/plain": [
       "[('0000', '0000'),\n",
       " ('0001', '0000'),\n",
       " ('0010', '0011'),\n",
       " ('0011', '0011'),\n",
       " ('0100', '0100'),\n",
       " ('0101', '0100'),\n",
       " ('0110', '0111'),\n",
       " ('0111', '0111'),\n",
       " ('1000', '1000'),\n",
       " ('1001', '1000'),\n",
       " ('1010', '1011'),\n",
       " ('1011', '1011'),\n",
       " ('1100', '1101'),\n",
       " ('1101', '1101'),\n",
       " ('1110', '1111'),\n",
       " ('1111', '1111'),\n",
       " ('2000', '2000'),\n",
       " ('2001', '2000'),\n",
       " ('2010', '2011'),\n",
       " ('2011', '2011'),\n",
       " ('2100', '2101'),\n",
       " ('2101', '2101'),\n",
       " ('2110', '2111'),\n",
       " ('2111', '2111')]"
      ]
     },
     "execution_count": 7,
     "metadata": {},
     "output_type": "execute_result"
    }
   ],
   "source": [
    "[(s,net.states.next_state(s)) for s in net.states.gen_all_states()]"
   ]
  },
  {
   "cell_type": "code",
   "execution_count": 8,
   "metadata": {},
   "outputs": [
    {
     "data": {
      "text/plain": [
       "['0', '1']"
      ]
     },
     "execution_count": 8,
     "metadata": {},
     "output_type": "execute_result"
    }
   ],
   "source": [
    "list(tpm.df.columns)"
   ]
  },
  {
   "cell_type": "code",
   "execution_count": 9,
   "metadata": {},
   "outputs": [
    {
     "data": {
      "text/plain": [
       "2.0"
      ]
     },
     "execution_count": 9,
     "metadata": {},
     "output_type": "execute_result"
    }
   ],
   "source": [
    "tpm.df.loc['001','1']"
   ]
  },
  {
   "cell_type": "markdown",
   "metadata": {},
   "source": [
    "#### This function is not generalized enough!!!"
   ]
  },
  {
   "cell_type": "code",
   "execution_count": 10,
   "metadata": {},
   "outputs": [
    {
     "data": {
      "text/html": [
       "<div>\n",
       "<style scoped>\n",
       "    .dataframe tbody tr th:only-of-type {\n",
       "        vertical-align: middle;\n",
       "    }\n",
       "\n",
       "    .dataframe tbody tr th {\n",
       "        vertical-align: top;\n",
       "    }\n",
       "\n",
       "    .dataframe thead th {\n",
       "        text-align: right;\n",
       "    }\n",
       "</style>\n",
       "<table border=\"1\" class=\"dataframe\">\n",
       "  <thead>\n",
       "    <tr style=\"text-align: right;\">\n",
       "      <th></th>\n",
       "      <th>0</th>\n",
       "      <th>1</th>\n",
       "    </tr>\n",
       "  </thead>\n",
       "  <tbody>\n",
       "    <tr>\n",
       "      <th>000</th>\n",
       "      <td>1.0</td>\n",
       "      <td>0.0</td>\n",
       "    </tr>\n",
       "    <tr>\n",
       "      <th>001</th>\n",
       "      <td>0.0</td>\n",
       "      <td>1.0</td>\n",
       "    </tr>\n",
       "    <tr>\n",
       "      <th>010</th>\n",
       "      <td>1.0</td>\n",
       "      <td>0.0</td>\n",
       "    </tr>\n",
       "    <tr>\n",
       "      <th>011</th>\n",
       "      <td>0.0</td>\n",
       "      <td>1.0</td>\n",
       "    </tr>\n",
       "    <tr>\n",
       "      <th>100</th>\n",
       "      <td>1.0</td>\n",
       "      <td>0.0</td>\n",
       "    </tr>\n",
       "    <tr>\n",
       "      <th>101</th>\n",
       "      <td>0.0</td>\n",
       "      <td>1.0</td>\n",
       "    </tr>\n",
       "    <tr>\n",
       "      <th>110</th>\n",
       "      <td>0.0</td>\n",
       "      <td>1.0</td>\n",
       "    </tr>\n",
       "    <tr>\n",
       "      <th>111</th>\n",
       "      <td>0.0</td>\n",
       "      <td>1.0</td>\n",
       "    </tr>\n",
       "  </tbody>\n",
       "</table>\n",
       "</div>"
      ],
      "text/plain": [
       "       0    1\n",
       "000  1.0  0.0\n",
       "001  0.0  1.0\n",
       "010  1.0  0.0\n",
       "011  0.0  1.0\n",
       "100  1.0  0.0\n",
       "101  0.0  1.0\n",
       "110  0.0  1.0\n",
       "111  0.0  1.0"
      ]
     },
     "execution_count": 10,
     "metadata": {},
     "output_type": "execute_result"
    }
   ],
   "source": [
    "states = dm.States(net)\n",
    "dm.fill_using_mechanism(tpm,states)\n",
    "tpm.df  # (A and B) or C"
   ]
  },
  {
   "cell_type": "markdown",
   "metadata": {},
   "source": [
    "# Needs work beyond here !!! @@@ <a id=here>"
   ]
  },
  {
   "cell_type": "code",
   "execution_count": 12,
   "metadata": {
    "scrolled": false
   },
   "outputs": [
    {
     "ename": "AttributeError",
     "evalue": "'list' object has no attribute 'coerce_to_indices'",
     "output_type": "error",
     "traceback": [
      "---------------------------------------------------------------------------",
      "AttributeError                            Traceback (most recent call last)",
      "<ipython-input-12-1b832ac3716c> in <module>\n      2 #cs = tuple([int(e > 0.5) for e in state_evo[1]])\n      3 \n----> 4 transition = pyphi.Transition(net, ps, cs, (0,1,2), (3,))       \n",
      "~/sandbox/pyphi/pyphi/actual.py in __init__(self, network, before_state, after_state, cause_indices, effect_indices, cut, noise_background)\n    116         self.after_state = after_state\n    117 \n--> 118         coerce_to_indices = self.node_labels.coerce_to_indices\n    119         self.cause_indices = coerce_to_indices(cause_indices)\n    120         self.effect_indices = coerce_to_indices(effect_indices)\n",
      "AttributeError: 'list' object has no attribute 'coerce_to_indices'"
     ]
    }
   ],
   "source": [
    "#ps = tuple([int(e > 0.5) for e in state_evo[0]])\n",
    "#cs = tuple([int(e > 0.5) for e in state_evo[1]])\n",
    "\n",
    "transition = pyphi.Transition(net, ps, cs, (0,1,2), (3,))       "
   ]
  },
  {
   "cell_type": "code",
   "execution_count": null,
   "metadata": {},
   "outputs": [],
   "source": [
    "account = pyphi.actual.account(transition)\n",
    "print(account)\n",
    "\n",
    "#import pdb; pdb.set_trace() \n",
    "print('---------------------------')\n",
    "\n",
    "all_accounts = pyphi.actual.nexus(net, ps, cs)\n",
    "all_accounts = sorted(all_accounts, key=lambda nexus: nexus.alpha, reverse=True)\n",
    "\n",
    "pprint([(a.transition, a.alpha) for a in all_accounts])\n",
    "# print(nexi[0])\n",
    "# ac.context_print_mice(nexi[0].context)"
   ]
  },
  {
   "cell_type": "code",
   "execution_count": null,
   "metadata": {},
   "outputs": [],
   "source": [
    "   for psi in range(States):\n",
    "        ps = tuple(map(int, bin(psi)[2:].zfill(NODES)[::-1]))      \n",
    "        tpm[psi, :] = node_logic(ps)\n",
    "\n",
    "    state_evo = state_evolution(INI_STATE, 1)\n",
    "    print(state_evo)\n",
    "    print('---------------------------')\n",
    "    \n",
    "    print(f'tpm.shape={tpm.shape}')\n",
    "    pd.DataFrame(tpm)\n",
    "  "
   ]
  },
  {
   "cell_type": "code",
   "execution_count": null,
   "metadata": {},
   "outputs": [],
   "source": [
    "cm = dm.CM()\n",
    "cm.from_legacy(cm=cm0, labels=list('ABCD'))\n",
    "cm.df"
   ]
  },
  {
   "cell_type": "code",
   "execution_count": null,
   "metadata": {},
   "outputs": [],
   "source": [
    "    net = pyphi.Network(tpm, cm)\n",
    "\n",
    "    ps = tuple([int(e > 0.5) for e in state_evo[0]])\n",
    "    cs = tuple([int(e > 0.5) for e in state_evo[1]])\n",
    "\n",
    "    transition = pyphi.Transition(net, ps, cs, (0,1,2), (3,))       \n",
    "    \n",
    "    account = pyphi.actual.account(transition)\n",
    "    print(account)\n",
    "\n",
    "    #import pdb; pdb.set_trace() \n",
    "    print('---------------------------')\n",
    "\n",
    "    all_accounts = pyphi.actual.nexus(net, ps, cs)\n",
    "    all_accounts = sorted(all_accounts, key=lambda nexus: nexus.alpha, reverse=True)\n",
    "\n",
    "    pprint([(a.transition, a.alpha) for a in all_accounts])\n",
    "    # print(nexi[0])\n",
    "    # ac.context_print_mice(nexi[0].context)\n",
    "\n",
    "    #! import pdb; pdb.set_trace() "
   ]
  },
  {
   "cell_type": "code",
   "execution_count": null,
   "metadata": {
    "scrolled": true
   },
   "outputs": [],
   "source": [
    "len(cm0)"
   ]
  },
  {
   "cell_type": "code",
   "execution_count": null,
   "metadata": {},
   "outputs": [],
   "source": [
    "cwd"
   ]
  },
  {
   "cell_type": "code",
   "execution_count": null,
   "metadata": {},
   "outputs": [],
   "source": [
    "%cwd"
   ]
  },
  {
   "cell_type": "code",
   "execution_count": null,
   "metadata": {},
   "outputs": [],
   "source": [
    "pwd"
   ]
  },
  {
   "cell_type": "code",
   "execution_count": null,
   "metadata": {},
   "outputs": [],
   "source": []
  }
 ],
 "metadata": {
  "kernelspec": {
   "display_name": "Python 3",
   "language": "python",
   "name": "python3"
  },
  "language_info": {
   "codemirror_mode": {
    "name": "ipython",
    "version": 3
   },
   "file_extension": ".py",
   "mimetype": "text/x-python",
   "name": "python",
   "nbconvert_exporter": "python",
   "pygments_lexer": "ipython3",
   "version": "3.6.9"
  }
 },
 "nbformat": 4,
 "nbformat_minor": 4
}
