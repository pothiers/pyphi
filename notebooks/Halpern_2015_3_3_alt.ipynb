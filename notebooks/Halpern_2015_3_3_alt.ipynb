{
 "cells": [
  {
   "cell_type": "code",
   "execution_count": 1,
   "metadata": {},
   "outputs": [],
   "source": [
    "import numpy as np\n",
    "import pandas as pd\n",
    "\n",
    "import pyphi.data_models as dm  # Prototype code\n",
    "from pyphi.convert import sbs2sbn, sbn2sbs      \n",
    "\n",
    "import pyphi\n",
    "import numpy as np\n",
    "from pprint import pprint\n",
    "\n",
    "pyphi.config.PARTITION_TYPE = 'ALL'\n",
    "pyphi.config.PICK_SMALLEST_PURVIEW = True\n",
    "pyphi.config.VALIDATE_SUBSYSTEM_STATES = False\n",
    "\n",
    "# Suppose that a prisoner dies either if A loads B’s gun and B shoots, or if C loads and shoots his gun.\n",
    "# D = (A and B) or C\n",
    "# Most intersting state: 101 -> 1. Here they don't want to say that A was a cause of D.\n",
    "\n",
    "# Constants\n",
    "# ============================================================================\n",
    "#! NODES = 4\n",
    "#! States = 2**NODES\n",
    "\n",
    "#INI_STATE = (1, 0, 1, 1)\n",
    "#cm0 = np.array([\n",
    "#    [0, 0, 0, 1],\n",
    "#    [0, 0, 0, 1],\n",
    "#    [0, 0, 0, 1],\n",
    "#    [0, 0, 0, 0]\n",
    "#])"
   ]
  },
  {
   "cell_type": "code",
   "execution_count": 2,
   "metadata": {},
   "outputs": [
    {
     "name": "stdout",
     "output_type": "stream",
     "text": [
      "label0=A\n"
     ]
    },
    {
     "data": {
      "image/png": "[encoded data removed]",
      "text/plain": [
       "<Figure size 432x288 with 1 Axes>"
      ]
     },
     "metadata": {},
     "output_type": "display_data"
    }
   ],
   "source": [
    "INI_STATE ='1011'\n",
    "edges = [(0,1),(0,2),(1,3),(2,3)]\n",
    "net = dm.Net(edges=edges)\n",
    "label0 = sorted(net.graph.nodes())[0]\n",
    "print(f'label0={label0}')\n",
    "net.draw()"
   ]
  },
  {
   "cell_type": "code",
   "execution_count": 3,
   "metadata": {},
   "outputs": [
    {
     "data": {
      "text/plain": [
       "(1, 0, 1, 1)"
      ]
     },
     "execution_count": 3,
     "metadata": {},
     "output_type": "execute_result"
    }
   ],
   "source": [
    "net.states.state_str2tuple(INI_STATE)"
   ]
  },
  {
   "cell_type": "markdown",
   "metadata": {},
   "source": [
    "#### Convert state_str form to/from state_tuple form\n",
    "Only done here to facilitate comparison with original.  From scratch code should stick with state_str form."
   ]
  },
  {
   "cell_type": "code",
   "execution_count": 4,
   "metadata": {},
   "outputs": [
    {
     "name": "stdout",
     "output_type": "stream",
     "text": [
      "ps=(1, 0, 1, 1) cs=1\n"
     ]
    }
   ],
   "source": [
    "# Functions\n",
    "# ============================================================================\n",
    "def node_logic(in_state):  # MODIFIED for v2 -sp-\n",
    "    out_state = (in_state[0] and in_state[1]) or in_state[2]\n",
    "    return tuple([out_state])\n",
    "\n",
    "ps = net.states.state_str2tuple(INI_STATE)  #  Past State\n",
    "cs = net.states.state_tuple2str(node_logic(ps)) # Current State\n",
    "print(f'ps={ps} cs={cs}')"
   ]
  },
  {
   "cell_type": "markdown",
   "metadata": {},
   "source": [
    "## Logical TPM  @@@ !!!\n",
    "Original code used node_logic to fill a TPM.  This would get big quick. We can get the effect using a Logical TP(M).  The mapping from the states of 3 input nodes (A,B,C) to the state of one output node (D) is done by a func of 3 args). "
   ]
  },
  {
   "cell_type": "code",
   "execution_count": null,
   "metadata": {},
   "outputs": [],
   "source": []
  },
  {
   "cell_type": "code",
   "execution_count": 5,
   "metadata": {},
   "outputs": [
    {
     "name": "stdout",
     "output_type": "stream",
     "text": [
      "in_states=['000', '001', '010', '011', '100', '101', '110', '111']\n",
      "node_logic((1,0,1))=(1,)\n"
     ]
    },
    {
     "data": {
      "text/html": [
       "<div>\n",
       "<style scoped>\n",
       "    .dataframe tbody tr th:only-of-type {\n",
       "        vertical-align: middle;\n",
       "    }\n",
       "\n",
       "    .dataframe tbody tr th {\n",
       "        vertical-align: top;\n",
       "    }\n",
       "\n",
       "    .dataframe thead th {\n",
       "        text-align: right;\n",
       "    }\n",
       "</style>\n",
       "<table border=\"1\" class=\"dataframe\">\n",
       "  <thead>\n",
       "    <tr style=\"text-align: right;\">\n",
       "      <th></th>\n",
       "      <th>0</th>\n",
       "      <th>1</th>\n",
       "    </tr>\n",
       "  </thead>\n",
       "  <tbody>\n",
       "    <tr>\n",
       "      <th>000</th>\n",
       "      <td>0.0</td>\n",
       "      <td>0.0</td>\n",
       "    </tr>\n",
       "    <tr>\n",
       "      <th>001</th>\n",
       "      <td>0.0</td>\n",
       "      <td>0.0</td>\n",
       "    </tr>\n",
       "    <tr>\n",
       "      <th>010</th>\n",
       "      <td>0.0</td>\n",
       "      <td>0.0</td>\n",
       "    </tr>\n",
       "    <tr>\n",
       "      <th>011</th>\n",
       "      <td>0.0</td>\n",
       "      <td>0.0</td>\n",
       "    </tr>\n",
       "    <tr>\n",
       "      <th>100</th>\n",
       "      <td>0.0</td>\n",
       "      <td>0.0</td>\n",
       "    </tr>\n",
       "    <tr>\n",
       "      <th>101</th>\n",
       "      <td>0.0</td>\n",
       "      <td>0.0</td>\n",
       "    </tr>\n",
       "    <tr>\n",
       "      <th>110</th>\n",
       "      <td>0.0</td>\n",
       "      <td>0.0</td>\n",
       "    </tr>\n",
       "    <tr>\n",
       "      <th>111</th>\n",
       "      <td>0.0</td>\n",
       "      <td>0.0</td>\n",
       "    </tr>\n",
       "  </tbody>\n",
       "</table>\n",
       "</div>"
      ],
      "text/plain": [
       "       0    1\n",
       "000  0.0  0.0\n",
       "001  0.0  0.0\n",
       "010  0.0  0.0\n",
       "011  0.0  0.0\n",
       "100  0.0  0.0\n",
       "101  0.0  0.0\n",
       "110  0.0  0.0\n",
       "111  0.0  0.0"
      ]
     },
     "execution_count": 5,
     "metadata": {},
     "output_type": "execute_result"
    }
   ],
   "source": [
    "tpm = dm.TransProb(in_nodes=list('ABC'), out_nodes=list('D'))\n",
    "print(f'in_states={tpm.in_states}')\n",
    "print(f'node_logic((1,0,1))={node_logic((1,0,1))}')\n",
    "tpm.df"
   ]
  },
  {
   "cell_type": "code",
   "execution_count": 6,
   "metadata": {},
   "outputs": [
    {
     "ename": "AttributeError",
     "evalue": "'Net' object has no attribute 'to_legacy'",
     "output_type": "error",
     "traceback": [
      "---------------------------------------------------------------------------",
      "AttributeError                            Traceback (most recent call last)",
      "<ipython-input-6-37e027e9893f> in <module>\n----> 1 net2 = net.to_legacy()\n      2 net2\n",
      "AttributeError: 'Net' object has no attribute 'to_legacy'"
     ]
    }
   ],
   "source": [
    "net2 = net.to_legacy()\n",
    "net2"
   ]
  },
  {
   "cell_type": "code",
   "execution_count": null,
   "metadata": {},
   "outputs": [],
   "source": [
    "#ps = tuple([int(e > 0.5) for e in state_evo[0]])\n",
    "#cs = tuple([int(e > 0.5) for e in state_evo[1]])\n",
    "\n",
    "transition = pyphi.Transition(net.to_legacy(), ps, cs, (0,1,2), (3,))       "
   ]
  },
  {
   "cell_type": "code",
   "execution_count": null,
   "metadata": {},
   "outputs": [],
   "source": [
    "account = pyphi.actual.account(transition)\n",
    "print(account)\n",
    "\n",
    "#import pdb; pdb.set_trace() \n",
    "print('---------------------------')\n",
    "\n",
    "all_accounts = pyphi.actual.nexus(net, ps, cs)\n",
    "all_accounts = sorted(all_accounts, key=lambda nexus: nexus.alpha, reverse=True)\n",
    "\n",
    "pprint([(a.transition, a.alpha) for a in all_accounts])\n",
    "# print(nexi[0])\n",
    "# ac.context_print_mice(nexi[0].context)"
   ]
  },
  {
   "cell_type": "code",
   "execution_count": null,
   "metadata": {},
   "outputs": [],
   "source": [
    "   for psi in range(States):\n",
    "        ps = tuple(map(int, bin(psi)[2:].zfill(NODES)[::-1]))      \n",
    "        tpm[psi, :] = node_logic(ps)\n",
    "\n",
    "    state_evo = state_evolution(INI_STATE, 1)\n",
    "    print(state_evo)\n",
    "    print('---------------------------')\n",
    "    \n",
    "    print(f'tpm.shape={tpm.shape}')\n",
    "    pd.DataFrame(tpm)\n",
    "  "
   ]
  },
  {
   "cell_type": "code",
   "execution_count": null,
   "metadata": {},
   "outputs": [],
   "source": [
    "cm = dm.CM()\n",
    "cm.from_legacy(cm=cm0, labels=list('ABCD'))\n",
    "cm.df"
   ]
  },
  {
   "cell_type": "code",
   "execution_count": null,
   "metadata": {},
   "outputs": [],
   "source": [
    "    net = pyphi.Network(tpm, cm)\n",
    "\n",
    "    ps = tuple([int(e > 0.5) for e in state_evo[0]])\n",
    "    cs = tuple([int(e > 0.5) for e in state_evo[1]])\n",
    "\n",
    "    transition = pyphi.Transition(net, ps, cs, (0,1,2), (3,))       \n",
    "    \n",
    "    account = pyphi.actual.account(transition)\n",
    "    print(account)\n",
    "\n",
    "    #import pdb; pdb.set_trace() \n",
    "    print('---------------------------')\n",
    "\n",
    "    all_accounts = pyphi.actual.nexus(net, ps, cs)\n",
    "    all_accounts = sorted(all_accounts, key=lambda nexus: nexus.alpha, reverse=True)\n",
    "\n",
    "    pprint([(a.transition, a.alpha) for a in all_accounts])\n",
    "    # print(nexi[0])\n",
    "    # ac.context_print_mice(nexi[0].context)\n",
    "\n",
    "    #! import pdb; pdb.set_trace() "
   ]
  },
  {
   "cell_type": "code",
   "execution_count": null,
   "metadata": {
    "scrolled": true
   },
   "outputs": [],
   "source": [
    "len(cm0)"
   ]
  },
  {
   "cell_type": "code",
   "execution_count": null,
   "metadata": {},
   "outputs": [],
   "source": [
    "cwd"
   ]
  },
  {
   "cell_type": "code",
   "execution_count": null,
   "metadata": {},
   "outputs": [],
   "source": [
    "%cwd"
   ]
  },
  {
   "cell_type": "code",
   "execution_count": null,
   "metadata": {},
   "outputs": [],
   "source": [
    "pwd"
   ]
  },
  {
   "cell_type": "code",
   "execution_count": null,
   "metadata": {},
   "outputs": [],
   "source": []
  }
 ],
 "metadata": {
  "kernelspec": {
   "display_name": "Python 3",
   "language": "python",
   "name": "python3"
  },
  "language_info": {
   "codemirror_mode": {
    "name": "ipython",
    "version": 3
   },
   "file_extension": ".py",
   "mimetype": "text/x-python",
   "name": "python",
   "nbconvert_exporter": "python",
   "pygments_lexer": "ipython3",
   "version": "3.6.9"
  }
 },
 "nbformat": 4,
 "nbformat_minor": 4
}
