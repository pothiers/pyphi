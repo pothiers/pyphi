{
 "cells": [
  {
   "cell_type": "code",
   "execution_count": 1,
   "metadata": {},
   "outputs": [],
   "source": [
    "import numpy as np\n",
    "import pandas as pd\n",
    "\n",
    "import pyphi.data_models as dm  # Prototype code\n",
    "from pyphi.convert import sbs2sbn, sbn2sbs      \n",
    "\n",
    "import pyphi\n",
    "import numpy as np\n",
    "from pprint import pprint\n",
    "\n",
    "pyphi.config.PARTITION_TYPE = 'ALL'\n",
    "pyphi.config.PICK_SMALLEST_PURVIEW = True\n",
    "pyphi.config.VALIDATE_SUBSYSTEM_STATES = False"
   ]
  },
  {
   "cell_type": "code",
   "execution_count": 2,
   "metadata": {
    "scrolled": true
   },
   "outputs": [
    {
     "data": {
      "text/plain": [
       "CM(-7ffff803d9f3cf4d): (4, 4) labels: ['A', 'B', 'C', 'D']"
      ]
     },
     "execution_count": 2,
     "metadata": {},
     "output_type": "execute_result"
    }
   ],
   "source": [
    "# Suppose that a prisoner dies either if A loads B’s gun and B shoots, or if C loads and shoots his gun.\n",
    "# D = (A and B) or C\n",
    "# Most intersting state: 101 -> 1. Here they don't want to say that A was a cause of D.\n",
    "\n",
    "# Constants\n",
    "# ============================================================================\n",
    "#! NODES = 4\n",
    "#! States = 2**NODES\n",
    "\n",
    "INI_STATE = (1, 0, 1, 1)\n",
    "cm0 = np.array([\n",
    "    [0, 0, 0, 1],\n",
    "    [0, 0, 0, 1],\n",
    "    [0, 0, 0, 1],\n",
    "    [0, 0, 0, 0]\n",
    "])\n",
    "cm = dm.CM(cm=cm0, node_labels=list('ABCD'))\n",
    "cm"
   ]
  },
  {
   "cell_type": "code",
   "execution_count": 3,
   "metadata": {},
   "outputs": [
    {
     "data": {
      "text/html": [
       "<div>\n",
       "<style scoped>\n",
       "    .dataframe tbody tr th:only-of-type {\n",
       "        vertical-align: middle;\n",
       "    }\n",
       "\n",
       "    .dataframe tbody tr th {\n",
       "        vertical-align: top;\n",
       "    }\n",
       "\n",
       "    .dataframe thead th {\n",
       "        text-align: right;\n",
       "    }\n",
       "</style>\n",
       "<table border=\"1\" class=\"dataframe\">\n",
       "  <thead>\n",
       "    <tr style=\"text-align: right;\">\n",
       "      <th></th>\n",
       "      <th>A</th>\n",
       "      <th>B</th>\n",
       "      <th>C</th>\n",
       "      <th>D</th>\n",
       "    </tr>\n",
       "  </thead>\n",
       "  <tbody>\n",
       "    <tr>\n",
       "      <th>A</th>\n",
       "      <td>0</td>\n",
       "      <td>0</td>\n",
       "      <td>0</td>\n",
       "      <td>1</td>\n",
       "    </tr>\n",
       "    <tr>\n",
       "      <th>B</th>\n",
       "      <td>0</td>\n",
       "      <td>0</td>\n",
       "      <td>0</td>\n",
       "      <td>1</td>\n",
       "    </tr>\n",
       "    <tr>\n",
       "      <th>C</th>\n",
       "      <td>0</td>\n",
       "      <td>0</td>\n",
       "      <td>0</td>\n",
       "      <td>1</td>\n",
       "    </tr>\n",
       "    <tr>\n",
       "      <th>D</th>\n",
       "      <td>0</td>\n",
       "      <td>0</td>\n",
       "      <td>0</td>\n",
       "      <td>0</td>\n",
       "    </tr>\n",
       "  </tbody>\n",
       "</table>\n",
       "</div>"
      ],
      "text/plain": [
       "   A  B  C  D\n",
       "A  0  0  0  1\n",
       "B  0  0  0  1\n",
       "C  0  0  0  1\n",
       "D  0  0  0  0"
      ]
     },
     "execution_count": 3,
     "metadata": {},
     "output_type": "execute_result"
    }
   ],
   "source": [
    "cm.df"
   ]
  },
  {
   "cell_type": "code",
   "execution_count": 4,
   "metadata": {},
   "outputs": [
    {
     "name": "stdout",
     "output_type": "stream",
     "text": [
      "ps=(1, 0, 1, 1) cs=1\n"
     ]
    }
   ],
   "source": [
    "# Functions\n",
    "# ============================================================================\n",
    "def node_logic(in_state):  # MODIFIED for v2 -sp-\n",
    "    return (in_state[0] and in_state[1]) or in_state[2]\n",
    "\n",
    "ps = INI_STATE  #  Past State\n",
    "cs = node_logic(ps) # Current State\n",
    "print(f'ps={ps} cs={cs}')"
   ]
  },
  {
   "cell_type": "code",
   "execution_count": 5,
   "metadata": {},
   "outputs": [
    {
     "name": "stdout",
     "output_type": "stream",
     "text": [
      "in_states=[(0, 0, 0), (0, 0, 1), (0, 1, 0), (0, 1, 1), (1, 0, 0), (1, 0, 1), (1, 1, 0), (1, 1, 1)]\n",
      "node_logic((1,0,1))=1\n"
     ]
    },
    {
     "data": {
      "text/html": [
       "<div>\n",
       "<style scoped>\n",
       "    .dataframe tbody tr th:only-of-type {\n",
       "        vertical-align: middle;\n",
       "    }\n",
       "\n",
       "    .dataframe tbody tr th {\n",
       "        vertical-align: top;\n",
       "    }\n",
       "\n",
       "    .dataframe thead th {\n",
       "        text-align: right;\n",
       "    }\n",
       "</style>\n",
       "<table border=\"1\" class=\"dataframe\">\n",
       "  <thead>\n",
       "    <tr style=\"text-align: right;\">\n",
       "      <th></th>\n",
       "      <th>(0,)</th>\n",
       "      <th>(1,)</th>\n",
       "    </tr>\n",
       "  </thead>\n",
       "  <tbody>\n",
       "    <tr>\n",
       "      <th>(0, 0, 0)</th>\n",
       "      <td>0.0</td>\n",
       "      <td>0.0</td>\n",
       "    </tr>\n",
       "    <tr>\n",
       "      <th>(0, 0, 1)</th>\n",
       "      <td>0.0</td>\n",
       "      <td>0.0</td>\n",
       "    </tr>\n",
       "    <tr>\n",
       "      <th>(0, 1, 0)</th>\n",
       "      <td>0.0</td>\n",
       "      <td>0.0</td>\n",
       "    </tr>\n",
       "    <tr>\n",
       "      <th>(0, 1, 1)</th>\n",
       "      <td>0.0</td>\n",
       "      <td>0.0</td>\n",
       "    </tr>\n",
       "    <tr>\n",
       "      <th>(1, 0, 0)</th>\n",
       "      <td>0.0</td>\n",
       "      <td>0.0</td>\n",
       "    </tr>\n",
       "    <tr>\n",
       "      <th>(1, 0, 1)</th>\n",
       "      <td>0.0</td>\n",
       "      <td>0.0</td>\n",
       "    </tr>\n",
       "    <tr>\n",
       "      <th>(1, 1, 0)</th>\n",
       "      <td>0.0</td>\n",
       "      <td>0.0</td>\n",
       "    </tr>\n",
       "    <tr>\n",
       "      <th>(1, 1, 1)</th>\n",
       "      <td>0.0</td>\n",
       "      <td>0.0</td>\n",
       "    </tr>\n",
       "  </tbody>\n",
       "</table>\n",
       "</div>"
      ],
      "text/plain": [
       "           (0,)  (1,)\n",
       "(0, 0, 0)   0.0   0.0\n",
       "(0, 0, 1)   0.0   0.0\n",
       "(0, 1, 0)   0.0   0.0\n",
       "(0, 1, 1)   0.0   0.0\n",
       "(1, 0, 0)   0.0   0.0\n",
       "(1, 0, 1)   0.0   0.0\n",
       "(1, 1, 0)   0.0   0.0\n",
       "(1, 1, 1)   0.0   0.0"
      ]
     },
     "execution_count": 5,
     "metadata": {},
     "output_type": "execute_result"
    }
   ],
   "source": [
    "tpm = dm.TransProb(in_nodes=list('ABC'), out_nodes=list('D'))\n",
    "print(f'in_states={tpm.in_states}')\n",
    "print(f'node_logic((1,0,1))={node_logic((1,0,1))}')\n",
    "tpm.df"
   ]
  },
  {
   "cell_type": "code",
   "execution_count": 6,
   "metadata": {},
   "outputs": [
    {
     "data": {
      "text/plain": [
       "Network(-7ffff803d9f4190e): node_connectivity: (4, 4), transitions: (8, 2)"
      ]
     },
     "execution_count": 6,
     "metadata": {},
     "output_type": "execute_result"
    }
   ],
   "source": [
    "net = dm.Network(tpm, cm)\n",
    "net"
   ]
  },
  {
   "cell_type": "code",
   "execution_count": 7,
   "metadata": {},
   "outputs": [
    {
     "ename": "AttributeError",
     "evalue": "'Network' object has no attribute 'node_labels'",
     "output_type": "error",
     "traceback": [
      "---------------------------------------------------------------------------",
      "AttributeError                            Traceback (most recent call last)",
      "<ipython-input-7-b911a0c3c708> in <module>\n      2 #cs = tuple([int(e > 0.5) for e in state_evo[1]])\n      3 \n----> 4 transition = pyphi.Transition(net, ps, cs, (0,1,2), (3,))       \n      5 \n      6 account = pyphi.actual.account(transition)\n",
      "~/sandbox/pyphi/pyphi/actual.py in __init__(self, network, before_state, after_state, cause_indices, effect_indices, cut, noise_background)\n    116         self.after_state = after_state\n    117 \n--> 118         coerce_to_indices = self.node_labels.coerce_to_indices\n    119         self.cause_indices = coerce_to_indices(cause_indices)\n    120         self.effect_indices = coerce_to_indices(effect_indices)\n",
      "~/sandbox/pyphi/pyphi/actual.py in node_labels(self)\n    211     @property\n    212     def node_labels(self):\n--> 213         return self.network.node_labels\n    214 \n    215     def to_json(self):\n",
      "AttributeError: 'Network' object has no attribute 'node_labels'"
     ]
    }
   ],
   "source": [
    "#ps = tuple([int(e > 0.5) for e in state_evo[0]])\n",
    "#cs = tuple([int(e > 0.5) for e in state_evo[1]])\n",
    "\n",
    "transition = pyphi.Transition(net, ps, cs, (0,1,2), (3,))       \n",
    "\n",
    "account = pyphi.actual.account(transition)\n",
    "print(account)\n",
    "\n",
    "#import pdb; pdb.set_trace() \n",
    "print('---------------------------')\n",
    "\n",
    "all_accounts = pyphi.actual.nexus(net, ps, cs)\n",
    "all_accounts = sorted(all_accounts, key=lambda nexus: nexus.alpha, reverse=True)\n",
    "\n",
    "pprint([(a.transition, a.alpha) for a in all_accounts])\n",
    "# print(nexi[0])\n",
    "# ac.context_print_mice(nexi[0].context)"
   ]
  },
  {
   "cell_type": "code",
   "execution_count": null,
   "metadata": {},
   "outputs": [],
   "source": [
    "   for psi in range(States):\n",
    "        ps = tuple(map(int, bin(psi)[2:].zfill(NODES)[::-1]))      \n",
    "        tpm[psi, :] = node_logic(ps)\n",
    "\n",
    "    state_evo = state_evolution(INI_STATE, 1)\n",
    "    print(state_evo)\n",
    "    print('---------------------------')\n",
    "    \n",
    "    print(f'tpm.shape={tpm.shape}')\n",
    "    pd.DataFrame(tpm)\n",
    "  "
   ]
  },
  {
   "cell_type": "code",
   "execution_count": null,
   "metadata": {},
   "outputs": [],
   "source": [
    "cm = dm.CM()\n",
    "cm.from_legacy(cm=cm0, labels=list('ABCD'))\n",
    "cm.df"
   ]
  },
  {
   "cell_type": "code",
   "execution_count": null,
   "metadata": {},
   "outputs": [],
   "source": [
    "    net = pyphi.Network(tpm, cm)\n",
    "\n",
    "    ps = tuple([int(e > 0.5) for e in state_evo[0]])\n",
    "    cs = tuple([int(e > 0.5) for e in state_evo[1]])\n",
    "\n",
    "    transition = pyphi.Transition(net, ps, cs, (0,1,2), (3,))       \n",
    "    \n",
    "    account = pyphi.actual.account(transition)\n",
    "    print(account)\n",
    "\n",
    "    #import pdb; pdb.set_trace() \n",
    "    print('---------------------------')\n",
    "\n",
    "    all_accounts = pyphi.actual.nexus(net, ps, cs)\n",
    "    all_accounts = sorted(all_accounts, key=lambda nexus: nexus.alpha, reverse=True)\n",
    "\n",
    "    pprint([(a.transition, a.alpha) for a in all_accounts])\n",
    "    # print(nexi[0])\n",
    "    # ac.context_print_mice(nexi[0].context)\n",
    "\n",
    "    #! import pdb; pdb.set_trace() "
   ]
  },
  {
   "cell_type": "code",
   "execution_count": null,
   "metadata": {
    "scrolled": true
   },
   "outputs": [],
   "source": [
    "len(cm0)"
   ]
  },
  {
   "cell_type": "code",
   "execution_count": null,
   "metadata": {},
   "outputs": [],
   "source": [
    "cwd"
   ]
  },
  {
   "cell_type": "code",
   "execution_count": null,
   "metadata": {},
   "outputs": [],
   "source": [
    "%cwd"
   ]
  },
  {
   "cell_type": "code",
   "execution_count": null,
   "metadata": {},
   "outputs": [],
   "source": [
    "pwd"
   ]
  },
  {
   "cell_type": "code",
   "execution_count": null,
   "metadata": {},
   "outputs": [],
   "source": []
  }
 ],
 "metadata": {
  "kernelspec": {
   "display_name": "Python 3",
   "language": "python",
   "name": "python3"
  },
  "language_info": {
   "codemirror_mode": {
    "name": "ipython",
    "version": 3
   },
   "file_extension": ".py",
   "mimetype": "text/x-python",
   "name": "python",
   "nbconvert_exporter": "python",
   "pygments_lexer": "ipython3",
   "version": "3.6.9"
  }
 },
 "nbformat": 4,
 "nbformat_minor": 4
}
