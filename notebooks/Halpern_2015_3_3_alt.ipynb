{
 "cells": [
  {
   "cell_type": "code",
   "execution_count": 1,
   "metadata": {},
   "outputs": [],
   "source": [
    "import numpy as np\n",
    "import pandas as pd\n",
    "\n",
    "import pyphi.data_models as dm  # Prototype code\n",
    "from pyphi.convert import sbs2sbn, sbn2sbs      \n",
    "\n",
    "import pyphi\n",
    "import numpy as np\n",
    "from pprint import pprint\n",
    "\n",
    "pyphi.config.PARTITION_TYPE = 'ALL'\n",
    "pyphi.config.PICK_SMALLEST_PURVIEW = True\n",
    "pyphi.config.VALIDATE_SUBSYSTEM_STATES = False"
   ]
  },
  {
   "cell_type": "code",
   "execution_count": 2,
   "metadata": {
    "scrolled": true
   },
   "outputs": [
    {
     "ename": "TypeError",
     "evalue": "__init__() got an unexpected keyword argument 'cm'",
     "output_type": "error",
     "traceback": [
      "---------------------------------------------------------------------------",
      "TypeError                                 Traceback (most recent call last)",
      "<ipython-input-2-0024e90837a1> in <module>\n     15     [0, 0, 0, 0]\n     16 ])\n---> 17 cm = dm.CM(cm=cm0, node_labels=list('ABCD'))\n     18 cm\n",
      "TypeError: __init__() got an unexpected keyword argument 'cm'"
     ]
    }
   ],
   "source": [
    "# Suppose that a prisoner dies either if A loads B’s gun and B shoots, or if C loads and shoots his gun.\n",
    "# D = (A and B) or C\n",
    "# Most intersting state: 101 -> 1. Here they don't want to say that A was a cause of D.\n",
    "\n",
    "# Constants\n",
    "# ============================================================================\n",
    "#! NODES = 4\n",
    "#! States = 2**NODES\n",
    "\n",
    "INI_STATE = (1, 0, 1, 1)\n",
    "cm0 = np.array([\n",
    "    [0, 0, 0, 1],\n",
    "    [0, 0, 0, 1],\n",
    "    [0, 0, 0, 1],\n",
    "    [0, 0, 0, 0]\n",
    "])\n",
    "cm = dm.CM(cm=cm0, node_labels=list('ABCD'))\n",
    "cm"
   ]
  },
  {
   "cell_type": "code",
   "execution_count": null,
   "metadata": {},
   "outputs": [],
   "source": [
    "cm.df"
   ]
  },
  {
   "cell_type": "code",
   "execution_count": null,
   "metadata": {},
   "outputs": [],
   "source": [
    "# Functions\n",
    "# ============================================================================\n",
    "def node_logic(in_state):  # MODIFIED for v2 -sp-\n",
    "    return (in_state[0] and in_state[1]) or in_state[2]\n",
    "\n",
    "ps = INI_STATE  #  Past State\n",
    "cs = node_logic(ps) # Current State\n",
    "print(f'ps={ps} cs={cs}')"
   ]
  },
  {
   "cell_type": "code",
   "execution_count": null,
   "metadata": {},
   "outputs": [],
   "source": [
    "tpm = dm.TransProb(in_nodes=list('ABC'), out_nodes=list('D'))\n",
    "print(f'in_states={tpm.in_states}')\n",
    "print(f'node_logic((1,0,1))={node_logic((1,0,1))}')\n",
    "tpm.df"
   ]
  },
  {
   "cell_type": "code",
   "execution_count": null,
   "metadata": {},
   "outputs": [],
   "source": [
    "net = dm.Network(tpm, cm)\n",
    "net"
   ]
  },
  {
   "cell_type": "code",
   "execution_count": null,
   "metadata": {},
   "outputs": [],
   "source": [
    "net2 = net.to_legacy()\n",
    "net2"
   ]
  },
  {
   "cell_type": "code",
   "execution_count": null,
   "metadata": {},
   "outputs": [],
   "source": [
    "#ps = tuple([int(e > 0.5) for e in state_evo[0]])\n",
    "#cs = tuple([int(e > 0.5) for e in state_evo[1]])\n",
    "\n",
    "transition = pyphi.Transition(net.to_legacy(), ps, cs, (0,1,2), (3,))       "
   ]
  },
  {
   "cell_type": "code",
   "execution_count": null,
   "metadata": {},
   "outputs": [],
   "source": [
    "account = pyphi.actual.account(transition)\n",
    "print(account)\n",
    "\n",
    "#import pdb; pdb.set_trace() \n",
    "print('---------------------------')\n",
    "\n",
    "all_accounts = pyphi.actual.nexus(net, ps, cs)\n",
    "all_accounts = sorted(all_accounts, key=lambda nexus: nexus.alpha, reverse=True)\n",
    "\n",
    "pprint([(a.transition, a.alpha) for a in all_accounts])\n",
    "# print(nexi[0])\n",
    "# ac.context_print_mice(nexi[0].context)"
   ]
  },
  {
   "cell_type": "code",
   "execution_count": null,
   "metadata": {},
   "outputs": [],
   "source": [
    "   for psi in range(States):\n",
    "        ps = tuple(map(int, bin(psi)[2:].zfill(NODES)[::-1]))      \n",
    "        tpm[psi, :] = node_logic(ps)\n",
    "\n",
    "    state_evo = state_evolution(INI_STATE, 1)\n",
    "    print(state_evo)\n",
    "    print('---------------------------')\n",
    "    \n",
    "    print(f'tpm.shape={tpm.shape}')\n",
    "    pd.DataFrame(tpm)\n",
    "  "
   ]
  },
  {
   "cell_type": "code",
   "execution_count": null,
   "metadata": {},
   "outputs": [],
   "source": [
    "cm = dm.CM()\n",
    "cm.from_legacy(cm=cm0, labels=list('ABCD'))\n",
    "cm.df"
   ]
  },
  {
   "cell_type": "code",
   "execution_count": null,
   "metadata": {},
   "outputs": [],
   "source": [
    "    net = pyphi.Network(tpm, cm)\n",
    "\n",
    "    ps = tuple([int(e > 0.5) for e in state_evo[0]])\n",
    "    cs = tuple([int(e > 0.5) for e in state_evo[1]])\n",
    "\n",
    "    transition = pyphi.Transition(net, ps, cs, (0,1,2), (3,))       \n",
    "    \n",
    "    account = pyphi.actual.account(transition)\n",
    "    print(account)\n",
    "\n",
    "    #import pdb; pdb.set_trace() \n",
    "    print('---------------------------')\n",
    "\n",
    "    all_accounts = pyphi.actual.nexus(net, ps, cs)\n",
    "    all_accounts = sorted(all_accounts, key=lambda nexus: nexus.alpha, reverse=True)\n",
    "\n",
    "    pprint([(a.transition, a.alpha) for a in all_accounts])\n",
    "    # print(nexi[0])\n",
    "    # ac.context_print_mice(nexi[0].context)\n",
    "\n",
    "    #! import pdb; pdb.set_trace() "
   ]
  },
  {
   "cell_type": "code",
   "execution_count": null,
   "metadata": {
    "scrolled": true
   },
   "outputs": [],
   "source": [
    "len(cm0)"
   ]
  },
  {
   "cell_type": "code",
   "execution_count": null,
   "metadata": {},
   "outputs": [],
   "source": [
    "cwd"
   ]
  },
  {
   "cell_type": "code",
   "execution_count": null,
   "metadata": {},
   "outputs": [],
   "source": [
    "%cwd"
   ]
  },
  {
   "cell_type": "code",
   "execution_count": null,
   "metadata": {},
   "outputs": [],
   "source": [
    "pwd"
   ]
  },
  {
   "cell_type": "code",
   "execution_count": null,
   "metadata": {},
   "outputs": [],
   "source": []
  }
 ],
 "metadata": {
  "kernelspec": {
   "display_name": "Python 3",
   "language": "python",
   "name": "python3"
  },
  "language_info": {
   "codemirror_mode": {
    "name": "ipython",
    "version": 3
   },
   "file_extension": ".py",
   "mimetype": "text/x-python",
   "name": "python",
   "nbconvert_exporter": "python",
   "pygments_lexer": "ipython3",
   "version": "3.6.9"
  }
 },
 "nbformat": 4,
 "nbformat_minor": 4
}
