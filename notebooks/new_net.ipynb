{
 "cells": [
  {
   "cell_type": "markdown",
   "metadata": {},
   "source": [
    "### From [TPM conventions](https://pyphi.readthedocs.io/en/latest/conventions.html)"
   ]
  },
  {
   "cell_type": "code",
   "execution_count": 1,
   "metadata": {},
   "outputs": [],
   "source": [
    "import numpy as np\n",
    "import pandas as pd\n",
    "import pyphi\n",
    "from pyphi.examples import basic_noisy_selfloop_network\n",
    "import pyphi.TpmClass as tc\n",
    "import itertools"
   ]
  },
  {
   "cell_type": "code",
   "execution_count": 2,
   "metadata": {},
   "outputs": [
    {
     "data": {
      "text/plain": [
       "Network([[[[0.271 0.19  0.244]\n",
       "   [0.919 0.91  0.756]]\n",
       "\n",
       "  [[0.919 0.91  0.756]\n",
       "   [0.991 0.99  0.244]]]\n",
       "\n",
       "\n",
       " [[[0.919 0.19  0.756]\n",
       "   [0.991 0.91  0.244]]\n",
       "\n",
       "  [[0.991 0.91  0.244]\n",
       "   [0.999 0.99  0.756]]]], cm=[[1 0 1]\n",
       " [1 1 1]\n",
       " [1 1 1]])"
      ]
     },
     "execution_count": 2,
     "metadata": {},
     "output_type": "execute_result"
    }
   ],
   "source": [
    "net = basic_noisy_selfloop_network()\n",
    "tpm = net.tpm\n",
    "net"
   ]
  },
  {
   "cell_type": "code",
   "execution_count": 3,
   "metadata": {},
   "outputs": [
    {
     "data": {
      "text/plain": [
       "NodeLabels(('n0', 'n1', 'n2'))"
      ]
     },
     "execution_count": 3,
     "metadata": {},
     "output_type": "execute_result"
    }
   ],
   "source": [
    "net.node_labels"
   ]
  },
  {
   "cell_type": "code",
   "execution_count": 4,
   "metadata": {},
   "outputs": [
    {
     "data": {
      "text/plain": [
       "3"
      ]
     },
     "execution_count": 4,
     "metadata": {},
     "output_type": "execute_result"
    }
   ],
   "source": [
    "N = len(net.node_labels)\n",
    "N"
   ]
  },
  {
   "cell_type": "code",
   "execution_count": 5,
   "metadata": {},
   "outputs": [
    {
     "data": {
      "text/plain": [
       "(2, 2, 2, 3)"
      ]
     },
     "execution_count": 5,
     "metadata": {},
     "output_type": "execute_result"
    }
   ],
   "source": [
    "tpm.shape"
   ]
  },
  {
   "cell_type": "markdown",
   "metadata": {},
   "source": [
    "State-by-State form is 2^N x 2^N  (2=number of states per node)"
   ]
  },
  {
   "cell_type": "code",
   "execution_count": 6,
   "metadata": {},
   "outputs": [
    {
     "data": {
      "text/plain": [
       "(8, 8)"
      ]
     },
     "execution_count": 6,
     "metadata": {},
     "output_type": "execute_result"
    }
   ],
   "source": [
    "sbn = tpm\n",
    "sbs = pyphi.convert.sbn2sbs(tpm)\n",
    "sbs.shape"
   ]
  },
  {
   "cell_type": "code",
   "execution_count": 7,
   "metadata": {},
   "outputs": [],
   "source": [
    "n2 = tc.Net(sbs,net.cm, node_labels=net.node_labels)"
   ]
  },
  {
   "cell_type": "code",
   "execution_count": 8,
   "metadata": {},
   "outputs": [
    {
     "data": {
      "text/html": [
       "<div>\n",
       "<style scoped>\n",
       "    .dataframe tbody tr th:only-of-type {\n",
       "        vertical-align: middle;\n",
       "    }\n",
       "\n",
       "    .dataframe tbody tr th {\n",
       "        vertical-align: top;\n",
       "    }\n",
       "\n",
       "    .dataframe thead th {\n",
       "        text-align: right;\n",
       "    }\n",
       "</style>\n",
       "<table border=\"1\" class=\"dataframe\">\n",
       "  <thead>\n",
       "    <tr style=\"text-align: right;\">\n",
       "      <th></th>\n",
       "      <th>(0, 0, 0)</th>\n",
       "      <th>(0, 0, 1)</th>\n",
       "      <th>(0, 1, 0)</th>\n",
       "      <th>(0, 1, 1)</th>\n",
       "      <th>(1, 0, 0)</th>\n",
       "      <th>(1, 0, 1)</th>\n",
       "      <th>(1, 1, 0)</th>\n",
       "      <th>(1, 1, 1)</th>\n",
       "    </tr>\n",
       "  </thead>\n",
       "  <tbody>\n",
       "    <tr>\n",
       "      <th>(0, 0, 0)</th>\n",
       "      <td>0.446410</td>\n",
       "      <td>0.165950</td>\n",
       "      <td>0.104714</td>\n",
       "      <td>0.038926</td>\n",
       "      <td>0.144080</td>\n",
       "      <td>0.053560</td>\n",
       "      <td>0.033796</td>\n",
       "      <td>0.012564</td>\n",
       "    </tr>\n",
       "    <tr>\n",
       "      <th>(0, 0, 1)</th>\n",
       "      <td>0.016009</td>\n",
       "      <td>0.181631</td>\n",
       "      <td>0.003755</td>\n",
       "      <td>0.042605</td>\n",
       "      <td>0.049601</td>\n",
       "      <td>0.562759</td>\n",
       "      <td>0.011635</td>\n",
       "      <td>0.132005</td>\n",
       "    </tr>\n",
       "    <tr>\n",
       "      <th>(0, 1, 0)</th>\n",
       "      <td>0.001779</td>\n",
       "      <td>0.020181</td>\n",
       "      <td>0.017985</td>\n",
       "      <td>0.204055</td>\n",
       "      <td>0.005511</td>\n",
       "      <td>0.062529</td>\n",
       "      <td>0.055725</td>\n",
       "      <td>0.632235</td>\n",
       "    </tr>\n",
       "    <tr>\n",
       "      <th>(0, 1, 1)</th>\n",
       "      <td>0.000612</td>\n",
       "      <td>0.067428</td>\n",
       "      <td>0.006192</td>\n",
       "      <td>0.681768</td>\n",
       "      <td>0.000198</td>\n",
       "      <td>0.021762</td>\n",
       "      <td>0.001998</td>\n",
       "      <td>0.220042</td>\n",
       "    </tr>\n",
       "    <tr>\n",
       "      <th>(1, 0, 0)</th>\n",
       "      <td>0.001779</td>\n",
       "      <td>0.020181</td>\n",
       "      <td>0.017985</td>\n",
       "      <td>0.204055</td>\n",
       "      <td>0.005511</td>\n",
       "      <td>0.062529</td>\n",
       "      <td>0.055725</td>\n",
       "      <td>0.632235</td>\n",
       "    </tr>\n",
       "    <tr>\n",
       "      <th>(1, 0, 1)</th>\n",
       "      <td>0.000612</td>\n",
       "      <td>0.067428</td>\n",
       "      <td>0.006192</td>\n",
       "      <td>0.681768</td>\n",
       "      <td>0.000198</td>\n",
       "      <td>0.021762</td>\n",
       "      <td>0.001998</td>\n",
       "      <td>0.220042</td>\n",
       "    </tr>\n",
       "    <tr>\n",
       "      <th>(1, 1, 0)</th>\n",
       "      <td>0.000068</td>\n",
       "      <td>0.007492</td>\n",
       "      <td>0.006736</td>\n",
       "      <td>0.741704</td>\n",
       "      <td>0.000022</td>\n",
       "      <td>0.002418</td>\n",
       "      <td>0.002174</td>\n",
       "      <td>0.239386</td>\n",
       "    </tr>\n",
       "    <tr>\n",
       "      <th>(1, 1, 1)</th>\n",
       "      <td>0.000002</td>\n",
       "      <td>0.002438</td>\n",
       "      <td>0.000242</td>\n",
       "      <td>0.241318</td>\n",
       "      <td>0.000008</td>\n",
       "      <td>0.007552</td>\n",
       "      <td>0.000748</td>\n",
       "      <td>0.747692</td>\n",
       "    </tr>\n",
       "  </tbody>\n",
       "</table>\n",
       "</div>"
      ],
      "text/plain": [
       "           (0, 0, 0)  (0, 0, 1)  (0, 1, 0)  (0, 1, 1)  (1, 0, 0)  (1, 0, 1)  \\\n",
       "(0, 0, 0)   0.446410   0.165950   0.104714   0.038926   0.144080   0.053560   \n",
       "(0, 0, 1)   0.016009   0.181631   0.003755   0.042605   0.049601   0.562759   \n",
       "(0, 1, 0)   0.001779   0.020181   0.017985   0.204055   0.005511   0.062529   \n",
       "(0, 1, 1)   0.000612   0.067428   0.006192   0.681768   0.000198   0.021762   \n",
       "(1, 0, 0)   0.001779   0.020181   0.017985   0.204055   0.005511   0.062529   \n",
       "(1, 0, 1)   0.000612   0.067428   0.006192   0.681768   0.000198   0.021762   \n",
       "(1, 1, 0)   0.000068   0.007492   0.006736   0.741704   0.000022   0.002418   \n",
       "(1, 1, 1)   0.000002   0.002438   0.000242   0.241318   0.000008   0.007552   \n",
       "\n",
       "           (1, 1, 0)  (1, 1, 1)  \n",
       "(0, 0, 0)   0.033796   0.012564  \n",
       "(0, 0, 1)   0.011635   0.132005  \n",
       "(0, 1, 0)   0.055725   0.632235  \n",
       "(0, 1, 1)   0.001998   0.220042  \n",
       "(1, 0, 0)   0.055725   0.632235  \n",
       "(1, 0, 1)   0.001998   0.220042  \n",
       "(1, 1, 0)   0.002174   0.239386  \n",
       "(1, 1, 1)   0.000748   0.747692  "
      ]
     },
     "execution_count": 8,
     "metadata": {},
     "output_type": "execute_result"
    }
   ],
   "source": [
    "n2._tpdf"
   ]
  },
  {
   "cell_type": "code",
   "execution_count": 9,
   "metadata": {},
   "outputs": [
    {
     "data": {
      "text/html": [
       "<div>\n",
       "<style scoped>\n",
       "    .dataframe tbody tr th:only-of-type {\n",
       "        vertical-align: middle;\n",
       "    }\n",
       "\n",
       "    .dataframe tbody tr th {\n",
       "        vertical-align: top;\n",
       "    }\n",
       "\n",
       "    .dataframe thead th {\n",
       "        text-align: right;\n",
       "    }\n",
       "</style>\n",
       "<table border=\"1\" class=\"dataframe\">\n",
       "  <thead>\n",
       "    <tr style=\"text-align: right;\">\n",
       "      <th></th>\n",
       "      <th>n0</th>\n",
       "      <th>n1</th>\n",
       "      <th>n2</th>\n",
       "    </tr>\n",
       "  </thead>\n",
       "  <tbody>\n",
       "    <tr>\n",
       "      <th>n0</th>\n",
       "      <td>1</td>\n",
       "      <td>0</td>\n",
       "      <td>1</td>\n",
       "    </tr>\n",
       "    <tr>\n",
       "      <th>n1</th>\n",
       "      <td>1</td>\n",
       "      <td>1</td>\n",
       "      <td>1</td>\n",
       "    </tr>\n",
       "    <tr>\n",
       "      <th>n2</th>\n",
       "      <td>1</td>\n",
       "      <td>1</td>\n",
       "      <td>1</td>\n",
       "    </tr>\n",
       "  </tbody>\n",
       "</table>\n",
       "</div>"
      ],
      "text/plain": [
       "    n0  n1  n2\n",
       "n0   1   0   1\n",
       "n1   1   1   1\n",
       "n2   1   1   1"
      ]
     },
     "execution_count": 9,
     "metadata": {},
     "output_type": "execute_result"
    }
   ],
   "source": [
    "n2._ncdf\n"
   ]
  },
  {
   "cell_type": "code",
   "execution_count": null,
   "metadata": {},
   "outputs": [],
   "source": []
  }
 ],
 "metadata": {
  "kernelspec": {
   "display_name": "Python 3",
   "language": "python",
   "name": "python3"
  },
  "language_info": {
   "codemirror_mode": {
    "name": "ipython",
    "version": 3
   },
   "file_extension": ".py",
   "mimetype": "text/x-python",
   "name": "python",
   "nbconvert_exporter": "python",
   "pygments_lexer": "ipython3",
   "version": "3.6.9"
  }
 },
 "nbformat": 4,
 "nbformat_minor": 4
}
