{
 "cells": [
  {
   "cell_type": "markdown",
   "metadata": {},
   "source": [
    "### From [TPM conventions](https://pyphi.readthedocs.io/en/latest/conventions.html)"
   ]
  },
  {
   "cell_type": "code",
   "execution_count": 1,
   "metadata": {},
   "outputs": [],
   "source": [
    "import numpy as np\n",
    "import pandas as pd\n",
    "import pyphi\n",
    "from pyphi.examples import basic_noisy_selfloop_network\n",
    "from IPython.display import Image\n",
    "import matplotlib.pyplot as plt\n",
    "\n",
    "import pyphi.data_models as dm  # Prototype code\n",
    "from collections import Counter"
   ]
  },
  {
   "cell_type": "code",
   "execution_count": 2,
   "metadata": {},
   "outputs": [
    {
     "data": {
      "text/plain": [
       "Network([[[[0.271 0.19  0.244]\n",
       "   [0.919 0.91  0.756]]\n",
       "\n",
       "  [[0.919 0.91  0.756]\n",
       "   [0.991 0.99  0.244]]]\n",
       "\n",
       "\n",
       " [[[0.919 0.19  0.756]\n",
       "   [0.991 0.91  0.244]]\n",
       "\n",
       "  [[0.991 0.91  0.244]\n",
       "   [0.999 0.99  0.756]]]], cm=[[1 0 1]\n",
       " [1 1 1]\n",
       " [1 1 1]])"
      ]
     },
     "execution_count": 2,
     "metadata": {},
     "output_type": "execute_result"
    }
   ],
   "source": [
    "net = basic_noisy_selfloop_network()\n",
    "tpm = net.tpm\n",
    "net"
   ]
  },
  {
   "cell_type": "code",
   "execution_count": 3,
   "metadata": {},
   "outputs": [
    {
     "data": {
      "text/plain": [
       "array([[1, 0, 1],\n",
       "       [1, 1, 1],\n",
       "       [1, 1, 1]])"
      ]
     },
     "execution_count": 3,
     "metadata": {},
     "output_type": "execute_result"
    }
   ],
   "source": [
    "net.cm"
   ]
  },
  {
   "cell_type": "code",
   "execution_count": 4,
   "metadata": {},
   "outputs": [
    {
     "data": {
      "text/plain": [
       "NodeLabels(('n0', 'n1', 'n2'))"
      ]
     },
     "execution_count": 4,
     "metadata": {},
     "output_type": "execute_result"
    }
   ],
   "source": [
    "net.node_labels"
   ]
  },
  {
   "cell_type": "code",
   "execution_count": 5,
   "metadata": {},
   "outputs": [
    {
     "data": {
      "text/plain": [
       "3"
      ]
     },
     "execution_count": 5,
     "metadata": {},
     "output_type": "execute_result"
    }
   ],
   "source": [
    "N = len(net.node_labels)\n",
    "N"
   ]
  },
  {
   "cell_type": "code",
   "execution_count": 6,
   "metadata": {
    "scrolled": true
   },
   "outputs": [
    {
     "data": {
      "text/plain": [
       "(2, 2, 2, 3)"
      ]
     },
     "execution_count": 6,
     "metadata": {},
     "output_type": "execute_result"
    }
   ],
   "source": [
    "tpm.shape"
   ]
  },
  {
   "cell_type": "code",
   "execution_count": 7,
   "metadata": {},
   "outputs": [
    {
     "data": {
      "text/plain": [
       "array([[[[0.271, 0.19 , 0.244],\n",
       "         [0.919, 0.91 , 0.756]],\n",
       "\n",
       "        [[0.919, 0.91 , 0.756],\n",
       "         [0.991, 0.99 , 0.244]]],\n",
       "\n",
       "\n",
       "       [[[0.919, 0.19 , 0.756],\n",
       "         [0.991, 0.91 , 0.244]],\n",
       "\n",
       "        [[0.991, 0.91 , 0.244],\n",
       "         [0.999, 0.99 , 0.756]]]])"
      ]
     },
     "execution_count": 7,
     "metadata": {},
     "output_type": "execute_result"
    }
   ],
   "source": [
    "tpm"
   ]
  },
  {
   "cell_type": "markdown",
   "metadata": {},
   "source": [
    "State-by-State form is 2^N x 2^N  (2=number of states per node)"
   ]
  },
  {
   "cell_type": "code",
   "execution_count": 8,
   "metadata": {},
   "outputs": [
    {
     "data": {
      "text/plain": [
       "(8, 8)"
      ]
     },
     "execution_count": 8,
     "metadata": {},
     "output_type": "execute_result"
    }
   ],
   "source": [
    "sbn = tpm\n",
    "sbs = pyphi.convert.sbn2sbs(tpm)\n",
    "sbs.shape"
   ]
  },
  {
   "cell_type": "code",
   "execution_count": 9,
   "metadata": {},
   "outputs": [
    {
     "data": {
      "text/html": [
       "<div>\n",
       "<style scoped>\n",
       "    .dataframe tbody tr th:only-of-type {\n",
       "        vertical-align: middle;\n",
       "    }\n",
       "\n",
       "    .dataframe tbody tr th {\n",
       "        vertical-align: top;\n",
       "    }\n",
       "\n",
       "    .dataframe thead th {\n",
       "        text-align: right;\n",
       "    }\n",
       "</style>\n",
       "<table border=\"1\" class=\"dataframe\">\n",
       "  <thead>\n",
       "    <tr style=\"text-align: right;\">\n",
       "      <th></th>\n",
       "      <th>0</th>\n",
       "      <th>1</th>\n",
       "      <th>2</th>\n",
       "      <th>3</th>\n",
       "      <th>4</th>\n",
       "      <th>5</th>\n",
       "      <th>6</th>\n",
       "      <th>7</th>\n",
       "    </tr>\n",
       "  </thead>\n",
       "  <tbody>\n",
       "    <tr>\n",
       "      <th>0</th>\n",
       "      <td>0.446410</td>\n",
       "      <td>0.165950</td>\n",
       "      <td>0.104714</td>\n",
       "      <td>0.038926</td>\n",
       "      <td>0.144080</td>\n",
       "      <td>0.053560</td>\n",
       "      <td>0.033796</td>\n",
       "      <td>0.012564</td>\n",
       "    </tr>\n",
       "    <tr>\n",
       "      <th>1</th>\n",
       "      <td>0.016009</td>\n",
       "      <td>0.181631</td>\n",
       "      <td>0.003755</td>\n",
       "      <td>0.042605</td>\n",
       "      <td>0.049601</td>\n",
       "      <td>0.562759</td>\n",
       "      <td>0.011635</td>\n",
       "      <td>0.132005</td>\n",
       "    </tr>\n",
       "    <tr>\n",
       "      <th>2</th>\n",
       "      <td>0.001779</td>\n",
       "      <td>0.020181</td>\n",
       "      <td>0.017985</td>\n",
       "      <td>0.204055</td>\n",
       "      <td>0.005511</td>\n",
       "      <td>0.062529</td>\n",
       "      <td>0.055725</td>\n",
       "      <td>0.632235</td>\n",
       "    </tr>\n",
       "    <tr>\n",
       "      <th>3</th>\n",
       "      <td>0.000612</td>\n",
       "      <td>0.067428</td>\n",
       "      <td>0.006192</td>\n",
       "      <td>0.681768</td>\n",
       "      <td>0.000198</td>\n",
       "      <td>0.021762</td>\n",
       "      <td>0.001998</td>\n",
       "      <td>0.220042</td>\n",
       "    </tr>\n",
       "    <tr>\n",
       "      <th>4</th>\n",
       "      <td>0.001779</td>\n",
       "      <td>0.020181</td>\n",
       "      <td>0.017985</td>\n",
       "      <td>0.204055</td>\n",
       "      <td>0.005511</td>\n",
       "      <td>0.062529</td>\n",
       "      <td>0.055725</td>\n",
       "      <td>0.632235</td>\n",
       "    </tr>\n",
       "    <tr>\n",
       "      <th>5</th>\n",
       "      <td>0.000612</td>\n",
       "      <td>0.067428</td>\n",
       "      <td>0.006192</td>\n",
       "      <td>0.681768</td>\n",
       "      <td>0.000198</td>\n",
       "      <td>0.021762</td>\n",
       "      <td>0.001998</td>\n",
       "      <td>0.220042</td>\n",
       "    </tr>\n",
       "    <tr>\n",
       "      <th>6</th>\n",
       "      <td>0.000068</td>\n",
       "      <td>0.007492</td>\n",
       "      <td>0.006736</td>\n",
       "      <td>0.741704</td>\n",
       "      <td>0.000022</td>\n",
       "      <td>0.002418</td>\n",
       "      <td>0.002174</td>\n",
       "      <td>0.239386</td>\n",
       "    </tr>\n",
       "    <tr>\n",
       "      <th>7</th>\n",
       "      <td>0.000002</td>\n",
       "      <td>0.002438</td>\n",
       "      <td>0.000242</td>\n",
       "      <td>0.241318</td>\n",
       "      <td>0.000008</td>\n",
       "      <td>0.007552</td>\n",
       "      <td>0.000748</td>\n",
       "      <td>0.747692</td>\n",
       "    </tr>\n",
       "  </tbody>\n",
       "</table>\n",
       "</div>"
      ],
      "text/plain": [
       "          0         1         2         3         4         5         6  \\\n",
       "0  0.446410  0.165950  0.104714  0.038926  0.144080  0.053560  0.033796   \n",
       "1  0.016009  0.181631  0.003755  0.042605  0.049601  0.562759  0.011635   \n",
       "2  0.001779  0.020181  0.017985  0.204055  0.005511  0.062529  0.055725   \n",
       "3  0.000612  0.067428  0.006192  0.681768  0.000198  0.021762  0.001998   \n",
       "4  0.001779  0.020181  0.017985  0.204055  0.005511  0.062529  0.055725   \n",
       "5  0.000612  0.067428  0.006192  0.681768  0.000198  0.021762  0.001998   \n",
       "6  0.000068  0.007492  0.006736  0.741704  0.000022  0.002418  0.002174   \n",
       "7  0.000002  0.002438  0.000242  0.241318  0.000008  0.007552  0.000748   \n",
       "\n",
       "          7  \n",
       "0  0.012564  \n",
       "1  0.132005  \n",
       "2  0.632235  \n",
       "3  0.220042  \n",
       "4  0.632235  \n",
       "5  0.220042  \n",
       "6  0.239386  \n",
       "7  0.747692  "
      ]
     },
     "execution_count": 9,
     "metadata": {},
     "output_type": "execute_result"
    }
   ],
   "source": [
    "pd.DataFrame(sbs)"
   ]
  },
  {
   "cell_type": "code",
   "execution_count": 10,
   "metadata": {},
   "outputs": [
    {
     "data": {
      "text/plain": [
       "Network(-7ffff8046c61a1bd): node_connectivity: (3, 3), transitions: (8, 8)"
      ]
     },
     "execution_count": 10,
     "metadata": {},
     "output_type": "execute_result"
    }
   ],
   "source": [
    "# New version of Legacy Network\n",
    "n2 = dm.Network()\n",
    "n2.from_legacy(net)\n",
    "n2"
   ]
  },
  {
   "cell_type": "code",
   "execution_count": 11,
   "metadata": {
    "scrolled": true
   },
   "outputs": [
    {
     "data": {
      "text/html": [
       "<div>\n",
       "<style scoped>\n",
       "    .dataframe tbody tr th:only-of-type {\n",
       "        vertical-align: middle;\n",
       "    }\n",
       "\n",
       "    .dataframe tbody tr th {\n",
       "        vertical-align: top;\n",
       "    }\n",
       "\n",
       "    .dataframe thead th {\n",
       "        text-align: right;\n",
       "    }\n",
       "</style>\n",
       "<table border=\"1\" class=\"dataframe\">\n",
       "  <thead>\n",
       "    <tr style=\"text-align: right;\">\n",
       "      <th></th>\n",
       "      <th>000</th>\n",
       "      <th>001</th>\n",
       "      <th>010</th>\n",
       "      <th>011</th>\n",
       "      <th>100</th>\n",
       "      <th>101</th>\n",
       "      <th>110</th>\n",
       "      <th>111</th>\n",
       "    </tr>\n",
       "  </thead>\n",
       "  <tbody>\n",
       "    <tr>\n",
       "      <th>000</th>\n",
       "      <td>0.446410</td>\n",
       "      <td>0.165950</td>\n",
       "      <td>0.104714</td>\n",
       "      <td>0.038926</td>\n",
       "      <td>0.144080</td>\n",
       "      <td>0.053560</td>\n",
       "      <td>0.033796</td>\n",
       "      <td>0.012564</td>\n",
       "    </tr>\n",
       "    <tr>\n",
       "      <th>001</th>\n",
       "      <td>0.016009</td>\n",
       "      <td>0.181631</td>\n",
       "      <td>0.003755</td>\n",
       "      <td>0.042605</td>\n",
       "      <td>0.049601</td>\n",
       "      <td>0.562759</td>\n",
       "      <td>0.011635</td>\n",
       "      <td>0.132005</td>\n",
       "    </tr>\n",
       "    <tr>\n",
       "      <th>010</th>\n",
       "      <td>0.001779</td>\n",
       "      <td>0.020181</td>\n",
       "      <td>0.017985</td>\n",
       "      <td>0.204055</td>\n",
       "      <td>0.005511</td>\n",
       "      <td>0.062529</td>\n",
       "      <td>0.055725</td>\n",
       "      <td>0.632235</td>\n",
       "    </tr>\n",
       "    <tr>\n",
       "      <th>011</th>\n",
       "      <td>0.000612</td>\n",
       "      <td>0.067428</td>\n",
       "      <td>0.006192</td>\n",
       "      <td>0.681768</td>\n",
       "      <td>0.000198</td>\n",
       "      <td>0.021762</td>\n",
       "      <td>0.001998</td>\n",
       "      <td>0.220042</td>\n",
       "    </tr>\n",
       "    <tr>\n",
       "      <th>100</th>\n",
       "      <td>0.001779</td>\n",
       "      <td>0.020181</td>\n",
       "      <td>0.017985</td>\n",
       "      <td>0.204055</td>\n",
       "      <td>0.005511</td>\n",
       "      <td>0.062529</td>\n",
       "      <td>0.055725</td>\n",
       "      <td>0.632235</td>\n",
       "    </tr>\n",
       "    <tr>\n",
       "      <th>101</th>\n",
       "      <td>0.000612</td>\n",
       "      <td>0.067428</td>\n",
       "      <td>0.006192</td>\n",
       "      <td>0.681768</td>\n",
       "      <td>0.000198</td>\n",
       "      <td>0.021762</td>\n",
       "      <td>0.001998</td>\n",
       "      <td>0.220042</td>\n",
       "    </tr>\n",
       "    <tr>\n",
       "      <th>110</th>\n",
       "      <td>0.000068</td>\n",
       "      <td>0.007492</td>\n",
       "      <td>0.006736</td>\n",
       "      <td>0.741704</td>\n",
       "      <td>0.000022</td>\n",
       "      <td>0.002418</td>\n",
       "      <td>0.002174</td>\n",
       "      <td>0.239386</td>\n",
       "    </tr>\n",
       "    <tr>\n",
       "      <th>111</th>\n",
       "      <td>0.000002</td>\n",
       "      <td>0.002438</td>\n",
       "      <td>0.000242</td>\n",
       "      <td>0.241318</td>\n",
       "      <td>0.000008</td>\n",
       "      <td>0.007552</td>\n",
       "      <td>0.000748</td>\n",
       "      <td>0.747692</td>\n",
       "    </tr>\n",
       "  </tbody>\n",
       "</table>\n",
       "</div>"
      ],
      "text/plain": [
       "          000       001       010       011       100       101       110  \\\n",
       "000  0.446410  0.165950  0.104714  0.038926  0.144080  0.053560  0.033796   \n",
       "001  0.016009  0.181631  0.003755  0.042605  0.049601  0.562759  0.011635   \n",
       "010  0.001779  0.020181  0.017985  0.204055  0.005511  0.062529  0.055725   \n",
       "011  0.000612  0.067428  0.006192  0.681768  0.000198  0.021762  0.001998   \n",
       "100  0.001779  0.020181  0.017985  0.204055  0.005511  0.062529  0.055725   \n",
       "101  0.000612  0.067428  0.006192  0.681768  0.000198  0.021762  0.001998   \n",
       "110  0.000068  0.007492  0.006736  0.741704  0.000022  0.002418  0.002174   \n",
       "111  0.000002  0.002438  0.000242  0.241318  0.000008  0.007552  0.000748   \n",
       "\n",
       "          111  \n",
       "000  0.012564  \n",
       "001  0.132005  \n",
       "010  0.632235  \n",
       "011  0.220042  \n",
       "100  0.632235  \n",
       "101  0.220042  \n",
       "110  0.239386  \n",
       "111  0.747692  "
      ]
     },
     "execution_count": 11,
     "metadata": {},
     "output_type": "execute_result"
    }
   ],
   "source": [
    "n2.tpm"
   ]
  },
  {
   "cell_type": "markdown",
   "metadata": {},
   "source": [
    "### The following acts roughly like [state-by-node form](https://pyphi.readthedocs.io/en/latest/conventions.html#multidimensional-state-by-node-form)\n",
    "But, instead of being high dimensional, its 2 dimensions. Indexed by state given as tuple."
   ]
  },
  {
   "cell_type": "code",
   "execution_count": 12,
   "metadata": {},
   "outputs": [
    {
     "data": {
      "text/html": [
       "<div>\n",
       "<style scoped>\n",
       "    .dataframe tbody tr th:only-of-type {\n",
       "        vertical-align: middle;\n",
       "    }\n",
       "\n",
       "    .dataframe tbody tr th {\n",
       "        vertical-align: top;\n",
       "    }\n",
       "\n",
       "    .dataframe thead th {\n",
       "        text-align: right;\n",
       "    }\n",
       "</style>\n",
       "<table border=\"1\" class=\"dataframe\">\n",
       "  <thead>\n",
       "    <tr style=\"text-align: right;\">\n",
       "      <th></th>\n",
       "      <th>000</th>\n",
       "      <th>001</th>\n",
       "      <th>010</th>\n",
       "      <th>011</th>\n",
       "      <th>100</th>\n",
       "      <th>101</th>\n",
       "      <th>110</th>\n",
       "      <th>111</th>\n",
       "    </tr>\n",
       "  </thead>\n",
       "  <tbody>\n",
       "    <tr>\n",
       "      <th>010</th>\n",
       "      <td>0.001779</td>\n",
       "      <td>0.020181</td>\n",
       "      <td>0.017985</td>\n",
       "      <td>0.204055</td>\n",
       "      <td>0.005511</td>\n",
       "      <td>0.062529</td>\n",
       "      <td>0.055725</td>\n",
       "      <td>0.632235</td>\n",
       "    </tr>\n",
       "  </tbody>\n",
       "</table>\n",
       "</div>"
      ],
      "text/plain": [
       "          000       001       010       011       100       101       110  \\\n",
       "010  0.001779  0.020181  0.017985  0.204055  0.005511  0.062529  0.055725   \n",
       "\n",
       "          111  \n",
       "010  0.632235  "
      ]
     },
     "execution_count": 12,
     "metadata": {},
     "output_type": "execute_result"
    }
   ],
   "source": [
    "n2.tpm.loc[['010']]  # get one row"
   ]
  },
  {
   "cell_type": "code",
   "execution_count": 13,
   "metadata": {},
   "outputs": [
    {
     "data": {
      "text/plain": [
       "array([[0.00177876, 0.02018124, 0.01798524, 0.20405476, 0.00551124,\n",
       "        0.06252876, 0.05572476, 0.63223524]])"
      ]
     },
     "execution_count": 13,
     "metadata": {},
     "output_type": "execute_result"
    }
   ],
   "source": [
    "n2.tpm.loc[['010']].to_numpy()  # get one row"
   ]
  },
  {
   "cell_type": "code",
   "execution_count": 14,
   "metadata": {},
   "outputs": [
    {
     "data": {
      "text/plain": [
       "array([[4.4641044e-01, 1.6594956e-01, 1.0471356e-01, 3.8926440e-02,\n",
       "        1.4407956e-01, 5.3560440e-02, 3.3796440e-02, 1.2563560e-02],\n",
       "       [1.6008840e-02, 1.8163116e-01, 3.7551600e-03, 4.2604840e-02,\n",
       "        4.9601160e-02, 5.6275884e-01, 1.1634840e-02, 1.3200516e-01],\n",
       "       [1.7787600e-03, 2.0181240e-02, 1.7985240e-02, 2.0405476e-01,\n",
       "        5.5112400e-03, 6.2528760e-02, 5.5724760e-02, 6.3223524e-01],\n",
       "       [6.1236000e-04, 6.7427640e-02, 6.1916400e-03, 6.8176836e-01,\n",
       "        1.9764000e-04, 2.1762360e-02, 1.9983600e-03, 2.2004164e-01],\n",
       "       [1.7787600e-03, 2.0181240e-02, 1.7985240e-02, 2.0405476e-01,\n",
       "        5.5112400e-03, 6.2528760e-02, 5.5724760e-02, 6.3223524e-01],\n",
       "       [6.1236000e-04, 6.7427640e-02, 6.1916400e-03, 6.8176836e-01,\n",
       "        1.9764000e-04, 2.1762360e-02, 1.9983600e-03, 2.2004164e-01],\n",
       "       [6.8040000e-05, 7.4919600e-03, 6.7359600e-03, 7.4170404e-01,\n",
       "        2.1960000e-05, 2.4180400e-03, 2.1740400e-03, 2.3938596e-01],\n",
       "       [2.4400000e-06, 2.4375600e-03, 2.4156000e-04, 2.4131844e-01,\n",
       "        7.5600000e-06, 7.5524400e-03, 7.4844000e-04, 7.4769156e-01]])"
      ]
     },
     "execution_count": 14,
     "metadata": {},
     "output_type": "execute_result"
    }
   ],
   "source": [
    "n2.tpm.to_numpy()"
   ]
  },
  {
   "cell_type": "code",
   "execution_count": 15,
   "metadata": {},
   "outputs": [
    {
     "data": {
      "text/html": [
       "<div>\n",
       "<style scoped>\n",
       "    .dataframe tbody tr th:only-of-type {\n",
       "        vertical-align: middle;\n",
       "    }\n",
       "\n",
       "    .dataframe tbody tr th {\n",
       "        vertical-align: top;\n",
       "    }\n",
       "\n",
       "    .dataframe thead th {\n",
       "        text-align: right;\n",
       "    }\n",
       "</style>\n",
       "<table border=\"1\" class=\"dataframe\">\n",
       "  <thead>\n",
       "    <tr style=\"text-align: right;\">\n",
       "      <th></th>\n",
       "      <th>n0</th>\n",
       "      <th>n1</th>\n",
       "      <th>n2</th>\n",
       "    </tr>\n",
       "  </thead>\n",
       "  <tbody>\n",
       "    <tr>\n",
       "      <th>n0</th>\n",
       "      <td>1</td>\n",
       "      <td>0</td>\n",
       "      <td>1</td>\n",
       "    </tr>\n",
       "    <tr>\n",
       "      <th>n1</th>\n",
       "      <td>1</td>\n",
       "      <td>1</td>\n",
       "      <td>1</td>\n",
       "    </tr>\n",
       "    <tr>\n",
       "      <th>n2</th>\n",
       "      <td>1</td>\n",
       "      <td>1</td>\n",
       "      <td>1</td>\n",
       "    </tr>\n",
       "  </tbody>\n",
       "</table>\n",
       "</div>"
      ],
      "text/plain": [
       "    n0  n1  n2\n",
       "n0   1   0   1\n",
       "n1   1   1   1\n",
       "n2   1   1   1"
      ]
     },
     "execution_count": 15,
     "metadata": {},
     "output_type": "execute_result"
    }
   ],
   "source": [
    "n2.cm"
   ]
  },
  {
   "cell_type": "code",
   "execution_count": 16,
   "metadata": {
    "scrolled": true
   },
   "outputs": [
    {
     "data": {
      "text/plain": [
       "array([[0.68893508, 0.40176953],\n",
       "       [0.44095309, 0.84035902],\n",
       "       [0.09975545, 0.58225631],\n",
       "       [0.86475645, 0.18650795],\n",
       "       [0.50721989, 0.86299773],\n",
       "       [0.62045787, 0.90525779],\n",
       "       [0.88270204, 0.46225991],\n",
       "       [0.51548114, 0.89159624]])"
      ]
     },
     "execution_count": 16,
     "metadata": {},
     "output_type": "execute_result"
    }
   ],
   "source": [
    "# Make TPM for 3 inputs, 1 ouput\n",
    "probs = np.array([[0.68893508, 0.40176953],\n",
    "                      [0.44095309, 0.84035902],\n",
    "                      [0.09975545, 0.58225631],\n",
    "                      [0.86475645, 0.18650795],\n",
    "                      [0.50721989, 0.86299773],\n",
    "                      [0.62045787, 0.90525779],\n",
    "                      [0.88270204, 0.46225991],\n",
    "                      [0.51548114, 0.89159624]])\n",
    "probs"
   ]
  },
  {
   "cell_type": "code",
   "execution_count": 17,
   "metadata": {
    "scrolled": true
   },
   "outputs": [
    {
     "data": {
      "text/html": [
       "<div>\n",
       "<style scoped>\n",
       "    .dataframe tbody tr th:only-of-type {\n",
       "        vertical-align: middle;\n",
       "    }\n",
       "\n",
       "    .dataframe tbody tr th {\n",
       "        vertical-align: top;\n",
       "    }\n",
       "\n",
       "    .dataframe thead th {\n",
       "        text-align: right;\n",
       "    }\n",
       "</style>\n",
       "<table border=\"1\" class=\"dataframe\">\n",
       "  <thead>\n",
       "    <tr style=\"text-align: right;\">\n",
       "      <th></th>\n",
       "      <th>0</th>\n",
       "      <th>1</th>\n",
       "    </tr>\n",
       "  </thead>\n",
       "  <tbody>\n",
       "    <tr>\n",
       "      <th>000</th>\n",
       "      <td>0.688935</td>\n",
       "      <td>0.401770</td>\n",
       "    </tr>\n",
       "    <tr>\n",
       "      <th>001</th>\n",
       "      <td>0.440953</td>\n",
       "      <td>0.840359</td>\n",
       "    </tr>\n",
       "    <tr>\n",
       "      <th>010</th>\n",
       "      <td>0.099755</td>\n",
       "      <td>0.582256</td>\n",
       "    </tr>\n",
       "    <tr>\n",
       "      <th>011</th>\n",
       "      <td>0.864756</td>\n",
       "      <td>0.186508</td>\n",
       "    </tr>\n",
       "    <tr>\n",
       "      <th>100</th>\n",
       "      <td>0.507220</td>\n",
       "      <td>0.862998</td>\n",
       "    </tr>\n",
       "    <tr>\n",
       "      <th>101</th>\n",
       "      <td>0.620458</td>\n",
       "      <td>0.905258</td>\n",
       "    </tr>\n",
       "    <tr>\n",
       "      <th>110</th>\n",
       "      <td>0.882702</td>\n",
       "      <td>0.462260</td>\n",
       "    </tr>\n",
       "    <tr>\n",
       "      <th>111</th>\n",
       "      <td>0.515481</td>\n",
       "      <td>0.891596</td>\n",
       "    </tr>\n",
       "  </tbody>\n",
       "</table>\n",
       "</div>"
      ],
      "text/plain": [
       "            0         1\n",
       "000  0.688935  0.401770\n",
       "001  0.440953  0.840359\n",
       "010  0.099755  0.582256\n",
       "011  0.864756  0.186508\n",
       "100  0.507220  0.862998\n",
       "101  0.620458  0.905258\n",
       "110  0.882702  0.462260\n",
       "111  0.515481  0.891596"
      ]
     },
     "execution_count": 17,
     "metadata": {},
     "output_type": "execute_result"
    }
   ],
   "source": [
    "tp = dm.TransProb(list('ABC'),list('D'),probs)\n",
    "tp.df"
   ]
  },
  {
   "cell_type": "code",
   "execution_count": 18,
   "metadata": {},
   "outputs": [
    {
     "name": "stdout",
     "output_type": "stream",
     "text": [
      "in_nodes=['A', 'B', 'C']\n",
      "out_nodes=['D']\n"
     ]
    }
   ],
   "source": [
    "print(f'in_nodes={tp.in_nodes}')\n",
    "print(f'out_nodes={tp.out_nodes}')"
   ]
  },
  {
   "cell_type": "markdown",
   "metadata": {},
   "source": [
    "## Play with following states"
   ]
  },
  {
   "cell_type": "code",
   "execution_count": 19,
   "metadata": {},
   "outputs": [
    {
     "data": {
      "text/html": [
       "<div>\n",
       "<style scoped>\n",
       "    .dataframe tbody tr th:only-of-type {\n",
       "        vertical-align: middle;\n",
       "    }\n",
       "\n",
       "    .dataframe tbody tr th {\n",
       "        vertical-align: top;\n",
       "    }\n",
       "\n",
       "    .dataframe thead th {\n",
       "        text-align: right;\n",
       "    }\n",
       "</style>\n",
       "<table border=\"1\" class=\"dataframe\">\n",
       "  <thead>\n",
       "    <tr style=\"text-align: right;\">\n",
       "      <th></th>\n",
       "      <th>000</th>\n",
       "      <th>001</th>\n",
       "      <th>010</th>\n",
       "      <th>011</th>\n",
       "      <th>100</th>\n",
       "      <th>101</th>\n",
       "      <th>110</th>\n",
       "      <th>111</th>\n",
       "    </tr>\n",
       "  </thead>\n",
       "  <tbody>\n",
       "    <tr>\n",
       "      <th>000</th>\n",
       "      <td>0.446410</td>\n",
       "      <td>0.165950</td>\n",
       "      <td>0.104714</td>\n",
       "      <td>0.038926</td>\n",
       "      <td>0.144080</td>\n",
       "      <td>0.053560</td>\n",
       "      <td>0.033796</td>\n",
       "      <td>0.012564</td>\n",
       "    </tr>\n",
       "    <tr>\n",
       "      <th>001</th>\n",
       "      <td>0.016009</td>\n",
       "      <td>0.181631</td>\n",
       "      <td>0.003755</td>\n",
       "      <td>0.042605</td>\n",
       "      <td>0.049601</td>\n",
       "      <td>0.562759</td>\n",
       "      <td>0.011635</td>\n",
       "      <td>0.132005</td>\n",
       "    </tr>\n",
       "    <tr>\n",
       "      <th>010</th>\n",
       "      <td>0.001779</td>\n",
       "      <td>0.020181</td>\n",
       "      <td>0.017985</td>\n",
       "      <td>0.204055</td>\n",
       "      <td>0.005511</td>\n",
       "      <td>0.062529</td>\n",
       "      <td>0.055725</td>\n",
       "      <td>0.632235</td>\n",
       "    </tr>\n",
       "    <tr>\n",
       "      <th>011</th>\n",
       "      <td>0.000612</td>\n",
       "      <td>0.067428</td>\n",
       "      <td>0.006192</td>\n",
       "      <td>0.681768</td>\n",
       "      <td>0.000198</td>\n",
       "      <td>0.021762</td>\n",
       "      <td>0.001998</td>\n",
       "      <td>0.220042</td>\n",
       "    </tr>\n",
       "    <tr>\n",
       "      <th>100</th>\n",
       "      <td>0.001779</td>\n",
       "      <td>0.020181</td>\n",
       "      <td>0.017985</td>\n",
       "      <td>0.204055</td>\n",
       "      <td>0.005511</td>\n",
       "      <td>0.062529</td>\n",
       "      <td>0.055725</td>\n",
       "      <td>0.632235</td>\n",
       "    </tr>\n",
       "    <tr>\n",
       "      <th>101</th>\n",
       "      <td>0.000612</td>\n",
       "      <td>0.067428</td>\n",
       "      <td>0.006192</td>\n",
       "      <td>0.681768</td>\n",
       "      <td>0.000198</td>\n",
       "      <td>0.021762</td>\n",
       "      <td>0.001998</td>\n",
       "      <td>0.220042</td>\n",
       "    </tr>\n",
       "    <tr>\n",
       "      <th>110</th>\n",
       "      <td>0.000068</td>\n",
       "      <td>0.007492</td>\n",
       "      <td>0.006736</td>\n",
       "      <td>0.741704</td>\n",
       "      <td>0.000022</td>\n",
       "      <td>0.002418</td>\n",
       "      <td>0.002174</td>\n",
       "      <td>0.239386</td>\n",
       "    </tr>\n",
       "    <tr>\n",
       "      <th>111</th>\n",
       "      <td>0.000002</td>\n",
       "      <td>0.002438</td>\n",
       "      <td>0.000242</td>\n",
       "      <td>0.241318</td>\n",
       "      <td>0.000008</td>\n",
       "      <td>0.007552</td>\n",
       "      <td>0.000748</td>\n",
       "      <td>0.747692</td>\n",
       "    </tr>\n",
       "  </tbody>\n",
       "</table>\n",
       "</div>"
      ],
      "text/plain": [
       "          000       001       010       011       100       101       110  \\\n",
       "000  0.446410  0.165950  0.104714  0.038926  0.144080  0.053560  0.033796   \n",
       "001  0.016009  0.181631  0.003755  0.042605  0.049601  0.562759  0.011635   \n",
       "010  0.001779  0.020181  0.017985  0.204055  0.005511  0.062529  0.055725   \n",
       "011  0.000612  0.067428  0.006192  0.681768  0.000198  0.021762  0.001998   \n",
       "100  0.001779  0.020181  0.017985  0.204055  0.005511  0.062529  0.055725   \n",
       "101  0.000612  0.067428  0.006192  0.681768  0.000198  0.021762  0.001998   \n",
       "110  0.000068  0.007492  0.006736  0.741704  0.000022  0.002418  0.002174   \n",
       "111  0.000002  0.002438  0.000242  0.241318  0.000008  0.007552  0.000748   \n",
       "\n",
       "          111  \n",
       "000  0.012564  \n",
       "001  0.132005  \n",
       "010  0.632235  \n",
       "011  0.220042  \n",
       "100  0.632235  \n",
       "101  0.220042  \n",
       "110  0.239386  \n",
       "111  0.747692  "
      ]
     },
     "execution_count": 19,
     "metadata": {},
     "output_type": "execute_result"
    }
   ],
   "source": [
    "sqtpm = n2._tp\n",
    "allstates = list(sqtpm.df.index)\n",
    "sqtpm.df"
   ]
  },
  {
   "cell_type": "markdown",
   "metadata": {},
   "source": [
    "#### Eliminate low probability edges and look at graph\n",
    "Represents above matrix"
   ]
  },
  {
   "cell_type": "code",
   "execution_count": 20,
   "metadata": {},
   "outputs": [
    {
     "data": {
      "image/png": "[encoded data removed]",
      "text/plain": [
       "<IPython.core.display.Image object>"
      ]
     },
     "execution_count": 20,
     "metadata": {},
     "output_type": "execute_result"
    }
   ],
   "source": [
    "sqtpm.graph(pngfile='tpm.png', min_prob=0.05)\n",
    "Image(filename='tpm.png') "
   ]
  },
  {
   "cell_type": "markdown",
   "metadata": {},
   "source": [
    "#### Tranisition probabilities starting at state 001"
   ]
  },
  {
   "cell_type": "code",
   "execution_count": 21,
   "metadata": {},
   "outputs": [
    {
     "data": {
      "text/plain": [
       "000    0.165950\n",
       "001    0.181631\n",
       "010    0.020181\n",
       "011    0.067428\n",
       "100    0.020181\n",
       "101    0.067428\n",
       "110    0.007492\n",
       "111    0.002438\n",
       "Name: 001, dtype: float64"
      ]
     },
     "execution_count": 21,
     "metadata": {},
     "output_type": "execute_result"
    }
   ],
   "source": [
    "sqtpm.df['001']"
   ]
  },
  {
   "cell_type": "markdown",
   "metadata": {},
   "source": [
    "#### Look at actual counts of transitions starting at 001\n",
    "These should roughly match the probabilities above"
   ]
  },
  {
   "cell_type": "code",
   "execution_count": 22,
   "metadata": {},
   "outputs": [
    {
     "data": {
      "text/plain": [
       "[('001', 340),\n",
       " ('000', 312),\n",
       " ('101', 144),\n",
       " ('011', 122),\n",
       " ('100', 36),\n",
       " ('010', 35),\n",
       " ('110', 6),\n",
       " ('111', 5)]"
      ]
     },
     "execution_count": 22,
     "metadata": {},
     "output_type": "execute_result"
    }
   ],
   "source": [
    "c = Counter(sqtpm.next_state(current='001') for i in range(1000))\n",
    "c.most_common()"
   ]
  },
  {
   "cell_type": "markdown",
   "metadata": {},
   "source": [
    "#### Start at given state and track a bunch of transitions"
   ]
  },
  {
   "cell_type": "code",
   "execution_count": 23,
   "metadata": {},
   "outputs": [
    {
     "data": {
      "text/plain": [
       "['000', '000', '000', '000', '000', '000', '000', '000', '000', '000']"
      ]
     },
     "execution_count": 23,
     "metadata": {},
     "output_type": "execute_result"
    }
   ],
   "source": [
    "sqtpm.set_state('001')\n",
    "[sqtpm.next_state() for i in range(10)]"
   ]
  },
  {
   "cell_type": "code",
   "execution_count": 24,
   "metadata": {},
   "outputs": [
    {
     "data": {
      "text/plain": [
       "['011', '110', '010', '000', '000', '000', '000', '000', '001', '101']"
      ]
     },
     "execution_count": 24,
     "metadata": {},
     "output_type": "execute_result"
    }
   ],
   "source": [
    "sqtpm.set_state('011')\n",
    "[sqtpm.next_state() for i in range(10)]"
   ]
  },
  {
   "cell_type": "markdown",
   "metadata": {},
   "source": [
    "#### Trace transitions using all possible starting points"
   ]
  },
  {
   "cell_type": "code",
   "execution_count": 25,
   "metadata": {},
   "outputs": [
    {
     "data": {
      "text/plain": [
       "{'000': ['000', '000', '000', '000', '000', '000', '000', '000', '000', '000'],\n",
       " '001': ['001', '000', '000', '000', '101', '011', '001', '011', '001', '000'],\n",
       " '010': ['000', '000', '000', '010', '000', '011', '000', '101', '100', '000'],\n",
       " '011': ['110', '011', '110', '101', '111', '101', '011', '010', '011', '110'],\n",
       " '100': ['001', '000', '000', '001', '001', '000', '000', '000', '000', '000'],\n",
       " '101': ['001', '001', '000', '000', '010', '100', '001', '001', '001', '001'],\n",
       " '110': ['100', '010', '010', '100', '000', '000', '010', '001', '010', '010'],\n",
       " '111': ['010', '101', '001', '111', '111', '111', '111', '011', '010', '111']}"
      ]
     },
     "execution_count": 25,
     "metadata": {},
     "output_type": "execute_result"
    }
   ],
   "source": [
    "tt = dict([(s,[sqtpm.next_state(current=s) for i in range(10)]) for s in list(allstates)])\n",
    "tt"
   ]
  },
  {
   "cell_type": "code",
   "execution_count": 26,
   "metadata": {
    "scrolled": false
   },
   "outputs": [
    {
     "data": {
      "image/png": "[encoded data removed]",
      "text/plain": [
       "<Figure size 432x288 with 1 Axes>"
      ]
     },
     "metadata": {
      "needs_background": "light"
     },
     "output_type": "display_data"
    },
    {
     "data": {
      "image/png": "[encoded data removed]",
      "text/plain": [
       "<Figure size 432x288 with 1 Axes>"
      ]
     },
     "metadata": {
      "needs_background": "light"
     },
     "output_type": "display_data"
    },
    {
     "data": {
      "image/png": "[encoded data removed]",
      "text/plain": [
       "<Figure size 432x288 with 1 Axes>"
      ]
     },
     "metadata": {
      "needs_background": "light"
     },
     "output_type": "display_data"
    },
    {
     "data": {
      "image/png": "[encoded data removed]",
      "text/plain": [
       "<Figure size 432x288 with 1 Axes>"
      ]
     },
     "metadata": {
      "needs_background": "light"
     },
     "output_type": "display_data"
    },
    {
     "data": {
      "image/png": "[encoded data removed]",
      "text/plain": [
       "<Figure size 432x288 with 1 Axes>"
      ]
     },
     "metadata": {
      "needs_background": "light"
     },
     "output_type": "display_data"
    },
    {
     "data": {
      "image/png": "[encoded data removed]",
      "text/plain": [
       "<Figure size 432x288 with 1 Axes>"
      ]
     },
     "metadata": {
      "needs_background": "light"
     },
     "output_type": "display_data"
    },
    {
     "data": {
      "image/png": "[encoded data removed]",
      "text/plain": [
       "<Figure size 432x288 with 1 Axes>"
      ]
     },
     "metadata": {
      "needs_background": "light"
     },
     "output_type": "display_data"
    },
    {
     "data": {
      "image/png": "[encoded data removed]",
      "text/plain": [
       "<Figure size 432x288 with 1 Axes>"
      ]
     },
     "metadata": {
      "needs_background": "light"
     },
     "output_type": "display_data"
    }
   ],
   "source": [
    "many = dict([(s,[sqtpm.next_state(current=s) for i in range(1000)]) for s in list(allstates)])\n",
    "for start in allstates:\n",
    "    plt.figure()\n",
    "    plt.title(f'Starting at state: {start}')\n",
    "    plt.hist(many[start], bins=len(allstates))"
   ]
  },
  {
   "cell_type": "code",
   "execution_count": null,
   "metadata": {},
   "outputs": [],
   "source": []
  }
 ],
 "metadata": {
  "kernelspec": {
   "display_name": "Python 3",
   "language": "python",
   "name": "python3"
  },
  "language_info": {
   "codemirror_mode": {
    "name": "ipython",
    "version": 3
   },
   "file_extension": ".py",
   "mimetype": "text/x-python",
   "name": "python",
   "nbconvert_exporter": "python",
   "pygments_lexer": "ipython3",
   "version": "3.6.9"
  }
 },
 "nbformat": 4,
 "nbformat_minor": 4
}
