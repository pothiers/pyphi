{
 "cells": [
  {
   "cell_type": "markdown",
   "metadata": {},
   "source": [
    "### From [TPM conventions](https://pyphi.readthedocs.io/en/latest/conventions.html)"
   ]
  },
  {
   "cell_type": "code",
   "execution_count": 1,
   "metadata": {},
   "outputs": [
    {
     "name": "stdout",
     "output_type": "stream",
     "text": [
      "\n",
      "Welcome to PyPhi!\n",
      "\n",
      "If you use PyPhi in your research, please cite the paper:\n",
      "\n",
      "  Mayner WGP, Marshall W, Albantakis L, Findlay G, Marchman R, Tononi G.\n",
      "  (2018). PyPhi: A toolbox for integrated information theory.\n",
      "  PLOS Computational Biology 14(7): e1006343.\n",
      "  https://doi.org/10.1371/journal.pcbi.1006343\n",
      "\n",
      "Documentation is available online (or with the built-in `help()` function):\n",
      "  https://pyphi.readthedocs.io\n",
      "\n",
      "To report issues, please use the issue tracker on the GitHub repository:\n",
      "  https://github.com/wmayner/pyphi\n",
      "\n",
      "For general discussion, you are welcome to join the pyphi-users group:\n",
      "  https://groups.google.com/forum/#!forum/pyphi-users\n",
      "\n",
      "To suppress this message, either:\n",
      "  - Set `WELCOME_OFF: true` in your `pyphi_config.yml` file, or\n",
      "  - Set the environment variable PYPHI_WELCOME_OFF to any value in your shell:\n",
      "        export PYPHI_WELCOME_OFF='yes'\n",
      "\n"
     ]
    }
   ],
   "source": [
    "import numpy as np\n",
    "import pandas as pd\n",
    "import pyphi\n",
    "from pyphi.examples import basic_noisy_selfloop_network\n",
    "\n",
    "import pyphi.TpmClass as tc  # Prototype code"
   ]
  },
  {
   "cell_type": "code",
   "execution_count": 2,
   "metadata": {},
   "outputs": [
    {
     "data": {
      "text/plain": [
       "Network([[[[0.271 0.19  0.244]\n",
       "   [0.919 0.91  0.756]]\n",
       "\n",
       "  [[0.919 0.91  0.756]\n",
       "   [0.991 0.99  0.244]]]\n",
       "\n",
       "\n",
       " [[[0.919 0.19  0.756]\n",
       "   [0.991 0.91  0.244]]\n",
       "\n",
       "  [[0.991 0.91  0.244]\n",
       "   [0.999 0.99  0.756]]]], cm=[[1 0 1]\n",
       " [1 1 1]\n",
       " [1 1 1]])"
      ]
     },
     "execution_count": 2,
     "metadata": {},
     "output_type": "execute_result"
    }
   ],
   "source": [
    "net = basic_noisy_selfloop_network()\n",
    "tpm = net.tpm\n",
    "net"
   ]
  },
  {
   "cell_type": "code",
   "execution_count": 3,
   "metadata": {},
   "outputs": [
    {
     "data": {
      "text/plain": [
       "NodeLabels(('n0', 'n1', 'n2'))"
      ]
     },
     "execution_count": 3,
     "metadata": {},
     "output_type": "execute_result"
    }
   ],
   "source": [
    "net.node_labels"
   ]
  },
  {
   "cell_type": "code",
   "execution_count": 4,
   "metadata": {},
   "outputs": [
    {
     "data": {
      "text/plain": [
       "3"
      ]
     },
     "execution_count": 4,
     "metadata": {},
     "output_type": "execute_result"
    }
   ],
   "source": [
    "N = len(net.node_labels)\n",
    "N"
   ]
  },
  {
   "cell_type": "code",
   "execution_count": 5,
   "metadata": {},
   "outputs": [
    {
     "data": {
      "text/plain": [
       "(2, 2, 2, 3)"
      ]
     },
     "execution_count": 5,
     "metadata": {},
     "output_type": "execute_result"
    }
   ],
   "source": [
    "tpm.shape"
   ]
  },
  {
   "cell_type": "markdown",
   "metadata": {},
   "source": [
    "State-by-State form is 2^N x 2^N  (2=number of states per node)"
   ]
  },
  {
   "cell_type": "code",
   "execution_count": 6,
   "metadata": {},
   "outputs": [
    {
     "data": {
      "text/plain": [
       "(8, 8)"
      ]
     },
     "execution_count": 6,
     "metadata": {},
     "output_type": "execute_result"
    }
   ],
   "source": [
    "sbn = tpm\n",
    "sbs = pyphi.convert.sbn2sbs(tpm)\n",
    "sbs.shape"
   ]
  },
  {
   "cell_type": "code",
   "execution_count": 7,
   "metadata": {},
   "outputs": [],
   "source": [
    "#n2 = tc.Net(sbs,net.cm, node_labels=net.node_labels)\n",
    "n2 = tc.Network(net)"
   ]
  },
  {
   "cell_type": "code",
   "execution_count": 8,
   "metadata": {
    "scrolled": true
   },
   "outputs": [
    {
     "data": {
      "text/html": [
       "<div>\n",
       "<style scoped>\n",
       "    .dataframe tbody tr th:only-of-type {\n",
       "        vertical-align: middle;\n",
       "    }\n",
       "\n",
       "    .dataframe tbody tr th {\n",
       "        vertical-align: top;\n",
       "    }\n",
       "\n",
       "    .dataframe thead th {\n",
       "        text-align: right;\n",
       "    }\n",
       "</style>\n",
       "<table border=\"1\" class=\"dataframe\">\n",
       "  <thead>\n",
       "    <tr style=\"text-align: right;\">\n",
       "      <th></th>\n",
       "      <th>(0, 0, 0)</th>\n",
       "      <th>(0, 0, 1)</th>\n",
       "      <th>(0, 1, 0)</th>\n",
       "      <th>(0, 1, 1)</th>\n",
       "      <th>(1, 0, 0)</th>\n",
       "      <th>(1, 0, 1)</th>\n",
       "      <th>(1, 1, 0)</th>\n",
       "      <th>(1, 1, 1)</th>\n",
       "    </tr>\n",
       "  </thead>\n",
       "  <tbody>\n",
       "    <tr>\n",
       "      <th>(0, 0, 0)</th>\n",
       "      <td>0.446410</td>\n",
       "      <td>0.165950</td>\n",
       "      <td>0.104714</td>\n",
       "      <td>0.038926</td>\n",
       "      <td>0.144080</td>\n",
       "      <td>0.053560</td>\n",
       "      <td>0.033796</td>\n",
       "      <td>0.012564</td>\n",
       "    </tr>\n",
       "    <tr>\n",
       "      <th>(0, 0, 1)</th>\n",
       "      <td>0.016009</td>\n",
       "      <td>0.181631</td>\n",
       "      <td>0.003755</td>\n",
       "      <td>0.042605</td>\n",
       "      <td>0.049601</td>\n",
       "      <td>0.562759</td>\n",
       "      <td>0.011635</td>\n",
       "      <td>0.132005</td>\n",
       "    </tr>\n",
       "    <tr>\n",
       "      <th>(0, 1, 0)</th>\n",
       "      <td>0.001779</td>\n",
       "      <td>0.020181</td>\n",
       "      <td>0.017985</td>\n",
       "      <td>0.204055</td>\n",
       "      <td>0.005511</td>\n",
       "      <td>0.062529</td>\n",
       "      <td>0.055725</td>\n",
       "      <td>0.632235</td>\n",
       "    </tr>\n",
       "    <tr>\n",
       "      <th>(0, 1, 1)</th>\n",
       "      <td>0.000612</td>\n",
       "      <td>0.067428</td>\n",
       "      <td>0.006192</td>\n",
       "      <td>0.681768</td>\n",
       "      <td>0.000198</td>\n",
       "      <td>0.021762</td>\n",
       "      <td>0.001998</td>\n",
       "      <td>0.220042</td>\n",
       "    </tr>\n",
       "    <tr>\n",
       "      <th>(1, 0, 0)</th>\n",
       "      <td>0.001779</td>\n",
       "      <td>0.020181</td>\n",
       "      <td>0.017985</td>\n",
       "      <td>0.204055</td>\n",
       "      <td>0.005511</td>\n",
       "      <td>0.062529</td>\n",
       "      <td>0.055725</td>\n",
       "      <td>0.632235</td>\n",
       "    </tr>\n",
       "    <tr>\n",
       "      <th>(1, 0, 1)</th>\n",
       "      <td>0.000612</td>\n",
       "      <td>0.067428</td>\n",
       "      <td>0.006192</td>\n",
       "      <td>0.681768</td>\n",
       "      <td>0.000198</td>\n",
       "      <td>0.021762</td>\n",
       "      <td>0.001998</td>\n",
       "      <td>0.220042</td>\n",
       "    </tr>\n",
       "    <tr>\n",
       "      <th>(1, 1, 0)</th>\n",
       "      <td>0.000068</td>\n",
       "      <td>0.007492</td>\n",
       "      <td>0.006736</td>\n",
       "      <td>0.741704</td>\n",
       "      <td>0.000022</td>\n",
       "      <td>0.002418</td>\n",
       "      <td>0.002174</td>\n",
       "      <td>0.239386</td>\n",
       "    </tr>\n",
       "    <tr>\n",
       "      <th>(1, 1, 1)</th>\n",
       "      <td>0.000002</td>\n",
       "      <td>0.002438</td>\n",
       "      <td>0.000242</td>\n",
       "      <td>0.241318</td>\n",
       "      <td>0.000008</td>\n",
       "      <td>0.007552</td>\n",
       "      <td>0.000748</td>\n",
       "      <td>0.747692</td>\n",
       "    </tr>\n",
       "  </tbody>\n",
       "</table>\n",
       "</div>"
      ],
      "text/plain": [
       "           (0, 0, 0)  (0, 0, 1)  (0, 1, 0)  (0, 1, 1)  (1, 0, 0)  (1, 0, 1)  \\\n",
       "(0, 0, 0)   0.446410   0.165950   0.104714   0.038926   0.144080   0.053560   \n",
       "(0, 0, 1)   0.016009   0.181631   0.003755   0.042605   0.049601   0.562759   \n",
       "(0, 1, 0)   0.001779   0.020181   0.017985   0.204055   0.005511   0.062529   \n",
       "(0, 1, 1)   0.000612   0.067428   0.006192   0.681768   0.000198   0.021762   \n",
       "(1, 0, 0)   0.001779   0.020181   0.017985   0.204055   0.005511   0.062529   \n",
       "(1, 0, 1)   0.000612   0.067428   0.006192   0.681768   0.000198   0.021762   \n",
       "(1, 1, 0)   0.000068   0.007492   0.006736   0.741704   0.000022   0.002418   \n",
       "(1, 1, 1)   0.000002   0.002438   0.000242   0.241318   0.000008   0.007552   \n",
       "\n",
       "           (1, 1, 0)  (1, 1, 1)  \n",
       "(0, 0, 0)   0.033796   0.012564  \n",
       "(0, 0, 1)   0.011635   0.132005  \n",
       "(0, 1, 0)   0.055725   0.632235  \n",
       "(0, 1, 1)   0.001998   0.220042  \n",
       "(1, 0, 0)   0.055725   0.632235  \n",
       "(1, 0, 1)   0.001998   0.220042  \n",
       "(1, 1, 0)   0.002174   0.239386  \n",
       "(1, 1, 1)   0.000748   0.747692  "
      ]
     },
     "execution_count": 8,
     "metadata": {},
     "output_type": "execute_result"
    }
   ],
   "source": [
    "n2._tpdf"
   ]
  },
  {
   "cell_type": "markdown",
   "metadata": {},
   "source": [
    "### The following acts roughly like [state-by-node form](https://pyphi.readthedocs.io/en/latest/conventions.html#multidimensional-state-by-node-form)\n",
    "But, instead of being high dimensional, its 2 dimensions. Indexed by state given as tuple."
   ]
  },
  {
   "cell_type": "code",
   "execution_count": 9,
   "metadata": {},
   "outputs": [
    {
     "data": {
      "text/html": [
       "<div>\n",
       "<style scoped>\n",
       "    .dataframe tbody tr th:only-of-type {\n",
       "        vertical-align: middle;\n",
       "    }\n",
       "\n",
       "    .dataframe tbody tr th {\n",
       "        vertical-align: top;\n",
       "    }\n",
       "\n",
       "    .dataframe thead th {\n",
       "        text-align: right;\n",
       "    }\n",
       "</style>\n",
       "<table border=\"1\" class=\"dataframe\">\n",
       "  <thead>\n",
       "    <tr style=\"text-align: right;\">\n",
       "      <th></th>\n",
       "      <th>(0, 0, 0)</th>\n",
       "      <th>(0, 0, 1)</th>\n",
       "      <th>(0, 1, 0)</th>\n",
       "      <th>(0, 1, 1)</th>\n",
       "      <th>(1, 0, 0)</th>\n",
       "      <th>(1, 0, 1)</th>\n",
       "      <th>(1, 1, 0)</th>\n",
       "      <th>(1, 1, 1)</th>\n",
       "    </tr>\n",
       "  </thead>\n",
       "  <tbody>\n",
       "    <tr>\n",
       "      <th>(0, 1, 0)</th>\n",
       "      <td>0.001779</td>\n",
       "      <td>0.020181</td>\n",
       "      <td>0.017985</td>\n",
       "      <td>0.204055</td>\n",
       "      <td>0.005511</td>\n",
       "      <td>0.062529</td>\n",
       "      <td>0.055725</td>\n",
       "      <td>0.632235</td>\n",
       "    </tr>\n",
       "  </tbody>\n",
       "</table>\n",
       "</div>"
      ],
      "text/plain": [
       "           (0, 0, 0)  (0, 0, 1)  (0, 1, 0)  (0, 1, 1)  (1, 0, 0)  (1, 0, 1)  \\\n",
       "(0, 1, 0)   0.001779   0.020181   0.017985   0.204055   0.005511   0.062529   \n",
       "\n",
       "           (1, 1, 0)  (1, 1, 1)  \n",
       "(0, 1, 0)   0.055725   0.632235  "
      ]
     },
     "execution_count": 9,
     "metadata": {},
     "output_type": "execute_result"
    }
   ],
   "source": [
    "n2._tpdf.loc[[(0,1,0)]]  # get one row"
   ]
  },
  {
   "cell_type": "code",
   "execution_count": 10,
   "metadata": {},
   "outputs": [
    {
     "data": {
      "text/plain": [
       "array([[0.00177876, 0.02018124, 0.01798524, 0.20405476, 0.00551124,\n",
       "        0.06252876, 0.05572476, 0.63223524]])"
      ]
     },
     "execution_count": 10,
     "metadata": {},
     "output_type": "execute_result"
    }
   ],
   "source": [
    "n2._tpdf.loc[[(0,1,0)]].to_numpy()  # get one row"
   ]
  },
  {
   "cell_type": "code",
   "execution_count": 11,
   "metadata": {},
   "outputs": [
    {
     "data": {
      "text/plain": [
       "array([[4.4641044e-01, 1.6594956e-01, 1.0471356e-01, 3.8926440e-02,\n",
       "        1.4407956e-01, 5.3560440e-02, 3.3796440e-02, 1.2563560e-02],\n",
       "       [1.6008840e-02, 1.8163116e-01, 3.7551600e-03, 4.2604840e-02,\n",
       "        4.9601160e-02, 5.6275884e-01, 1.1634840e-02, 1.3200516e-01],\n",
       "       [1.7787600e-03, 2.0181240e-02, 1.7985240e-02, 2.0405476e-01,\n",
       "        5.5112400e-03, 6.2528760e-02, 5.5724760e-02, 6.3223524e-01],\n",
       "       [6.1236000e-04, 6.7427640e-02, 6.1916400e-03, 6.8176836e-01,\n",
       "        1.9764000e-04, 2.1762360e-02, 1.9983600e-03, 2.2004164e-01],\n",
       "       [1.7787600e-03, 2.0181240e-02, 1.7985240e-02, 2.0405476e-01,\n",
       "        5.5112400e-03, 6.2528760e-02, 5.5724760e-02, 6.3223524e-01],\n",
       "       [6.1236000e-04, 6.7427640e-02, 6.1916400e-03, 6.8176836e-01,\n",
       "        1.9764000e-04, 2.1762360e-02, 1.9983600e-03, 2.2004164e-01],\n",
       "       [6.8040000e-05, 7.4919600e-03, 6.7359600e-03, 7.4170404e-01,\n",
       "        2.1960000e-05, 2.4180400e-03, 2.1740400e-03, 2.3938596e-01],\n",
       "       [2.4400000e-06, 2.4375600e-03, 2.4156000e-04, 2.4131844e-01,\n",
       "        7.5600000e-06, 7.5524400e-03, 7.4844000e-04, 7.4769156e-01]])"
      ]
     },
     "execution_count": 11,
     "metadata": {},
     "output_type": "execute_result"
    }
   ],
   "source": [
    "n2._tpdf.to_numpy()"
   ]
  },
  {
   "cell_type": "code",
   "execution_count": 12,
   "metadata": {},
   "outputs": [
    {
     "data": {
      "text/html": [
       "<div>\n",
       "<style scoped>\n",
       "    .dataframe tbody tr th:only-of-type {\n",
       "        vertical-align: middle;\n",
       "    }\n",
       "\n",
       "    .dataframe tbody tr th {\n",
       "        vertical-align: top;\n",
       "    }\n",
       "\n",
       "    .dataframe thead th {\n",
       "        text-align: right;\n",
       "    }\n",
       "</style>\n",
       "<table border=\"1\" class=\"dataframe\">\n",
       "  <thead>\n",
       "    <tr style=\"text-align: right;\">\n",
       "      <th></th>\n",
       "      <th>n0</th>\n",
       "      <th>n1</th>\n",
       "      <th>n2</th>\n",
       "    </tr>\n",
       "  </thead>\n",
       "  <tbody>\n",
       "    <tr>\n",
       "      <th>n0</th>\n",
       "      <td>1</td>\n",
       "      <td>0</td>\n",
       "      <td>1</td>\n",
       "    </tr>\n",
       "    <tr>\n",
       "      <th>n1</th>\n",
       "      <td>1</td>\n",
       "      <td>1</td>\n",
       "      <td>1</td>\n",
       "    </tr>\n",
       "    <tr>\n",
       "      <th>n2</th>\n",
       "      <td>1</td>\n",
       "      <td>1</td>\n",
       "      <td>1</td>\n",
       "    </tr>\n",
       "  </tbody>\n",
       "</table>\n",
       "</div>"
      ],
      "text/plain": [
       "    n0  n1  n2\n",
       "n0   1   0   1\n",
       "n1   1   1   1\n",
       "n2   1   1   1"
      ]
     },
     "execution_count": 12,
     "metadata": {},
     "output_type": "execute_result"
    }
   ],
   "source": [
    "n2._ncdf"
   ]
  },
  {
   "cell_type": "code",
   "execution_count": 13,
   "metadata": {},
   "outputs": [
    {
     "data": {
      "text/plain": [
       "array([[0.68893508, 0.40176953],\n",
       "       [0.44095309, 0.84035902],\n",
       "       [0.09975545, 0.58225631],\n",
       "       [0.86475645, 0.18650795],\n",
       "       [0.50721989, 0.86299773],\n",
       "       [0.62045787, 0.90525779],\n",
       "       [0.88270204, 0.46225991],\n",
       "       [0.51548114, 0.89159624]])"
      ]
     },
     "execution_count": 13,
     "metadata": {},
     "output_type": "execute_result"
    }
   ],
   "source": [
    "# Make TPM for 3 inputs, 1 ouput\n",
    "probs = np.array([[0.68893508, 0.40176953],\n",
    "                      [0.44095309, 0.84035902],\n",
    "                      [0.09975545, 0.58225631],\n",
    "                      [0.86475645, 0.18650795],\n",
    "                      [0.50721989, 0.86299773],\n",
    "                      [0.62045787, 0.90525779],\n",
    "                      [0.88270204, 0.46225991],\n",
    "                      [0.51548114, 0.89159624]])\n",
    "probs"
   ]
  },
  {
   "cell_type": "code",
   "execution_count": 14,
   "metadata": {},
   "outputs": [
    {
     "data": {
      "text/html": [
       "<div>\n",
       "<style scoped>\n",
       "    .dataframe tbody tr th:only-of-type {\n",
       "        vertical-align: middle;\n",
       "    }\n",
       "\n",
       "    .dataframe tbody tr th {\n",
       "        vertical-align: top;\n",
       "    }\n",
       "\n",
       "    .dataframe thead th {\n",
       "        text-align: right;\n",
       "    }\n",
       "</style>\n",
       "<table border=\"1\" class=\"dataframe\">\n",
       "  <thead>\n",
       "    <tr style=\"text-align: right;\">\n",
       "      <th></th>\n",
       "      <th>(0,)</th>\n",
       "      <th>(1,)</th>\n",
       "    </tr>\n",
       "  </thead>\n",
       "  <tbody>\n",
       "    <tr>\n",
       "      <th>(0, 0, 0)</th>\n",
       "      <td>0.688935</td>\n",
       "      <td>0.401770</td>\n",
       "    </tr>\n",
       "    <tr>\n",
       "      <th>(0, 0, 1)</th>\n",
       "      <td>0.440953</td>\n",
       "      <td>0.840359</td>\n",
       "    </tr>\n",
       "    <tr>\n",
       "      <th>(0, 1, 0)</th>\n",
       "      <td>0.099755</td>\n",
       "      <td>0.582256</td>\n",
       "    </tr>\n",
       "    <tr>\n",
       "      <th>(0, 1, 1)</th>\n",
       "      <td>0.864756</td>\n",
       "      <td>0.186508</td>\n",
       "    </tr>\n",
       "    <tr>\n",
       "      <th>(1, 0, 0)</th>\n",
       "      <td>0.507220</td>\n",
       "      <td>0.862998</td>\n",
       "    </tr>\n",
       "    <tr>\n",
       "      <th>(1, 0, 1)</th>\n",
       "      <td>0.620458</td>\n",
       "      <td>0.905258</td>\n",
       "    </tr>\n",
       "    <tr>\n",
       "      <th>(1, 1, 0)</th>\n",
       "      <td>0.882702</td>\n",
       "      <td>0.462260</td>\n",
       "    </tr>\n",
       "    <tr>\n",
       "      <th>(1, 1, 1)</th>\n",
       "      <td>0.515481</td>\n",
       "      <td>0.891596</td>\n",
       "    </tr>\n",
       "  </tbody>\n",
       "</table>\n",
       "</div>"
      ],
      "text/plain": [
       "               (0,)      (1,)\n",
       "(0, 0, 0)  0.688935  0.401770\n",
       "(0, 0, 1)  0.440953  0.840359\n",
       "(0, 1, 0)  0.099755  0.582256\n",
       "(0, 1, 1)  0.864756  0.186508\n",
       "(1, 0, 0)  0.507220  0.862998\n",
       "(1, 0, 1)  0.620458  0.905258\n",
       "(1, 1, 0)  0.882702  0.462260\n",
       "(1, 1, 1)  0.515481  0.891596"
      ]
     },
     "execution_count": 14,
     "metadata": {},
     "output_type": "execute_result"
    }
   ],
   "source": [
    "tp = tc.TransProb(list('ABC'),list('D'),probs)\n",
    "tp.df"
   ]
  },
  {
   "cell_type": "code",
   "execution_count": 15,
   "metadata": {},
   "outputs": [
    {
     "name": "stdout",
     "output_type": "stream",
     "text": [
      "in_nodes=['A', 'B', 'C']\n",
      "out_nodes=['D']\n"
     ]
    }
   ],
   "source": [
    "print(f'in_nodes={tp.in_nodes}')\n",
    "print(f'out_nodes={tp.out_nodes}')"
   ]
  },
  {
   "cell_type": "code",
   "execution_count": 16,
   "metadata": {},
   "outputs": [
    {
     "data": {
      "text/html": [
       "<style  type=\"text/css\" >\n",
       "</style><table id=\"T_722e0682_720a_11ea_a0bd_004e01b64e9a\" ><thead>    <tr>        <th class=\"blank level0\" ></th>        <th class=\"col_heading level0 col0\" >(0,)</th>        <th class=\"col_heading level0 col1\" >(1,)</th>    </tr></thead><tbody>\n",
       "                <tr>\n",
       "                        <th id=\"T_722e0682_720a_11ea_a0bd_004e01b64e9alevel0_row0\" class=\"row_heading level0 row0\" >(0, 0, 0)</th>\n",
       "                        <td id=\"T_722e0682_720a_11ea_a0bd_004e01b64e9arow0_col0\" class=\"data row0 col0\" >0.688935</td>\n",
       "                        <td id=\"T_722e0682_720a_11ea_a0bd_004e01b64e9arow0_col1\" class=\"data row0 col1\" >0.401770</td>\n",
       "            </tr>\n",
       "            <tr>\n",
       "                        <th id=\"T_722e0682_720a_11ea_a0bd_004e01b64e9alevel0_row1\" class=\"row_heading level0 row1\" >(0, 0, 1)</th>\n",
       "                        <td id=\"T_722e0682_720a_11ea_a0bd_004e01b64e9arow1_col0\" class=\"data row1 col0\" >0.440953</td>\n",
       "                        <td id=\"T_722e0682_720a_11ea_a0bd_004e01b64e9arow1_col1\" class=\"data row1 col1\" >0.840359</td>\n",
       "            </tr>\n",
       "            <tr>\n",
       "                        <th id=\"T_722e0682_720a_11ea_a0bd_004e01b64e9alevel0_row2\" class=\"row_heading level0 row2\" >(0, 1, 0)</th>\n",
       "                        <td id=\"T_722e0682_720a_11ea_a0bd_004e01b64e9arow2_col0\" class=\"data row2 col0\" >0.099755</td>\n",
       "                        <td id=\"T_722e0682_720a_11ea_a0bd_004e01b64e9arow2_col1\" class=\"data row2 col1\" >0.582256</td>\n",
       "            </tr>\n",
       "            <tr>\n",
       "                        <th id=\"T_722e0682_720a_11ea_a0bd_004e01b64e9alevel0_row3\" class=\"row_heading level0 row3\" >(0, 1, 1)</th>\n",
       "                        <td id=\"T_722e0682_720a_11ea_a0bd_004e01b64e9arow3_col0\" class=\"data row3 col0\" >0.864756</td>\n",
       "                        <td id=\"T_722e0682_720a_11ea_a0bd_004e01b64e9arow3_col1\" class=\"data row3 col1\" >0.186508</td>\n",
       "            </tr>\n",
       "            <tr>\n",
       "                        <th id=\"T_722e0682_720a_11ea_a0bd_004e01b64e9alevel0_row4\" class=\"row_heading level0 row4\" >(1, 0, 0)</th>\n",
       "                        <td id=\"T_722e0682_720a_11ea_a0bd_004e01b64e9arow4_col0\" class=\"data row4 col0\" >0.507220</td>\n",
       "                        <td id=\"T_722e0682_720a_11ea_a0bd_004e01b64e9arow4_col1\" class=\"data row4 col1\" >0.862998</td>\n",
       "            </tr>\n",
       "            <tr>\n",
       "                        <th id=\"T_722e0682_720a_11ea_a0bd_004e01b64e9alevel0_row5\" class=\"row_heading level0 row5\" >(1, 0, 1)</th>\n",
       "                        <td id=\"T_722e0682_720a_11ea_a0bd_004e01b64e9arow5_col0\" class=\"data row5 col0\" >0.620458</td>\n",
       "                        <td id=\"T_722e0682_720a_11ea_a0bd_004e01b64e9arow5_col1\" class=\"data row5 col1\" >0.905258</td>\n",
       "            </tr>\n",
       "            <tr>\n",
       "                        <th id=\"T_722e0682_720a_11ea_a0bd_004e01b64e9alevel0_row6\" class=\"row_heading level0 row6\" >(1, 1, 0)</th>\n",
       "                        <td id=\"T_722e0682_720a_11ea_a0bd_004e01b64e9arow6_col0\" class=\"data row6 col0\" >0.882702</td>\n",
       "                        <td id=\"T_722e0682_720a_11ea_a0bd_004e01b64e9arow6_col1\" class=\"data row6 col1\" >0.462260</td>\n",
       "            </tr>\n",
       "            <tr>\n",
       "                        <th id=\"T_722e0682_720a_11ea_a0bd_004e01b64e9alevel0_row7\" class=\"row_heading level0 row7\" >(1, 1, 1)</th>\n",
       "                        <td id=\"T_722e0682_720a_11ea_a0bd_004e01b64e9arow7_col0\" class=\"data row7 col0\" >0.515481</td>\n",
       "                        <td id=\"T_722e0682_720a_11ea_a0bd_004e01b64e9arow7_col1\" class=\"data row7 col1\" >0.891596</td>\n",
       "            </tr>\n",
       "    </tbody></table>"
      ],
      "text/plain": [
       "<pandas.io.formats.style.Styler at 0x7fdf4d5236d8>"
      ]
     },
     "execution_count": 16,
     "metadata": {},
     "output_type": "execute_result"
    }
   ],
   "source": [
    "tp.df.style"
   ]
  },
  {
   "cell_type": "code",
   "execution_count": null,
   "metadata": {},
   "outputs": [],
   "source": []
  }
 ],
 "metadata": {
  "kernelspec": {
   "display_name": "Python 3",
   "language": "python",
   "name": "python3"
  },
  "language_info": {
   "codemirror_mode": {
    "name": "ipython",
    "version": 3
   },
   "file_extension": ".py",
   "mimetype": "text/x-python",
   "name": "python",
   "nbconvert_exporter": "python",
   "pygments_lexer": "ipython3",
   "version": "3.6.9"
  }
 },
 "nbformat": 4,
 "nbformat_minor": 4
}
