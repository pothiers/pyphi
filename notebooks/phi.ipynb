{
 "cells": [
  {
   "cell_type": "markdown",
   "metadata": {},
   "source": [
    "# Running basic phi calculation from pyphi"
   ]
  },
  {
   "cell_type": "code",
   "execution_count": 28,
   "metadata": {},
   "outputs": [],
   "source": [
    "import networkx as nx\n",
    "from networkx.drawing.nx_pydot import pydot_layout\n",
    "import pandas as pd\n",
    "from pprint import pprint as pp\n",
    "import graphiit\n",
    "\n",
    "import pyphi.data_models as dm  # Prototype code\n",
    "from pyphi.zap_tc import Zaptc\n",
    "from pyphi.convert import sbs2sbn, sbn2sbs      "
   ]
  },
  {
   "cell_type": "code",
   "execution_count": 19,
   "metadata": {},
   "outputs": [
    {
     "name": "stderr",
     "output_type": "stream",
     "text": [
      "                                                         "
     ]
    },
    {
     "name": "stdout",
     "output_type": "stream",
     "text": [
      "CPU times: user 24.1 ms, sys: 111 ms, total: 135 ms\n",
      "Wall time: 201 ms\n"
     ]
    },
    {
     "name": "stderr",
     "output_type": "stream",
     "text": [
      "\r"
     ]
    },
    {
     "data": {
      "text/plain": [
       "2.3125"
      ]
     },
     "execution_count": 19,
     "metadata": {},
     "output_type": "execute_result"
    }
   ],
   "source": [
    ">>> import pyphi\n",
    ">>> import numpy as np\n",
    ">>> tpm = np.array([\n",
    "...     [0, 0, 0],\n",
    "...     [0, 0, 1],\n",
    "...     [1, 0, 1],\n",
    "...     [1, 0, 0],\n",
    "...     [1, 1, 0],\n",
    "...     [1, 1, 1],\n",
    "...     [1, 1, 1],\n",
    "...     [1, 1, 0]\n",
    "... ])\n",
    ">>> cm = np.array([\n",
    "...     [0, 0, 1],\n",
    "...     [1, 0, 1],\n",
    "...     [1, 1, 0]\n",
    "... ])\n",
    ">>> labels = ('A', 'B', 'C')\n",
    ">>> network = pyphi.Network(tpm, cm=cm, node_labels=labels)\n",
    ">>> state = (1, 0, 0)\n",
    "# state = (0, 1, 0)  # ERROR\n",
    ">>> node_indices = (0, 1, 2)\n",
    ">>> subsystem = pyphi.Subsystem(network, state, node_indices)\n",
    "\n",
    ">>> %time pyphi.compute.phi(subsystem) # => 2.3125"
   ]
  },
  {
   "cell_type": "code",
   "execution_count": 22,
   "metadata": {
    "scrolled": false
   },
   "outputs": [
    {
     "name": "stderr",
     "output_type": "stream",
     "text": [
      "\r",
      "Computing concepts:   0%|          | 0/7 [00:00<?, ?it/s]"
     ]
    },
    {
     "name": "stdout",
     "output_type": "stream",
     "text": [
      "edges(5)=[('A', 'C'), ('B', 'A'), ('B', 'C'), ('C', 'A'), ('C', 'B')]\n",
      "Name: \n",
      "Type: DiGraph\n",
      "Number of nodes: 3\n",
      "Number of edges: 5\n",
      "Average in degree:   1.6667\n",
      "Average out degree:   1.6667\n",
      "Calculating Φ at state=[1, 0, 0]\n"
     ]
    },
    {
     "name": "stderr",
     "output_type": "stream",
     "text": [
      "                                                         "
     ]
    },
    {
     "name": "stdout",
     "output_type": "stream",
     "text": [
      "CPU times: user 17.8 ms, sys: 108 ms, total: 126 ms\n",
      "Wall time: 151 ms\n"
     ]
    },
    {
     "name": "stderr",
     "output_type": "stream",
     "text": [
      "\r"
     ]
    },
    {
     "data": {
      "text/plain": [
       "2.3125"
      ]
     },
     "execution_count": 22,
     "metadata": {},
     "output_type": "execute_result"
    },
    {
     "data": {
      "image/png": "[encoded data removed]",
      "text/plain": [
       "<Figure size 432x288 with 1 Axes>"
      ]
     },
     "metadata": {},
     "output_type": "display_data"
    }
   ],
   "source": [
    "g=nx.from_numpy_array(cm,create_using=nx.DiGraph)\n",
    "gn3 = dm.Gnet(g, tpm).draw()\n",
    "print(f'edges({len(gn.graph.edges())})={gn.graph.edges()}')\n",
    "print(nx.info(g))\n",
    "#gn.phi(state=(1,0,0))\n",
    "%time gn3.phi(statestr='100')"
   ]
  },
  {
   "cell_type": "markdown",
   "metadata": {},
   "source": [
    "# Contrive network of multiple subgraphs"
   ]
  },
  {
   "cell_type": "markdown",
   "metadata": {},
   "source": [
    "## Example 3 node network"
   ]
  },
  {
   "cell_type": "markdown",
   "metadata": {},
   "source": [
    "### Try one"
   ]
  },
  {
   "cell_type": "code",
   "execution_count": 27,
   "metadata": {},
   "outputs": [
    {
     "name": "stdout",
     "output_type": "stream",
     "text": [
      "cm=\n",
      "[[0. 0. 1.]\n",
      " [1. 0. 1.]\n",
      " [1. 1. 0.]] \n",
      "tpm=\n",
      "[[[[0. 0. 0.]\n",
      "   [1. 1. 0.]]\n",
      "\n",
      "  [[1. 0. 1.]\n",
      "   [1. 1. 1.]]]\n",
      "\n",
      "\n",
      " [[[0. 0. 1.]\n",
      "   [1. 1. 1.]]\n",
      "\n",
      "  [[1. 0. 0.]\n",
      "   [1. 1. 0.]]]]\n"
     ]
    },
    {
     "data": {
      "text/plain": [
       "Network([[[[0. 0. 0.]\n",
       "   [1. 1. 0.]]\n",
       "\n",
       "  [[1. 0. 1.]\n",
       "   [1. 1. 1.]]]\n",
       "\n",
       "\n",
       " [[[0. 0. 1.]\n",
       "   [1. 1. 1.]]\n",
       "\n",
       "  [[1. 0. 0.]\n",
       "   [1. 1. 0.]]]], cm=[[0. 0. 1.]\n",
       " [1. 0. 1.]\n",
       " [1. 1. 0.]])"
      ]
     },
     "execution_count": 27,
     "metadata": {},
     "output_type": "execute_result"
    }
   ],
   "source": [
    "net3 = gn3.legacy_network\n",
    "print(f'cm=\\n{net3._cm} \\ntpm=\\n{net3._tpm}')\n",
    "net3"
   ]
  },
  {
   "cell_type": "code",
   "execution_count": null,
   "metadata": {},
   "outputs": [],
   "source": [
    "edges=[('A', 'C'), ('B', 'A'), ('B', 'C'), ('C', 'A'), ('C', 'B')]\n",
    "G = nx.DiGraph(edges)"
   ]
  },
  {
   "cell_type": "code",
   "execution_count": 21,
   "metadata": {
    "scrolled": true
   },
   "outputs": [
    {
     "name": "stderr",
     "output_type": "stream",
     "text": [
      "\r",
      "Computing concepts:   0%|          | 0/7 [00:00<?, ?it/s]"
     ]
    },
    {
     "name": "stdout",
     "output_type": "stream",
     "text": [
      "Calculating Φ at state=[1, 0, 0]\n"
     ]
    },
    {
     "name": "stderr",
     "output_type": "stream",
     "text": [
      "                                                         "
     ]
    },
    {
     "name": "stdout",
     "output_type": "stream",
     "text": [
      "CPU times: user 15.7 ms, sys: 126 ms, total: 142 ms\n",
      "Wall time: 186 ms\n"
     ]
    },
    {
     "name": "stderr",
     "output_type": "stream",
     "text": [
      "\r"
     ]
    },
    {
     "data": {
      "text/plain": [
       "2.3125"
      ]
     },
     "execution_count": 21,
     "metadata": {},
     "output_type": "execute_result"
    }
   ],
   "source": [
    "%time gn.phi(statestr='100')"
   ]
  },
  {
   "cell_type": "markdown",
   "metadata": {},
   "source": [
    "## Try combined;  4 x (3 node network)"
   ]
  },
  {
   "cell_type": "markdown",
   "metadata": {},
   "source": [
    "gn.graph"
   ]
  },
  {
   "cell_type": "markdown",
   "metadata": {},
   "source": [
    "## Try one"
   ]
  },
  {
   "cell_type": "code",
   "execution_count": 4,
   "metadata": {
    "scrolled": false
   },
   "outputs": [
    {
     "name": "stdout",
     "output_type": "stream",
     "text": [
      "Name: \n",
      "Type: DiGraph\n",
      "Number of nodes: 7\n",
      "Number of edges: 12\n",
      "Average in degree:   1.7143\n",
      "Average out degree:   1.7143\n",
      "discover_tpm of 7 nodes over 10 time_steps\n",
      "edges=[(0, 1), (1, 4), (1, 3), (2, 3), (3, 0), (3, 2), (3, 5), (3, 6), (4, 3), (4, 5), (5, 4), (6, 2)] n_list=[0, 1, 2, 3, 4, 5, 6]\n",
      "Gathering system state transition counts (time=10) ...\n",
      "DONE\n"
     ]
    },
    {
     "name": "stderr",
     "output_type": "stream",
     "text": [
      "\r",
      "Computing concepts:   0%|          | 0/127 [00:00<?, ?it/s]"
     ]
    },
    {
     "name": "stdout",
     "output_type": "stream",
     "text": [
      "Calculating Φ at state=[0, 0, 1, 0, 0, 0, 0]\n"
     ]
    },
    {
     "name": "stderr",
     "output_type": "stream",
     "text": [
      "                                                                      "
     ]
    },
    {
     "name": "stdout",
     "output_type": "stream",
     "text": [
      "CPU times: user 880 ms, sys: 141 ms, total: 1.02 s\n",
      "Wall time: 13.9 s\n"
     ]
    },
    {
     "name": "stderr",
     "output_type": "stream",
     "text": [
      "\r"
     ]
    },
    {
     "data": {
      "text/plain": [
       "9.4e-05"
      ]
     },
     "execution_count": 4,
     "metadata": {},
     "output_type": "execute_result"
    },
    {
     "data": {
      "image/png": "[encoded data removed]",
      "text/plain": [
       "<Figure size 432x288 with 1 Axes>"
      ]
     },
     "metadata": {},
     "output_type": "display_data"
    }
   ],
   "source": [
    "edges = [('A', 'D'), ('B', 'E'), ('C', 'E'), ('C', 'F'), ('D', 'C'), ('D', 'E'), ('E', 'A'), ('E', 'B'), ('E', 'F'), ('E', 'G'), ('F', 'C'), ('G', 'B')]\n",
    "G = nx.DiGraph(edges)\n",
    "print(nx.info(G))\n",
    "gn = dm.Gnet(G).draw()\n",
    "%time gn.phi('0010000')"
   ]
  },
  {
   "cell_type": "code",
   "execution_count": 30,
   "metadata": {},
   "outputs": [
    {
     "data": {
      "text/plain": [
       "NodeView(('A', 'B', 'C'))"
      ]
     },
     "execution_count": 30,
     "metadata": {},
     "output_type": "execute_result"
    }
   ],
   "source": [
    "gn.graph.nodes"
   ]
  },
  {
   "cell_type": "markdown",
   "metadata": {},
   "source": [
    "## Try combined; 3 x (7 node network)"
   ]
  },
  {
   "cell_type": "code",
   "execution_count": 5,
   "metadata": {},
   "outputs": [
    {
     "name": "stdout",
     "output_type": "stream",
     "text": [
      "Name: \n",
      "Type: DiGraph\n",
      "Number of nodes: 21\n",
      "Number of edges: 36\n",
      "Average in degree:   1.7143\n",
      "Average out degree:   1.7143\n",
      "discover_tpm of 21 nodes over 10 time_steps\n",
      "edges=[(0, 1), (1, 4), (1, 3), (2, 3), (3, 0), (3, 2), (3, 5), (3, 6), (4, 3), (4, 5), (5, 4), (6, 2), (7, 8), (8, 11), (8, 10), (9, 10), (10, 7), (10, 9), (10, 12), (10, 13), (11, 10), (11, 12), (12, 11), (13, 9), (14, 15), (15, 18), (15, 17), (16, 17), (17, 14), (17, 16), (17, 19), (17, 20), (18, 17), (18, 19), (19, 18), (20, 16)] n_list=[0, 1, 2, 3, 4, 5, 6, 7, 8, 9, 10, 11, 12, 13, 14, 15, 16, 17, 18, 19, 20]\n",
      "Gathering system state transition counts (time=10) ...\n",
      "DONE\n",
      "edges(36)=[('A', 'B'), ('B', 'E'), ('B', 'D'), ('C', 'D'), ('D', 'A'), ('D', 'C'), ('D', 'F'), ('D', 'G'), ('E', 'D'), ('E', 'F'), ('F', 'E'), ('G', 'C'), ('H', 'I'), ('I', 'L'), ('I', 'K'), ('J', 'K'), ('K', 'H'), ('K', 'J'), ('K', 'M'), ('K', 'N'), ('L', 'K'), ('L', 'M'), ('M', 'L'), ('N', 'J'), ('O', 'P'), ('P', 'S'), ('P', 'R'), ('Q', 'R'), ('R', 'O'), ('R', 'Q'), ('R', 'T'), ('R', 'U'), ('S', 'R'), ('S', 'T'), ('T', 'S'), ('U', 'Q')]\n",
      "Name: \n",
      "Type: DiGraph\n",
      "Number of nodes: 21\n",
      "Number of edges: 36\n",
      "Average in degree:   1.7143\n",
      "Average out degree:   1.7143\n"
     ]
    },
    {
     "data": {
      "image/png": "[encoded data removed]",
      "text/plain": [
       "<Figure size 432x288 with 1 Axes>"
      ]
     },
     "metadata": {},
     "output_type": "display_data"
    }
   ],
   "source": [
    "edges = [('A', 'D'), ('B', 'E'), ('C', 'E'), ('C', 'F'), ('D', 'C'), ('D', 'E'), ('E', 'A'), ('E', 'B'), ('E', 'F'), ('E', 'G'), ('F', 'C'), ('G', 'B')]\n",
    "g = nx.DiGraph(edges)\n",
    "h = nx.DiGraph(edges)\n",
    "#print(nx.info(g))\n",
    "G = nx.disjoint_union(g,h)\n",
    "G = nx.disjoint_union(G,h)\n",
    "print(nx.info(G))\n",
    "gn = dm.Gnet(G).draw()\n",
    "print(f'edges({len(gn.graph.edges())})={gn.graph.edges()}')\n",
    "print(nx.info(G))"
   ]
  },
  {
   "cell_type": "code",
   "execution_count": 6,
   "metadata": {},
   "outputs": [
    {
     "data": {
      "text/html": [
       "<div>\n",
       "<style scoped>\n",
       "    .dataframe tbody tr th:only-of-type {\n",
       "        vertical-align: middle;\n",
       "    }\n",
       "\n",
       "    .dataframe tbody tr th {\n",
       "        vertical-align: top;\n",
       "    }\n",
       "\n",
       "    .dataframe thead th {\n",
       "        text-align: right;\n",
       "    }\n",
       "</style>\n",
       "<table border=\"1\" class=\"dataframe\">\n",
       "  <thead>\n",
       "    <tr style=\"text-align: right;\">\n",
       "      <th></th>\n",
       "      <th>0</th>\n",
       "      <th>1</th>\n",
       "      <th>2</th>\n",
       "      <th>3</th>\n",
       "      <th>4</th>\n",
       "      <th>5</th>\n",
       "      <th>6</th>\n",
       "      <th>7</th>\n",
       "      <th>8</th>\n",
       "      <th>9</th>\n",
       "      <th>...</th>\n",
       "      <th>11</th>\n",
       "      <th>12</th>\n",
       "      <th>13</th>\n",
       "      <th>14</th>\n",
       "      <th>15</th>\n",
       "      <th>16</th>\n",
       "      <th>17</th>\n",
       "      <th>18</th>\n",
       "      <th>19</th>\n",
       "      <th>20</th>\n",
       "    </tr>\n",
       "  </thead>\n",
       "  <tbody>\n",
       "    <tr>\n",
       "      <th>000000000000000000000</th>\n",
       "      <td>0.047619</td>\n",
       "      <td>0.047619</td>\n",
       "      <td>0.047619</td>\n",
       "      <td>0.047619</td>\n",
       "      <td>0.047619</td>\n",
       "      <td>0.047619</td>\n",
       "      <td>0.047619</td>\n",
       "      <td>0.047619</td>\n",
       "      <td>0.047619</td>\n",
       "      <td>0.047619</td>\n",
       "      <td>...</td>\n",
       "      <td>0.047619</td>\n",
       "      <td>0.047619</td>\n",
       "      <td>0.047619</td>\n",
       "      <td>0.047619</td>\n",
       "      <td>0.047619</td>\n",
       "      <td>0.047619</td>\n",
       "      <td>0.047619</td>\n",
       "      <td>0.047619</td>\n",
       "      <td>0.047619</td>\n",
       "      <td>0.047619</td>\n",
       "    </tr>\n",
       "    <tr>\n",
       "      <th>000000000000000000001</th>\n",
       "      <td>0.047619</td>\n",
       "      <td>0.047619</td>\n",
       "      <td>0.047619</td>\n",
       "      <td>0.047619</td>\n",
       "      <td>0.047619</td>\n",
       "      <td>0.047619</td>\n",
       "      <td>0.047619</td>\n",
       "      <td>0.047619</td>\n",
       "      <td>0.047619</td>\n",
       "      <td>0.047619</td>\n",
       "      <td>...</td>\n",
       "      <td>0.047619</td>\n",
       "      <td>0.047619</td>\n",
       "      <td>0.047619</td>\n",
       "      <td>0.047619</td>\n",
       "      <td>0.047619</td>\n",
       "      <td>0.047619</td>\n",
       "      <td>0.047619</td>\n",
       "      <td>0.047619</td>\n",
       "      <td>0.047619</td>\n",
       "      <td>0.047619</td>\n",
       "    </tr>\n",
       "    <tr>\n",
       "      <th>000000000000000000010</th>\n",
       "      <td>0.047619</td>\n",
       "      <td>0.047619</td>\n",
       "      <td>0.047619</td>\n",
       "      <td>0.047619</td>\n",
       "      <td>0.047619</td>\n",
       "      <td>0.047619</td>\n",
       "      <td>0.047619</td>\n",
       "      <td>0.047619</td>\n",
       "      <td>0.047619</td>\n",
       "      <td>0.047619</td>\n",
       "      <td>...</td>\n",
       "      <td>0.047619</td>\n",
       "      <td>0.047619</td>\n",
       "      <td>0.047619</td>\n",
       "      <td>0.047619</td>\n",
       "      <td>0.047619</td>\n",
       "      <td>0.047619</td>\n",
       "      <td>0.047619</td>\n",
       "      <td>0.047619</td>\n",
       "      <td>0.047619</td>\n",
       "      <td>0.047619</td>\n",
       "    </tr>\n",
       "    <tr>\n",
       "      <th>000000000000000000011</th>\n",
       "      <td>0.047619</td>\n",
       "      <td>0.047619</td>\n",
       "      <td>0.047619</td>\n",
       "      <td>0.047619</td>\n",
       "      <td>0.047619</td>\n",
       "      <td>0.047619</td>\n",
       "      <td>0.047619</td>\n",
       "      <td>0.047619</td>\n",
       "      <td>0.047619</td>\n",
       "      <td>0.047619</td>\n",
       "      <td>...</td>\n",
       "      <td>0.047619</td>\n",
       "      <td>0.047619</td>\n",
       "      <td>0.047619</td>\n",
       "      <td>0.047619</td>\n",
       "      <td>0.047619</td>\n",
       "      <td>0.047619</td>\n",
       "      <td>0.047619</td>\n",
       "      <td>0.047619</td>\n",
       "      <td>0.047619</td>\n",
       "      <td>0.047619</td>\n",
       "    </tr>\n",
       "    <tr>\n",
       "      <th>000000000000000000100</th>\n",
       "      <td>0.047619</td>\n",
       "      <td>0.047619</td>\n",
       "      <td>0.047619</td>\n",
       "      <td>0.047619</td>\n",
       "      <td>0.047619</td>\n",
       "      <td>0.047619</td>\n",
       "      <td>0.047619</td>\n",
       "      <td>0.047619</td>\n",
       "      <td>0.047619</td>\n",
       "      <td>0.047619</td>\n",
       "      <td>...</td>\n",
       "      <td>0.047619</td>\n",
       "      <td>0.047619</td>\n",
       "      <td>0.047619</td>\n",
       "      <td>0.047619</td>\n",
       "      <td>0.047619</td>\n",
       "      <td>0.047619</td>\n",
       "      <td>0.047619</td>\n",
       "      <td>0.047619</td>\n",
       "      <td>0.047619</td>\n",
       "      <td>0.047619</td>\n",
       "    </tr>\n",
       "    <tr>\n",
       "      <th>...</th>\n",
       "      <td>...</td>\n",
       "      <td>...</td>\n",
       "      <td>...</td>\n",
       "      <td>...</td>\n",
       "      <td>...</td>\n",
       "      <td>...</td>\n",
       "      <td>...</td>\n",
       "      <td>...</td>\n",
       "      <td>...</td>\n",
       "      <td>...</td>\n",
       "      <td>...</td>\n",
       "      <td>...</td>\n",
       "      <td>...</td>\n",
       "      <td>...</td>\n",
       "      <td>...</td>\n",
       "      <td>...</td>\n",
       "      <td>...</td>\n",
       "      <td>...</td>\n",
       "      <td>...</td>\n",
       "      <td>...</td>\n",
       "      <td>...</td>\n",
       "    </tr>\n",
       "    <tr>\n",
       "      <th>111111111111111111011</th>\n",
       "      <td>0.047619</td>\n",
       "      <td>0.047619</td>\n",
       "      <td>0.047619</td>\n",
       "      <td>0.047619</td>\n",
       "      <td>0.047619</td>\n",
       "      <td>0.047619</td>\n",
       "      <td>0.047619</td>\n",
       "      <td>0.047619</td>\n",
       "      <td>0.047619</td>\n",
       "      <td>0.047619</td>\n",
       "      <td>...</td>\n",
       "      <td>0.047619</td>\n",
       "      <td>0.047619</td>\n",
       "      <td>0.047619</td>\n",
       "      <td>0.047619</td>\n",
       "      <td>0.047619</td>\n",
       "      <td>0.047619</td>\n",
       "      <td>0.047619</td>\n",
       "      <td>0.047619</td>\n",
       "      <td>0.047619</td>\n",
       "      <td>0.047619</td>\n",
       "    </tr>\n",
       "    <tr>\n",
       "      <th>111111111111111111100</th>\n",
       "      <td>0.047619</td>\n",
       "      <td>0.047619</td>\n",
       "      <td>0.047619</td>\n",
       "      <td>0.047619</td>\n",
       "      <td>0.047619</td>\n",
       "      <td>0.047619</td>\n",
       "      <td>0.047619</td>\n",
       "      <td>0.047619</td>\n",
       "      <td>0.047619</td>\n",
       "      <td>0.047619</td>\n",
       "      <td>...</td>\n",
       "      <td>0.047619</td>\n",
       "      <td>0.047619</td>\n",
       "      <td>0.047619</td>\n",
       "      <td>0.047619</td>\n",
       "      <td>0.047619</td>\n",
       "      <td>0.047619</td>\n",
       "      <td>0.047619</td>\n",
       "      <td>0.047619</td>\n",
       "      <td>0.047619</td>\n",
       "      <td>0.047619</td>\n",
       "    </tr>\n",
       "    <tr>\n",
       "      <th>111111111111111111101</th>\n",
       "      <td>0.047619</td>\n",
       "      <td>0.047619</td>\n",
       "      <td>0.047619</td>\n",
       "      <td>0.047619</td>\n",
       "      <td>0.047619</td>\n",
       "      <td>0.047619</td>\n",
       "      <td>0.047619</td>\n",
       "      <td>0.047619</td>\n",
       "      <td>0.047619</td>\n",
       "      <td>0.047619</td>\n",
       "      <td>...</td>\n",
       "      <td>0.047619</td>\n",
       "      <td>0.047619</td>\n",
       "      <td>0.047619</td>\n",
       "      <td>0.047619</td>\n",
       "      <td>0.047619</td>\n",
       "      <td>0.047619</td>\n",
       "      <td>0.047619</td>\n",
       "      <td>0.047619</td>\n",
       "      <td>0.047619</td>\n",
       "      <td>0.047619</td>\n",
       "    </tr>\n",
       "    <tr>\n",
       "      <th>111111111111111111110</th>\n",
       "      <td>0.047619</td>\n",
       "      <td>0.047619</td>\n",
       "      <td>0.047619</td>\n",
       "      <td>0.047619</td>\n",
       "      <td>0.047619</td>\n",
       "      <td>0.047619</td>\n",
       "      <td>0.047619</td>\n",
       "      <td>0.047619</td>\n",
       "      <td>0.047619</td>\n",
       "      <td>0.047619</td>\n",
       "      <td>...</td>\n",
       "      <td>0.047619</td>\n",
       "      <td>0.047619</td>\n",
       "      <td>0.047619</td>\n",
       "      <td>0.047619</td>\n",
       "      <td>0.047619</td>\n",
       "      <td>0.047619</td>\n",
       "      <td>0.047619</td>\n",
       "      <td>0.047619</td>\n",
       "      <td>0.047619</td>\n",
       "      <td>0.047619</td>\n",
       "    </tr>\n",
       "    <tr>\n",
       "      <th>111111111111111111111</th>\n",
       "      <td>0.047619</td>\n",
       "      <td>0.047619</td>\n",
       "      <td>0.047619</td>\n",
       "      <td>0.047619</td>\n",
       "      <td>0.047619</td>\n",
       "      <td>0.047619</td>\n",
       "      <td>0.047619</td>\n",
       "      <td>0.047619</td>\n",
       "      <td>0.047619</td>\n",
       "      <td>0.047619</td>\n",
       "      <td>...</td>\n",
       "      <td>0.047619</td>\n",
       "      <td>0.047619</td>\n",
       "      <td>0.047619</td>\n",
       "      <td>0.047619</td>\n",
       "      <td>0.047619</td>\n",
       "      <td>0.047619</td>\n",
       "      <td>0.047619</td>\n",
       "      <td>0.047619</td>\n",
       "      <td>0.047619</td>\n",
       "      <td>0.047619</td>\n",
       "    </tr>\n",
       "  </tbody>\n",
       "</table>\n",
       "<p>2097152 rows × 21 columns</p>\n",
       "</div>"
      ],
      "text/plain": [
       "                              0         1         2         3         4  \\\n",
       "000000000000000000000  0.047619  0.047619  0.047619  0.047619  0.047619   \n",
       "000000000000000000001  0.047619  0.047619  0.047619  0.047619  0.047619   \n",
       "000000000000000000010  0.047619  0.047619  0.047619  0.047619  0.047619   \n",
       "000000000000000000011  0.047619  0.047619  0.047619  0.047619  0.047619   \n",
       "000000000000000000100  0.047619  0.047619  0.047619  0.047619  0.047619   \n",
       "...                         ...       ...       ...       ...       ...   \n",
       "111111111111111111011  0.047619  0.047619  0.047619  0.047619  0.047619   \n",
       "111111111111111111100  0.047619  0.047619  0.047619  0.047619  0.047619   \n",
       "111111111111111111101  0.047619  0.047619  0.047619  0.047619  0.047619   \n",
       "111111111111111111110  0.047619  0.047619  0.047619  0.047619  0.047619   \n",
       "111111111111111111111  0.047619  0.047619  0.047619  0.047619  0.047619   \n",
       "\n",
       "                              5         6         7         8         9  ...  \\\n",
       "000000000000000000000  0.047619  0.047619  0.047619  0.047619  0.047619  ...   \n",
       "000000000000000000001  0.047619  0.047619  0.047619  0.047619  0.047619  ...   \n",
       "000000000000000000010  0.047619  0.047619  0.047619  0.047619  0.047619  ...   \n",
       "000000000000000000011  0.047619  0.047619  0.047619  0.047619  0.047619  ...   \n",
       "000000000000000000100  0.047619  0.047619  0.047619  0.047619  0.047619  ...   \n",
       "...                         ...       ...       ...       ...       ...  ...   \n",
       "111111111111111111011  0.047619  0.047619  0.047619  0.047619  0.047619  ...   \n",
       "111111111111111111100  0.047619  0.047619  0.047619  0.047619  0.047619  ...   \n",
       "111111111111111111101  0.047619  0.047619  0.047619  0.047619  0.047619  ...   \n",
       "111111111111111111110  0.047619  0.047619  0.047619  0.047619  0.047619  ...   \n",
       "111111111111111111111  0.047619  0.047619  0.047619  0.047619  0.047619  ...   \n",
       "\n",
       "                             11        12        13        14        15  \\\n",
       "000000000000000000000  0.047619  0.047619  0.047619  0.047619  0.047619   \n",
       "000000000000000000001  0.047619  0.047619  0.047619  0.047619  0.047619   \n",
       "000000000000000000010  0.047619  0.047619  0.047619  0.047619  0.047619   \n",
       "000000000000000000011  0.047619  0.047619  0.047619  0.047619  0.047619   \n",
       "000000000000000000100  0.047619  0.047619  0.047619  0.047619  0.047619   \n",
       "...                         ...       ...       ...       ...       ...   \n",
       "111111111111111111011  0.047619  0.047619  0.047619  0.047619  0.047619   \n",
       "111111111111111111100  0.047619  0.047619  0.047619  0.047619  0.047619   \n",
       "111111111111111111101  0.047619  0.047619  0.047619  0.047619  0.047619   \n",
       "111111111111111111110  0.047619  0.047619  0.047619  0.047619  0.047619   \n",
       "111111111111111111111  0.047619  0.047619  0.047619  0.047619  0.047619   \n",
       "\n",
       "                             16        17        18        19        20  \n",
       "000000000000000000000  0.047619  0.047619  0.047619  0.047619  0.047619  \n",
       "000000000000000000001  0.047619  0.047619  0.047619  0.047619  0.047619  \n",
       "000000000000000000010  0.047619  0.047619  0.047619  0.047619  0.047619  \n",
       "000000000000000000011  0.047619  0.047619  0.047619  0.047619  0.047619  \n",
       "000000000000000000100  0.047619  0.047619  0.047619  0.047619  0.047619  \n",
       "...                         ...       ...       ...       ...       ...  \n",
       "111111111111111111011  0.047619  0.047619  0.047619  0.047619  0.047619  \n",
       "111111111111111111100  0.047619  0.047619  0.047619  0.047619  0.047619  \n",
       "111111111111111111101  0.047619  0.047619  0.047619  0.047619  0.047619  \n",
       "111111111111111111110  0.047619  0.047619  0.047619  0.047619  0.047619  \n",
       "111111111111111111111  0.047619  0.047619  0.047619  0.047619  0.047619  \n",
       "\n",
       "[2097152 rows x 21 columns]"
      ]
     },
     "execution_count": 6,
     "metadata": {},
     "output_type": "execute_result"
    }
   ],
   "source": [
    "gn.tpm"
   ]
  },
  {
   "cell_type": "code",
   "execution_count": 18,
   "metadata": {
    "scrolled": false
   },
   "outputs": [
    {
     "name": "stdout",
     "output_type": "stream",
     "text": [
      "Calculating Φ at state=[0, 0, 0, 0, 0, 1, 0, 1, 0, 1, 0, 0, 0, 0, 1, 0, 1, 0, 0, 1, 1]\n",
      "CPU times: user 1.18 s, sys: 168 ms, total: 1.35 s\n",
      "Wall time: 1.35 s\n"
     ]
    },
    {
     "data": {
      "text/plain": [
       "0.0"
      ]
     },
     "execution_count": 18,
     "metadata": {},
     "output_type": "execute_result"
    }
   ],
   "source": [
    "%time gn.phi() # random state"
   ]
  },
  {
   "cell_type": "code",
   "execution_count": 8,
   "metadata": {},
   "outputs": [
    {
     "data": {
      "text/plain": [
       "2097152"
      ]
     },
     "execution_count": 8,
     "metadata": {},
     "output_type": "execute_result"
    }
   ],
   "source": [
    "2**21"
   ]
  },
  {
   "cell_type": "code",
   "execution_count": 9,
   "metadata": {},
   "outputs": [
    {
     "data": {
      "text/plain": [
       "(2097152, 21)"
      ]
     },
     "execution_count": 9,
     "metadata": {},
     "output_type": "execute_result"
    }
   ],
   "source": [
    "gn.tpm.shape"
   ]
  },
  {
   "cell_type": "code",
   "execution_count": null,
   "metadata": {},
   "outputs": [],
   "source": []
  },
  {
   "cell_type": "code",
   "execution_count": 10,
   "metadata": {},
   "outputs": [
    {
     "data": {
      "text/plain": [
       "36"
      ]
     },
     "execution_count": 10,
     "metadata": {},
     "output_type": "execute_result"
    }
   ],
   "source": [
    "len(gn.graph.edges)"
   ]
  },
  {
   "cell_type": "code",
   "execution_count": 11,
   "metadata": {},
   "outputs": [
    {
     "data": {
      "text/plain": [
       "Index(['000000000000000000000', '000000000000000000001',\n",
       "       '000000000000000000010', '000000000000000000011',\n",
       "       '000000000000000000100', '000000000000000000101',\n",
       "       '000000000000000000110', '000000000000000000111',\n",
       "       '000000000000000001000', '000000000000000001001',\n",
       "       ...\n",
       "       '111111111111111110110', '111111111111111110111',\n",
       "       '111111111111111111000', '111111111111111111001',\n",
       "       '111111111111111111010', '111111111111111111011',\n",
       "       '111111111111111111100', '111111111111111111101',\n",
       "       '111111111111111111110', '111111111111111111111'],\n",
       "      dtype='object', length=2097152)"
      ]
     },
     "execution_count": 11,
     "metadata": {},
     "output_type": "execute_result"
    }
   ],
   "source": [
    "gn.tpm.index"
   ]
  },
  {
   "cell_type": "code",
   "execution_count": 12,
   "metadata": {},
   "outputs": [
    {
     "data": {
      "text/plain": [
       "000011010101101011111    True\n",
       "dtype: bool"
      ]
     },
     "execution_count": 12,
     "metadata": {},
     "output_type": "execute_result"
    }
   ],
   "source": [
    "gn.tpm.loc[['000011010101101011111']].any(axis='columns')"
   ]
  },
  {
   "cell_type": "code",
   "execution_count": 13,
   "metadata": {},
   "outputs": [
    {
     "data": {
      "text/plain": [
       "000000000000000000000    True\n",
       "000000000000000000001    True\n",
       "000000000000000000010    True\n",
       "000000000000000000011    True\n",
       "000000000000000000100    True\n",
       "                         ... \n",
       "111111111111111111011    True\n",
       "111111111111111111100    True\n",
       "111111111111111111101    True\n",
       "111111111111111111110    True\n",
       "111111111111111111111    True\n",
       "Length: 2097152, dtype: bool"
      ]
     },
     "execution_count": 13,
     "metadata": {},
     "output_type": "execute_result"
    }
   ],
   "source": [
    "gn.tpm.any(axis='columns')"
   ]
  },
  {
   "cell_type": "markdown",
   "metadata": {},
   "source": [
    "----------------\n",
    "# STOP HERE"
   ]
  },
  {
   "cell_type": "code",
   "execution_count": 14,
   "metadata": {},
   "outputs": [
    {
     "ename": "AssertionError",
     "evalue": "",
     "output_type": "error",
     "traceback": [
      "---------------------------------------------------------------------------",
      "AssertionError                            Traceback (most recent call last)",
      "<ipython-input-14-2f502d8ff0c4> in <module>\n      1 # don't go beyond here with Run All\n----> 2 assert False\n",
      "AssertionError: "
     ]
    }
   ],
   "source": [
    "# don't go beyond here with Run All\n",
    "assert False"
   ]
  },
  {
   "cell_type": "code",
   "execution_count": null,
   "metadata": {},
   "outputs": [],
   "source": [
    "N=7\n",
    "p=0.3\n",
    "S=2\n",
    "G = nx.gnp_random_graph(N, p, directed=True) # num_nodes, prob_edge\n",
    "edges = [('A', 'D'), ('B', 'E'), ('C', 'E'), ('C', 'F'), ('D', 'C'), ('D', 'E'), ('E', 'A'), ('E', 'B'), ('E', 'F'), ('E', 'G'), ('F', 'C'), ('G', 'B')]\n",
    "G = nx.DiGraph()\n",
    "G.add_edges_from(edges)\n",
    "\n",
    "#nx.draw(G, os=pydot_layout(G), with_labels=True)\n",
    "#edges = list(G.edges())\n",
    "#net = dm.Net(edges=edges, SpN=S)\n",
    "gn = dm.Gnet(G).draw()\n",
    "print(f'edges({len(gn.graph.edges())})={gn.graph.edges()}')\n",
    "print(nx.info(G))"
   ]
  },
  {
   "cell_type": "code",
   "execution_count": null,
   "metadata": {
    "scrolled": true
   },
   "outputs": [],
   "source": [
    "#gn.discover_tpm()\n",
    "cur_state = '0' * len(gn.graph)\n",
    "%time gn.phi(statestr=cur_state)"
   ]
  },
  {
   "cell_type": "markdown",
   "metadata": {},
   "source": [
    "### Minimum time"
   ]
  },
  {
   "cell_type": "code",
   "execution_count": null,
   "metadata": {
    "scrolled": false
   },
   "outputs": [],
   "source": [
    "%time gn.phi('1010000')"
   ]
  },
  {
   "cell_type": "markdown",
   "metadata": {},
   "source": [
    "### Maximum time"
   ]
  },
  {
   "cell_type": "code",
   "execution_count": null,
   "metadata": {
    "scrolled": true
   },
   "outputs": [],
   "source": [
    "%time gn.phi('0000010')"
   ]
  },
  {
   "cell_type": "markdown",
   "metadata": {},
   "source": [
    "### Minimum Phi"
   ]
  },
  {
   "cell_type": "code",
   "execution_count": null,
   "metadata": {
    "scrolled": false
   },
   "outputs": [],
   "source": [
    "%time gn.phi('0111111')"
   ]
  },
  {
   "cell_type": "markdown",
   "metadata": {},
   "source": [
    "### Maximum Phi"
   ]
  },
  {
   "cell_type": "code",
   "execution_count": null,
   "metadata": {
    "scrolled": false
   },
   "outputs": [],
   "source": [
    "%time gn.phi('1010000')"
   ]
  },
  {
   "cell_type": "markdown",
   "metadata": {},
   "source": [
    "## Try one"
   ]
  },
  {
   "cell_type": "code",
   "execution_count": null,
   "metadata": {
    "scrolled": false
   },
   "outputs": [],
   "source": [
    "%time gn.phi() # random state"
   ]
  },
  {
   "cell_type": "code",
   "execution_count": null,
   "metadata": {
    "scrolled": true
   },
   "outputs": [],
   "source": [
    "N=7\n",
    "p=0.3\n",
    "S=2\n",
    "G = nx.gnp_random_graph(N, p, directed=True) # num_nodes, prob_edge\n",
    "edges = [('A', 'C'), ('A', 'E'), ('B', 'D'), ('B', 'E'), ('B', 'F'), ('B', 'G'), ('C', 'A'), ('C', 'B'), ('C', 'D'), ('C', 'F'), ('D', 'C'), ('D', 'G'), ('E', 'C'), ('E', 'D'), ('E', 'F'), ('F', 'C'), ('G', 'A'), ('G', 'E')]\n",
    "G = nx.DiGraph()\n",
    "G.add_edges_from(edges)  # Long running (more than 50 minutes?)\n",
    "\n",
    "#nx.draw(G, os=pydot_layout(G), with_labels=True)\n",
    "#edges = list(G.edges())\n",
    "#net = dm.Net(edges=edges, SpN=S)\n",
    "gn = dm.Gnet(G).draw()\n",
    "print(f'edges({len(gn.graph.edges())})={gn.graph.edges()}')\n",
    "print(nx.info(G))"
   ]
  },
  {
   "cell_type": "code",
   "execution_count": null,
   "metadata": {},
   "outputs": [],
   "source": [
    "%time gn.phi() # random state"
   ]
  },
  {
   "cell_type": "code",
   "execution_count": null,
   "metadata": {},
   "outputs": [],
   "source": [
    "gn.discover_tpm()"
   ]
  },
  {
   "cell_type": "code",
   "execution_count": null,
   "metadata": {},
   "outputs": [],
   "source": [
    "%time gn.phi()"
   ]
  },
  {
   "cell_type": "code",
   "execution_count": null,
   "metadata": {},
   "outputs": [],
   "source": []
  }
 ],
 "metadata": {
  "kernelspec": {
   "display_name": "Python 3",
   "language": "python",
   "name": "python3"
  },
  "language_info": {
   "codemirror_mode": {
    "name": "ipython",
    "version": 3
   },
   "file_extension": ".py",
   "mimetype": "text/x-python",
   "name": "python",
   "nbconvert_exporter": "python",
   "pygments_lexer": "ipython3",
   "version": "3.6.9"
  }
 },
 "nbformat": 4,
 "nbformat_minor": 4
}
