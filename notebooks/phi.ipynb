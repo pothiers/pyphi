{
 "cells": [
  {
   "cell_type": "markdown",
   "metadata": {},
   "source": [
    "# Running basic phi calculation from pyphi"
   ]
  },
  {
   "cell_type": "code",
   "execution_count": 1,
   "metadata": {},
   "outputs": [],
   "source": [
    "import networkx as nx\n",
    "from networkx.drawing.nx_pydot import pydot_layout\n",
    "import pandas as pd\n",
    "\n",
    "import pyphi.data_models as dm  # Prototype code\n",
    "from pyphi.zap_tc import Zaptc\n",
    "from pyphi.convert import sbs2sbn, sbn2sbs      "
   ]
  },
  {
   "cell_type": "code",
   "execution_count": 2,
   "metadata": {},
   "outputs": [
    {
     "name": "stderr",
     "output_type": "stream",
     "text": [
      "                                                                               \r"
     ]
    },
    {
     "data": {
      "text/plain": [
       "2.3125"
      ]
     },
     "execution_count": 2,
     "metadata": {},
     "output_type": "execute_result"
    }
   ],
   "source": [
    ">>> import pyphi\n",
    ">>> import numpy as np\n",
    ">>> tpm = np.array([\n",
    "...     [0, 0, 0],\n",
    "...     [0, 0, 1],\n",
    "...     [1, 0, 1],\n",
    "...     [1, 0, 0],\n",
    "...     [1, 1, 0],\n",
    "...     [1, 1, 1],\n",
    "...     [1, 1, 1],\n",
    "...     [1, 1, 0]\n",
    "... ])\n",
    ">>> cm = np.array([\n",
    "...     [0, 0, 1],\n",
    "...     [1, 0, 1],\n",
    "...     [1, 1, 0]\n",
    "... ])\n",
    ">>> labels = ('A', 'B', 'C')\n",
    ">>> network = pyphi.Network(tpm, cm=cm, node_labels=labels)\n",
    ">>> state = (1, 0, 0)\n",
    "# state = (0, 1, 0)  # ERROR\n",
    ">>> node_indices = (0, 1, 2)\n",
    ">>> subsystem = pyphi.Subsystem(network, state, node_indices)\n",
    "\n",
    ">>> pyphi.compute.phi(subsystem) # => 2.3125"
   ]
  },
  {
   "cell_type": "code",
   "execution_count": 3,
   "metadata": {},
   "outputs": [
    {
     "data": {
      "image/png": "[encoded data removed]",
      "text/plain": [
       "<Figure size 432x288 with 1 Axes>"
      ]
     },
     "metadata": {},
     "output_type": "display_data"
    }
   ],
   "source": [
    "g=nx.from_numpy_array(cm,create_using=nx.DiGraph)\n",
    "gn = dm.Gnet(g, tpm).draw()"
   ]
  },
  {
   "cell_type": "code",
   "execution_count": 4,
   "metadata": {},
   "outputs": [
    {
     "data": {
      "text/html": [
       "<div>\n",
       "<style scoped>\n",
       "    .dataframe tbody tr th:only-of-type {\n",
       "        vertical-align: middle;\n",
       "    }\n",
       "\n",
       "    .dataframe tbody tr th {\n",
       "        vertical-align: top;\n",
       "    }\n",
       "\n",
       "    .dataframe thead th {\n",
       "        text-align: right;\n",
       "    }\n",
       "</style>\n",
       "<table border=\"1\" class=\"dataframe\">\n",
       "  <thead>\n",
       "    <tr style=\"text-align: right;\">\n",
       "      <th></th>\n",
       "      <th>A</th>\n",
       "      <th>B</th>\n",
       "      <th>C</th>\n",
       "    </tr>\n",
       "  </thead>\n",
       "  <tbody>\n",
       "    <tr>\n",
       "      <th>000</th>\n",
       "      <td>0</td>\n",
       "      <td>0</td>\n",
       "      <td>0</td>\n",
       "    </tr>\n",
       "    <tr>\n",
       "      <th>001</th>\n",
       "      <td>0</td>\n",
       "      <td>0</td>\n",
       "      <td>1</td>\n",
       "    </tr>\n",
       "    <tr>\n",
       "      <th>010</th>\n",
       "      <td>1</td>\n",
       "      <td>0</td>\n",
       "      <td>1</td>\n",
       "    </tr>\n",
       "    <tr>\n",
       "      <th>011</th>\n",
       "      <td>1</td>\n",
       "      <td>0</td>\n",
       "      <td>0</td>\n",
       "    </tr>\n",
       "    <tr>\n",
       "      <th>100</th>\n",
       "      <td>1</td>\n",
       "      <td>1</td>\n",
       "      <td>0</td>\n",
       "    </tr>\n",
       "    <tr>\n",
       "      <th>101</th>\n",
       "      <td>1</td>\n",
       "      <td>1</td>\n",
       "      <td>1</td>\n",
       "    </tr>\n",
       "    <tr>\n",
       "      <th>110</th>\n",
       "      <td>1</td>\n",
       "      <td>1</td>\n",
       "      <td>1</td>\n",
       "    </tr>\n",
       "    <tr>\n",
       "      <th>111</th>\n",
       "      <td>1</td>\n",
       "      <td>1</td>\n",
       "      <td>0</td>\n",
       "    </tr>\n",
       "  </tbody>\n",
       "</table>\n",
       "</div>"
      ],
      "text/plain": [
       "     A  B  C\n",
       "000  0  0  0\n",
       "001  0  0  1\n",
       "010  1  0  1\n",
       "011  1  0  0\n",
       "100  1  1  0\n",
       "101  1  1  1\n",
       "110  1  1  1\n",
       "111  1  1  0"
      ]
     },
     "execution_count": 4,
     "metadata": {},
     "output_type": "execute_result"
    }
   ],
   "source": [
    "gn.tpm"
   ]
  },
  {
   "cell_type": "code",
   "execution_count": 5,
   "metadata": {},
   "outputs": [
    {
     "data": {
      "text/plain": [
       "array([[0, 0, 0],\n",
       "       [0, 0, 1],\n",
       "       [1, 0, 1],\n",
       "       [1, 0, 0],\n",
       "       [1, 1, 0],\n",
       "       [1, 1, 1],\n",
       "       [1, 1, 1],\n",
       "       [1, 1, 0]])"
      ]
     },
     "execution_count": 5,
     "metadata": {},
     "output_type": "execute_result"
    }
   ],
   "source": [
    "gn.tpm.to_numpy()"
   ]
  },
  {
   "cell_type": "code",
   "execution_count": 6,
   "metadata": {},
   "outputs": [
    {
     "name": "stderr",
     "output_type": "stream",
     "text": [
      "\r",
      "Computing concepts:   0%|                                | 0/7 [00:00<?, ?it/s]"
     ]
    },
    {
     "name": "stdout",
     "output_type": "stream",
     "text": [
      "Calculating Φ at state=[1, 0, 0]\n"
     ]
    },
    {
     "name": "stderr",
     "output_type": "stream",
     "text": [
      "                                                                               \r"
     ]
    },
    {
     "data": {
      "text/plain": [
       "2.3125"
      ]
     },
     "execution_count": 6,
     "metadata": {},
     "output_type": "execute_result"
    },
    {
     "data": {
      "image/png": "[encoded data removed]",
      "text/plain": [
       "<Figure size 432x288 with 1 Axes>"
      ]
     },
     "metadata": {},
     "output_type": "display_data"
    }
   ],
   "source": [
    "g=nx.from_numpy_array(cm,create_using=nx.DiGraph)\n",
    "gn = dm.Gnet(g, tpm).draw()\n",
    "#gn.phi(state=(1,0,0))\n",
    "gn.phi(statestr='100')"
   ]
  },
  {
   "cell_type": "code",
   "execution_count": 7,
   "metadata": {},
   "outputs": [
    {
     "name": "stdout",
     "output_type": "stream",
     "text": [
      "Gathering system state transition counts (time=10) ...\n",
      "DONE\n",
      "Calculating Φ at state=[0, 1, 0, 0, 1, 0]\n"
     ]
    },
    {
     "ename": "TypeError",
     "evalue": "__repr__ returned non-string (type tuple)",
     "output_type": "error",
     "traceback": [
      "---------------------------------------------------------------------------",
      "TypeError                                 Traceback (most recent call last)",
      "<timed eval> in <module>\n",
      "~/sandbox/pyphi/pyphi/data_models.py in phi(self, statestr)\n    853         node_indices = tuple(range(len(self.graph)))\n    854         subsystem = pyphi.Subsystem(self.legacy_network, state, node_indices)\n--> 855         return pyphi.compute.phi(subsystem)\n    856         \n    857 \n",
      "~/sandbox/pyphi/pyphi/compute/subsystem.py in phi(subsystem)\n    357 def phi(subsystem):\n    358     \"\"\"Return the |big_phi| value of a subsystem.\"\"\"\n--> 359     return sia(subsystem).phi\n    360 \n    361 \n",
      "~/sandbox/pyphi/pyphi/compute/subsystem.py in sia(subsystem)\n    352         return sia_concept_style(subsystem)\n    353 \n--> 354     return _sia(_sia_cache_key(subsystem), subsystem)\n    355 \n    356 \n",
      "~/sandbox/pyphi/pyphi/memory.py in wrapper(*args, **kwargs)\n     35             elif config.CACHING_BACKEND == \"db\":\n     36                 f = db_cached\n---> 37             return f(*args, **kwargs)\n     38 \n     39         return wrapper\n",
      "<decorator-gen-843> in _sia(cache_key, subsystem)\n",
      "~/sandbox/pyphi/pyphi/utils.py in time_annotated(func, *args, **kwargs)\n    212     \"\"\"\n    213     start = time()\n--> 214     result = func(*args, **kwargs)\n    215     end = time()\n    216     result.time = round(end - start, config.PRECISION)\n",
      "~/sandbox/pyphi/pyphi/compute/subsystem.py in _sia(cache_key, subsystem)\n    247     # pylint: disable=unused-argument\n    248 \n--> 249     log.info(f\"Calculating big-phi data for {subsystem}...\")\n    250 \n    251     # Check for degenerate cases\n",
      "~/sandbox/pyphi/pyphi/subsystem.py in __str__(self)\n    203 \n    204     def __str__(self):\n--> 205         return repr(self)\n    206 \n    207     def __bool__(self):\n",
      "~/sandbox/pyphi/pyphi/subsystem.py in __repr__(self)\n    200 \n    201     def __repr__(self):\n--> 202         return \"Subsystem(\" + \", \".join(map(repr, self.nodes)) + \")\"\n    203 \n    204     def __str__(self):\n",
      "TypeError: __repr__ returned non-string (type tuple)"
     ]
    },
    {
     "data": {
      "image/png": "[encoded data removed]",
      "text/plain": [
       "<Figure size 432x288 with 1 Axes>"
      ]
     },
     "metadata": {},
     "output_type": "display_data"
    }
   ],
   "source": [
    "g = nx.grid_2d_graph(2, 3, create_using=nx.DiGraph) # num_nodes, num_does\n",
    "gn = dm.Gnet(g).draw()  \n",
    "gn.discover_tpm()\n",
    "%time gn.phi()"
   ]
  },
  {
   "cell_type": "markdown",
   "metadata": {},
   "source": [
    "# STOP HERE"
   ]
  },
  {
   "cell_type": "code",
   "execution_count": 8,
   "metadata": {},
   "outputs": [
    {
     "ename": "AssertionError",
     "evalue": "",
     "output_type": "error",
     "traceback": [
      "---------------------------------------------------------------------------",
      "AssertionError                            Traceback (most recent call last)",
      "<ipython-input-8-2f502d8ff0c4> in <module>\n      1 # don't go beyond here with Run All\n----> 2 assert False\n",
      "AssertionError: "
     ]
    }
   ],
   "source": [
    "# don't go beyond here with Run All\n",
    "assert False"
   ]
  },
  {
   "cell_type": "code",
   "execution_count": null,
   "metadata": {},
   "outputs": [],
   "source": [
    "p = 5  # must be prime for Expander (7 is painfully slow)\n",
    "g = nx.DiGraph(nx.chordal_cycle_graph(p)) # an Expander graph\n",
    "gn = dm.Gnet(g).draw()  # RANDOM tpm\n",
    "gn.discover_tpm()\n",
    "#print(gn.tpm)"
   ]
  },
  {
   "cell_type": "code",
   "execution_count": null,
   "metadata": {
    "scrolled": true
   },
   "outputs": [],
   "source": [
    "%time gn.phi()"
   ]
  },
  {
   "cell_type": "code",
   "execution_count": null,
   "metadata": {},
   "outputs": [],
   "source": [
    "g = nx.gnp_random_graph(5, 0.4, directed=True) # num_nodes, prob_edge\n",
    "gn = dm.Gnet(g).draw()  \n",
    "gn.discover_tpm()\n",
    "%time gn.phi()"
   ]
  },
  {
   "cell_type": "code",
   "execution_count": null,
   "metadata": {},
   "outputs": [],
   "source": [
    "g = nx.gnp_random_graph(5, 0.4, directed=True) # num_nodes, prob_edge\n",
    "gn = dm.Gnet(g).draw()  \n",
    "gn.discover_tpm()\n",
    "%time gn.phi()"
   ]
  },
  {
   "cell_type": "code",
   "execution_count": null,
   "metadata": {},
   "outputs": [],
   "source": [
    "gn.graph"
   ]
  },
  {
   "cell_type": "code",
   "execution_count": null,
   "metadata": {},
   "outputs": [],
   "source": [
    "nx.write_gml(gn.graph,'random_5_40.gml')"
   ]
  },
  {
   "cell_type": "code",
   "execution_count": null,
   "metadata": {},
   "outputs": [],
   "source": [
    "print(nx.info(gn.graph))"
   ]
  },
  {
   "cell_type": "code",
   "execution_count": null,
   "metadata": {},
   "outputs": [],
   "source": [
    "gn.tpm.index"
   ]
  },
  {
   "cell_type": "code",
   "execution_count": null,
   "metadata": {},
   "outputs": [],
   "source": [
    "gn.graph"
   ]
  },
  {
   "cell_type": "code",
   "execution_count": null,
   "metadata": {},
   "outputs": [],
   "source": []
  }
 ],
 "metadata": {
  "kernelspec": {
   "display_name": "Python 3",
   "language": "python",
   "name": "python3"
  },
  "language_info": {
   "codemirror_mode": {
    "name": "ipython",
    "version": 3
   },
   "file_extension": ".py",
   "mimetype": "text/x-python",
   "name": "python",
   "nbconvert_exporter": "python",
   "pygments_lexer": "ipython3",
   "version": "3.6.9"
  }
 },
 "nbformat": 4,
 "nbformat_minor": 4
}
